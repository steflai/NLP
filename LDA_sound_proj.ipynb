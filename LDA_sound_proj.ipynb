{
 "cells": [
  {
   "cell_type": "code",
   "execution_count": 77,
   "metadata": {
    "colab": {
     "base_uri": "https://localhost:8080/",
     "height": 833
    },
    "colab_type": "code",
    "id": "mWc-cmhAfTgn",
    "outputId": "55bf02a1-5cc5-4eb0-982b-cf3136aba471"
   },
   "outputs": [
    {
     "name": "stdout",
     "output_type": "stream",
     "text": [
      "[nltk_data] Downloading collection 'popular'\n",
      "[nltk_data]    | \n",
      "[nltk_data]    | Downloading package cmudict to /root/nltk_data...\n",
      "[nltk_data]    |   Package cmudict is already up-to-date!\n",
      "[nltk_data]    | Downloading package gazetteers to /root/nltk_data...\n",
      "[nltk_data]    |   Package gazetteers is already up-to-date!\n",
      "[nltk_data]    | Downloading package genesis to /root/nltk_data...\n",
      "[nltk_data]    |   Package genesis is already up-to-date!\n",
      "[nltk_data]    | Downloading package gutenberg to /root/nltk_data...\n",
      "[nltk_data]    |   Package gutenberg is already up-to-date!\n",
      "[nltk_data]    | Downloading package inaugural to /root/nltk_data...\n",
      "[nltk_data]    |   Package inaugural is already up-to-date!\n",
      "[nltk_data]    | Downloading package movie_reviews to\n",
      "[nltk_data]    |     /root/nltk_data...\n",
      "[nltk_data]    |   Package movie_reviews is already up-to-date!\n",
      "[nltk_data]    | Downloading package names to /root/nltk_data...\n",
      "[nltk_data]    |   Package names is already up-to-date!\n",
      "[nltk_data]    | Downloading package shakespeare to /root/nltk_data...\n",
      "[nltk_data]    |   Package shakespeare is already up-to-date!\n",
      "[nltk_data]    | Downloading package stopwords to /root/nltk_data...\n",
      "[nltk_data]    |   Package stopwords is already up-to-date!\n",
      "[nltk_data]    | Downloading package treebank to /root/nltk_data...\n",
      "[nltk_data]    |   Package treebank is already up-to-date!\n",
      "[nltk_data]    | Downloading package twitter_samples to\n",
      "[nltk_data]    |     /root/nltk_data...\n",
      "[nltk_data]    |   Package twitter_samples is already up-to-date!\n",
      "[nltk_data]    | Downloading package omw to /root/nltk_data...\n",
      "[nltk_data]    |   Package omw is already up-to-date!\n",
      "[nltk_data]    | Downloading package wordnet to /root/nltk_data...\n",
      "[nltk_data]    |   Package wordnet is already up-to-date!\n",
      "[nltk_data]    | Downloading package wordnet_ic to /root/nltk_data...\n",
      "[nltk_data]    |   Package wordnet_ic is already up-to-date!\n",
      "[nltk_data]    | Downloading package words to /root/nltk_data...\n",
      "[nltk_data]    |   Package words is already up-to-date!\n",
      "[nltk_data]    | Downloading package maxent_ne_chunker to\n",
      "[nltk_data]    |     /root/nltk_data...\n",
      "[nltk_data]    |   Package maxent_ne_chunker is already up-to-date!\n",
      "[nltk_data]    | Downloading package punkt to /root/nltk_data...\n",
      "[nltk_data]    |   Package punkt is already up-to-date!\n",
      "[nltk_data]    | Downloading package snowball_data to\n",
      "[nltk_data]    |     /root/nltk_data...\n",
      "[nltk_data]    |   Package snowball_data is already up-to-date!\n",
      "[nltk_data]    | Downloading package averaged_perceptron_tagger to\n",
      "[nltk_data]    |     /root/nltk_data...\n",
      "[nltk_data]    |   Package averaged_perceptron_tagger is already up-\n",
      "[nltk_data]    |       to-date!\n",
      "[nltk_data]    | \n",
      "[nltk_data]  Done downloading collection popular\n"
     ]
    }
   ],
   "source": [
    "from gensim.models import LdaModel, LdaMulticore\n",
    "import gensim.downloader as api\n",
    "from gensim.utils import simple_preprocess, lemmatize\n",
    "import nltk\n",
    "nltk.download(\"popular\")\n",
    "from nltk.corpus import stopwords\n",
    "import re\n",
    "import logging\n",
    "logging.basicConfig(format='%(asctime)s : %(levelname)s : %(message)s')\n",
    "logging.root.setLevel(level=logging.INFO)\n",
    "stop_words = stopwords.words('english')\n",
    "stop_words = stop_words + ['com', 'edu', 'subject', 'lines', 'organization', 'would', 'article', 'could', 'um', 'im']"
   ]
  },
  {
   "cell_type": "code",
   "execution_count": 0,
   "metadata": {
    "colab": {},
    "colab_type": "code",
    "id": "M4KrJEjBh2c9"
   },
   "outputs": [],
   "source": [
    "text_file = open('sound_proj.txt', 'r')"
   ]
  },
  {
   "cell_type": "code",
   "execution_count": 0,
   "metadata": {
    "colab": {},
    "colab_type": "code",
    "id": "6I26rL8GiMag"
   },
   "outputs": [],
   "source": [
    "text1 = text_file.read()\n",
    "text_file.close()"
   ]
  },
  {
   "cell_type": "code",
   "execution_count": 6,
   "metadata": {
    "colab": {
     "base_uri": "https://localhost:8080/",
     "height": 54
    },
    "colab_type": "code",
    "id": "y81uW25_iYFD",
    "outputId": "77a5eb8d-0452-4cc0-e08a-b319c123a875"
   },
   "outputs": [
    {
     "data": {
      "text/plain": [
       "\"\\ufeffI think it's just a familiarity knowing people from my TV and my, my playstation, which I don't actually even use that that much. Oh yeah. I mean the TV, TV and the soap, but it's probably the biggest thing. Yeah. Yeah. Well, I mean if nothing said that I just worked a high pay or rather how much are you going to call it? Shipping, going to cost to replace it. Cheaper to ship. But it's also quite nice actually been around the world with us. That was nice enough. It's to be a sofa. It's a Brown Leather Sofa that we bought when we bought her house. The only household overrode that we probably run run everywhere. I've been so, so yeah. So that's kind of, that's really the only thing we've actually. Everything else is kind of actually, that's one of the more refreshing things. But moving is uh, being able to chuck away a lot. \\nSo I mean I guess it's different for different people. I personally don't find that I have too many sentimental attachments to things, so although I am not great to chucking things away, so it's actually, it's a really good cut, a notch to just get rid of a lot of stuff. So yeah, the amount of stuff we chapter away, every type of mood because it gives us a chance to accumulate more stuff in the new location. But uh, in terms of back to I guess what, what makes it feel more, hopefully it's just getting used to the surroundings, kinda getting to know a few people. Um, just, just something as silly as you can go somewhere and you don't know exactly how to get there, but you don't need to look up on Google maps. And uh, I mean I'm still learning that with places in New York because it's, it's huge, but I can kind of, I can get my way up to the way uptown and I don't need to look at Mac. And it's great though. That's kind of kind of weird thing and it's, it doesn't matter because Google maps is so easy or whatever. \\nHe's one of those things that makes you feel like when I first moved here was pretty near the entrance to the Brooklyn Bridge on the Brooklyn side. Um, and uh, I constantly bumping into tourists because there's loads of tourists coming off the bridge. They're getting lost and one thing that kind of made to feel kind of more parts of parts of New York rather than a visitor was when people are asking you for directions and you can actually tell them such and such a street is I don't know how you get back on the bridge and it's kind of such a silly thing and it's almost, it could be viewed as one of the tourists, but somebody mistakes. I'm not really sure what that means. I suppose in certain aspects. Maybe think of it. Think of it as hope now. I don't know. It's difficult question. I really don't know. I suppose it depends what, what being in New York, I don't want to live here and I've got no immediate plans to move. Some people I'm sure have kind of very strict definitions of, oh, you, you must never left here. I've only been on holiday for three days or something stupid like that. \\nI don't know. That really matter. \\nI think it depends on the context. I mean I'm kind of. So I was born in Scotland and I'm half French, so French and the carry French passport. My family all lives in France and I've lived in England and Canada, Asia and then over in America. So. So if it comes to football and by this I mean proper silly American. I identify as French. I always have done, but if it comes to I guess maybe culturally, partly Scottish friend, but in terms of where have. I mean I don't know if I have some that I think of as my kind of ancestral health. Yeah. Because I mean I grew up in Edinburgh but don't have any family there anymore. I haven't been there in 10 years and even when I was there, um, I hadn't been there in 10 years at that point and he changed so much. \\nIt was unrecognizable. I mean, a Scotland's kind of has, has had devolution since I lived there and they've got their own parliament and it is a completely different place. So the last time I went back there I, it, it wasn't completely alien, but it felt like any other city that I knew, but, but, but no, I didn't know everywhere. I mean there were always, you know, things had changed so much. But uh, I don't, I don't really have that. I, something like that anymore. It's just kind of kind of weird and I don't even know if it's a bad thing. Probably not, it's just, it's just one of those things. It doesn't really matter because when I, you know, if I go back to see my family, I go back to where they are. I don't go back to see the planes, the place I go back because they're, they're, so, they're in a different place and a, I have to go slightly to see my sisters. But uh, it was, yeah, \\nif you had to, just like hypothetical, you're thinking about moving to a new city, moving somewhere where you don't know if people you don't know how things work. How, how do you feel about that? \\nGreat. I was just, I just had this conversation yesterday and I feel like I just kind of reached a point here where I know all everything is and like where I have friends that, I mean I, one of my really close friends, \\nwhat am I really good friends told me yesterday that she's moving to Chicago and that's really depressing because we spend a lot of time and it's really great. And that's the next thing about New York is that she's the fourth person this year that I'm really close with moves away. And that's something that I feel is a very New York thing that people come here for a certain period of time, through whatever circumstance. And some of them just want to be in New York, but then the pace is too fast or they just don't find something that they love or they miss their families or for whatever reason they move back or they move somewhere else. And that's hard because I feel like New York, I totally get that. It can be a city that is great for a couple of years, especially if you work on a contract and then your contract takes you somewhere else. So it's definitely be good in a lot of jobs to have that on your resume that you worked in New York or to just have the experience but it's a city that has kind of always on the move, like it changes and people come and go. And that's kind of a hard part if you bond with people. And the funny thing is that just when I moved here and someone actually told me that they were like, is this still going? Yeah, they told me that \\npeople move along. It's true. \\nWhat's funny is that in Austria you don't really talk to people on the street, like you don't really compliment people on their clothes are on their shoes and I kind of always did that and people in New York always gave me like a dirty look or a side eye, but I just liked telling people if I think and like not in a creepy way but just if you say to someone, hey, it's just a really nice. Or sometimes I ask people I'm a, this is a really nice piece. Where can I ask what the designer is? Just because I mean to design it I'm interested in also is not really something you do and people think you're weird and here people just tell you. The more people tell me and I think at some point I realized like I, I talk a lot to people on that. \\nIt's really funny when you were actually added stop the train never fucking talks and you realize how frequently do I talk to this person? Do I not do this? I'll just talk to this person. And then one thing that was really great was I can be a really interesting feature in your, you can tell when it's loud. Yeah. It's \\nfunny because I'm often, I feel like you're a, you read about New York, it's so big. And if people are really rude and like don't care. And I feel like that's really not true. People are just really focused and everyone's hustling really hard. So they are, I think just very picky about what they spend their time with, which I also now know, like I, I'm not, I am picky about what I do on the days that I have time or on my nights, you know. But um, I cried on the subway like I think a couple times. I actually probably, um, and every time someone offers help, like very unexpectedly for me, you know, like one time a woman from across this, the wagon basically she was on her way out the subway and she gave me some tissues or a very old guy patted my shoulder and said, we've all been there. \\nWe've all been there, you know. And it's, it's really. Or at one time, two women, they were talking, they were standing in front of me. So this was two different incidents is basically a. She bent down and she said, whatever is bothering you, I hope you'll be fine, you know, and she kind of patted my shoulder and that's, that's really something that can be really helpful and really sweet and I've also like given tissues to people that were crying somewhere just because I feel like that's just showing like a little bit of kindness or a little bit of support around understanding even if I have no idea who they are, what's bothering them, but it's just this kind of like you're not alone, you'll be fine kind of thing. And I noticed that I'm like really trying to help people just because most of the time it's not taking away from my time or my whatever I'm doing. \\nIt's just, it's a big city and people get lost or feel lonely. And I felt lonely in the first year especially. And I still sometimes do because it's very isolating I think to move somewhere when you're by yourself and you have no framework in a sense of like you have a job or you have you. It's kind of like building everything and then the people back home totally don't understand what you're going through and our smart ass around because they've been to New York on a vacation and they think how they know how everything is, don't like watching TV shows and it's just not like that for the record or people here don't know anything about Osteo or life in Austria or my first 35 years of my life. So it's kind of like I'm in between. I understand what's going on and of course it's like the most important to me because it's about me so. \\nBut nobody else gets it. So I feel like it's important to kind of lend an ear if you can or to extend your hand if you can. Sure. And it actually, when you think about it, yeah, it doesn't, it doesn't take time. It doesn't take away from whatever you're doing. If you just for a second, listen, if someone has to say something or if you're just, I give dollars to people or I buy sandwiches for homeless people because it's not, it's 2.50 for cream cheese, Bagel and it might be the one thing this person needs, you know, and I feel more comfortable giving food and money, but yeah, I don't know, I just think a city like that works when people support each other and I mean you can always be improved but I feel like everyone can do their thing to kind of see what they want to help with \\nonce in a while, just like please or alarm fire alarm going on. I like doing it so often the fire alarm is off. I was in the library a lot and always just all the alarms off off. Not all. And in factories like working and the sound of making stuff. Sound sounded like promoting music and neighborhood and people like sort of playing different music and a car passing. Passing by. Yeah. Like playing this old George. Yeah. I'm guilty of that because I have, I have a speaker. Like sometimes I use a, my and Jeff's car has like a pretty good scenario, like we like turn on the music and in the city you don't feel bad. No, everyone's making noise anyway. Yeah. But also like when you think about it at, you're carrying that music to sound and you're moving. Oh yeah. So the sound moves with you when you leave a little bit behind. \\nThat is eventually the way that gold was. You tell your like spreading something over, but you're not putting listening. Let's say you're not doing like one spot. Yeah. You're like a little cloud of sound. Like you're pretty funny. Make sense around what trained is that? Is the, that might be the d train. That's like the d or the Q that goes over the bridge. Rise the AC and the AFCO on the ground. Yes, I was. I was wondering. I thought my tray of, because I've trained going overground of after forest avenue. Nice miss seven new Carl Carl our gardens. So I felt that isn't Manhattan Bridge for some reason because it's overpriced and I don't remember seeing water and I was so excited. Today I'm going to walk rather than taking a train and I'm going to wave to my train the bridge, but then I realized is my train probably. \\nNo. Yeah, yeah. You have to get on earlier. You have to get on either Atlantic center or Dekalb and then that's the d train. They'll go over the bridge and then you can go past my building. Then you can see the Brooklyn Bridge. Yeah, and you can see the view. This is part of the Manhattan bridge. This is the Manhattan Bridge and then on that side, the bike path is on this side. Oh, I see. Oh, I see. Actually the pedestrian view is really nice because the pedestrian view, you get to see the Brooklyn Bridge and I think you can see the statue of Liberty. \\nHave you seen it yet? I have, yeah. Did you feel that you are being embraced and like gave me the. Gave me the way, give me the four and give me everything and that's like a. like our ancestors a hundred years ago felt safe. What one might say? Well, looking at the statue of liberty and that's like a welcome immigrants and everybody to a new land. Do you think that's. What makes you feel? I haven't seen it yet. I haven't seen the circularity. I know. No, I mean I haven't talked to. I haven't been like really close to a distance but I see I see it from postcard a lot. Yeah, if you see if you walk across the bridge you'll see it. And I came here for Grad School. I always wanted to go abroad to for school, but \\nit just, for some reason I only came here for Grad school and then my Grad school was really fun. Um, it was actually much more interesting but the amount of bread I think and I really got to know the city because I was doing like local reporting a different neighborhoods. So I, I really fell in love with New York City I think. And then. But I call that the honeymoon period when New York City. I feel like I'm past that. And now I'm like, what's the honeymoon period of years when I was in school? How long you were in school because you had just gotten to the safe because for a lot of reasons because I had just got to the city, I had a lot of friends in school and then, um, uh, I had a lot of opportunities to do stories and get to know the neighborhood, but now because one of the reasons that so many of my friends left, they moved back or did they move to other cities? \\nIt feels like nobody stays in New York City and that's why I felt like went honeymoon with the city is like, is has ended and then I don't think I, I'm, I've ever made the decision that, okay, I'm going to stay forever here. It's also just a series of random things that happened and I feel like I make a lot of irrational decisions in my life. Uh, what's the most recent one? I did so many international. I'm still trying to figure out how to deepen my quarter life crisis. So after Grad school I thought I had one year of internship, so I just look for an internship and then I got this internship at courts. And then I stayed for the job and then also there were so many of these issues and then so they ended up helping me getting a work visa and I did that and then after two years and I just felt a little stuck, so I decided to talk to them about, it was a very complicated visa issues. \\nAnd then also I start dating a guy here and then it became more stable. So I think that's also one of the reasons why I decided to stay here temporarily. Um, but like I said, it's never because my family's there. I mean there's a lot of things. I feel like it just never, it's never the same player. I kinda have a lot of friends are cool and do cool stuff. But I also, this year my mom got sick so that's when I really started thinking about, okay, do I want to go back permanently? But like you said, like what banks easy. So that decision you always want to make sure that you're not going to regret, you go home. And then, um, because if you go home you come, it's really hard to come back. I think, um, like my friend of mine just left last week and it was very sudden because I thought he's going to stay here forever because his girlfriend hates going back and I think the relationship is also in trouble because he, he, he decided to go back, but he just got a better offer by home. And then he said it feels like the communication stuff is never, uh, it's, it's also part of the glass ceiling. Like I really enjoyed working with my colleagues. Um, I think I didn't care that they were Americans or the language issues. That's. So there's a lot of difference. For example, they talk about TV shows they launched growing up. I don't want, I don't know what to say. So that's why I'm. Most of my friends are international I think like, oh, we don't know about anything. So that's just, \\nI have such a different experience in school. Really. I hate my school. The school part of it is the most miserable part of my stay in the US because I went to Missouri and they were not too many students who are Chinese and uh, students are, it's a state university. So students also don't appreciate the diversity or internationalism. And the journalism classes are super hard. It's like it's the most, it's so bad, like the workload. Even for American student, the workload is so high and they just feel like you can never finish what the teacher asks you. Actually the teacher try to be me. They, they did it intention like they would press so hard and make you feel so it makes you feel nothing like you're, you're worth nothing in classes. But eventually they will all give you a case. But the grades don't matter. \\nThey wanted to make. They wanted, like they always questioned the stories. I stare out story ideas you come up with after you've done tons of research on this and they will ask you to Redo it. And the styles of the teachers are so bad, but it's the same. It's the Missouri method. They called the Missouri method. So they are learning by practicing and I know, I know like Columbia University also does that, but they only have one year and the and the and they also, the teachers there, they don't care, they're like guest lectures. They are nice to students. Even the workload is still high at Columbia, but ms dot the students, the teachers are and they want to make sure your life miserable. So you remember how to do things. I think if it does, it's a very teachers to you much more than other schools. But the first two years here or so bad. So what is your best time in the u? S when, when was it? I think every job I take afterwards was study moving to New York. \\nI moved here in August 2014 and I really liked it. I think it's because I wanted to. Journalism and most listen organization organization started here. So you get to meet more peers. We'll do the work you do. I have friends who are working journalists who are also in New York and uh, it's also more exciting. I worked in DC before. Um, it's also more exciting. You get stuff to do after 8:00 PM at night. It's more like Shanghai. I'm from Shanghai, so I'm from a big city and you want to have to convenience stores open 24 hours. So it is more like home and I like New York City, much better than Missouri. I think I'm getting used to it. Although I also have this recently I've been thinking about this conflict because I feel I've always been very purposeful in work. Like I know what I want to do is I wanted to be a journalist or something. I want you to be in a journalist. I want to be a reporter, a reporter about stuff, things happening. China. \\nI'm really enjoying the life in New York now, but I don't feel like the work satisfaction is that high. Well, I have to work on that. What do you, what are you enjoying about New York? Like, uh, getting into the habit of knowing where to go. Like when you have a good food, who you have friends here, uh, where you want to have regular access, like activities you do with friends. Like I go to the gym was this group of people I would hang out with on weekends was this group of people I would roll with those group of people and it's always uh, uh, and I know the, the hair salon, I always go, I, I just know where it's super uncomfortable so it feels more like I liked the life I'm here. I'm having now. Yeah. \\nI don't know, \\nbut I still don't know if I would stay \\nnext year, this time. Really? Yeah. I have this green card issue. I don't know if I'm going to solve that. Um, and my boyfriend got like, he is trying to pass this visa lottery. He three times and he and he didn't get it this year, so he's moving back to China. \\nSo he's looking for a job now and he brought a couple offers but he's still looking. Uh, and that's usually the reason why the other person moves back to feel it. Right. But I don't know, I guess maybe after he goes back for half a year, he figured the life there is miserable and he's a computer scientist. He's in computer scientist, it's like they, they take super long work days, they have to work overtime a lot and they don't respect, it's not like the engineering culture here, they know they work to get the product released soon, so maybe he may not like it and he may want to come back, come back and get a master's degree. And he's also only finished his undergrad like me. So I don't know everything is happening there. Also, even if he likes China and he stays, uh, I don't know where he will be though. Like I'm, my family is in Shanghai if he goes to a different city and I don't know if I will stay with him also as they are so many moving parts. \\nUm, I moved here in November 2018, 16 to basically pursue a career or to keep working on my career but in a different environment. Um, I'm a photographer and designer and Austria as great as it is, just at some point felt really small and every time I came to New York I was very inspired and there's just so much to see and to hear and to soak up. So it was always very interesting and every time I came back to Austria I kind of still had like went with this um, inspiration for like about three weeks. I was kind of like running on it and then at some point in the off and I realized I was back and I was feeling uninspired again, kind of, um, and yeah. And then I started pursuing the visa and it took about, it's 10 months with everything including everything. And then a month after I got it \\nAnd I think the first year was basically went by really fast in the sense like when I look back at it, it was really. I didn't feel like I didn't do much for my career. I tried out a couple of different things but it, it is such a different playing field and it just takes a while to figure it out what works and what doesn't and I still haven't totally figured it out, but the first year is also kind of finding a home, building a second family, finding friends, settling in a sense that like, you know, how everything works in your environment and you have a laundromat and you have a grocery store and you kind of know where the best coffee is. So it kind of this, this part of. Yeah, creating a home in a. tell me about each of those things. Like you said, finding a family, building a home. \\nLike what, what does each of those mean? What does each of those. I mean I think for me just finding a place to live with people that, that I relate to in a certain sense and then I can talk to if I run into them or that I hang out with, um, was really important. But because it is, I came here with no credit score because if you move with a, with an artist visa from a different country and you've never lived here before on an, on a visa where you have like work authorization, your credit score is zero, so nobody would rent me an apartment so I had to Kinda sublet and like move in with other people. And that was weird in the beginning because I lived for the past three years and I'll say I live by myself and I had a really big part man that it was really nice and I just really got used to it doing my thing. \\nBut it was good because it immediately gave me like a connection with two people and an inside into what they do and how they do New York and numerous tips and hints and recommendations and talks about certain things. So that was really nice. Um, and it kind of provides a framework for me, like a starting point in a way. So like if I feel home in the room that I rented and if I feel like I can be myself around the people I live with and everything, then that's already like helps a lot in terms of like feeling that you're building a life and that you're not just visiting somewhere and then at some point, I mean I did start, I love to explore New York in general with my grandma, just pick a neighborhood and I run around and I love doing that by myself or with someone else. \\nI don't really care. Both is fine. But when I explored around Fort Green where I live, um, it's, it's pretty nice. I mean it's very gentrified from what I hear and from what I can see. Um, but it's, it's a very safe and very nice and interesting neighborhood I think. Um, and there's tons of grocery stores and coffee shops and whatnot, but it's just, it's okay point. I feel like you try everything and then you kind of know where the coffee is best, you know, what you like it the best. Or even sometimes I have a breakfast spot that I like, but I know not to go there on weekends because everyone brunches and you can't get, can't get a seat and it's just, it just takes too long and it's too stressful, you know, stuff like that kind of what would, it goes up time if you keep doing it, do you kind of figure out where like finding a favorite bar that is nice for a week day where you can have a beer by yourself and not be bothered or where you go on a date or with friends and it's always good, you know, and stuff like that. \\nAnd I feel like that also helps to settle in and then at some point the Barista knows your name and where they know your order and stuff. That and then even that was really weird for me in the beginning because New York is so big and you kind of expect or I dunno, like maybe I thought that everything would make smaller but then no, it's still a neighborhood. It's like a tiny city within a city and because people live in the neighborhood always find their, find their watering all they find their coffee shop and borrow. Of course at some point it doesn't matter. \\nYeah. \\nPaid probably newer because solely stolen and this is more. I don't know. \\nThe train goes like every five, 10 minutes. I don't really know. If you want to carry on talking through the noise, he'd be like. It's a natural. It certainly doesn't feel that frequent when you're waiting on the platform. Oh yeah, that's true. Yeah. Like where's this train one train though? Yes. Interesting. The Q, the b n q. The D doesn't over it. The q definitely goes over it. A C does and I don't know if the train said don't go over it actually or something that it goes on the Argos goes to the as well. Oh yeah. I don't know what the tunnel are. No, he can't drive through the tunnel and I did my best to avoid the uh, subway anyways. Oh, okay. Yeah. Yeah. But go to subway or when? July. August. I have twice and it's like an oven. \\nSo when did you move here? Winter. Very cold. Wasn't used to snowy. It's quite something quite cheap. No, well I'd been in Hong Kong and uh, got on the plane. It was about 20 degrees Celsius more when they go off. Quite shocked. This was what? December, December Twenty 15, 2016 now getting on for three years. I've been here longer than I've been here two years. I thought you'd been here longer than me. Like significant. And uh, why, why did you move here for work? Really pretty simple. I got offered a job over here and uh, it was better than the job at home. Over what, what, what factored into the decision? Was it purely like the money was better job or what did he think? It was just a job. I mean I'd love to, um, I loved everything about it apart from work and really kind of what I do. There was no particular kind of, that industry didn't exist there, so I just kind of do something that was similar sort of thing but in a slightly different field and I really enjoy that much. So I got a good offer over here for something that was much more my thing. So go that and the kind of the constant kind of a Chinese state looming over you. \\nIt's kind of like a kind of weird because you get to the point where we think oh these things happen. Yes. So that was a 20, but even with all the kind of protest, just the way that went. Absolutely nowhere and you could see the kind of thing increasing and bank on being here two years time, 30 years time. I might as well just stay here by probably about the same time. I'd been in New York though. So to innovate you a nice. I think I've been lucky with the weather was nice spending a week but apart from that I didn't really know. I had no idea what was myself go. \\nI mean it was, it was kind of difficult because I'm married and my wife was sticking in Hong Kong for a few months. It turned out to be nine months in just because she just moved job and it was good job and she couldn't really move. And especially with our visa situation, she wasn't able to work over here initially, so the, I mean that was the hardest thing, but kind of going to a new place, it was exciting going to a new job. But, but really it was just, we'd made the decision, it's kind of funny because we'd made the decision so much earlier, it took me nine months to get the visa so it's kind of reconciled to moving for a long time and then it just all of a sudden got the visa happened really quickly. It was just actually kind of the excitement in your kind of dwarfed by the fact that I was going to be living on my own and we weren't really going to be seeing each other that often. Um, so that was just, it made it really, it was difficult, but it was different of that was why I was thinking about rather than moving to New York and Hong Kong. \\nAnd we did over that period I think I did about, well she did about four or five long weekends in New York. And I did about four or five long weekends \\nit's just, everything's kind of fell into place. So she's over here. Uh, we've upgraded our visa so she can work and you know, everything's just fallen into place. It's kind of, there's nothing unusual about the kinds of things you'd normally do. You kind of go out to dinner, go to do stuff. There's nothing unusual about that at all. Very, very. Would it be the same anywhere else? Probably not because of the, what is ordinary changes. So you might kind of go up that seemed like spend more time sitting at home watching the TV and have dinner and stuff like that. We kind of thinking back to when I lived in. Um, yeah, you spend a lot more time at home. Yeah. Just the idea of going out on the idea of going out. I think we may be doing all this stuff. Just the idea of even things like the ballet or things that, you know, I'm not super interested in this kind of let go and you kind of go and try lots of things because so many different options. So yeah. \\nDo you know, Horse, like completely off the topic? Horse was originally discovered really? And they die out. Someone discovered a product, I think to be somehow connected and the sea level rising, they're kind of disconnected, all the pieces kind of development. Uh, and uh, somehow or style why? I don't remember the night out here. And then Columbus brought it back. But then how does native American horses. Horses? No, that's way too late. Oh, his father being nice. Yeah. I was watching this documentary about the entirety of human history in two hours is very intense, very intense. So somehow like there are 10 billion years of history, the whole universe and planets and then they shrink that winning 14 years. Yeah. 14. Oh Gosh. How can I not remember? It is important being 14 years old, 14 of 40 years or 40. And then the industrial revolution only happened six weeks ago. Something about human, uh, like basically the idea is like when you shrink that biggest history interview, short period of time. Yeah. Human all exists like lipstick. So tiny. Yeah, \\ndefinitely. I feel like there are maybe just a number are much bigger than what it used to be. It was like 300,000, 500,000 people studying in the US. Maybe 500 like internationally, probably here. Yeah. I don't remember, but I read it somewhere. I'm definitely, um, you probably don't feel as much in New York City because it's so mixed friends studying in smaller towns like and, you know, like misery or wow backgrounds. So I thought maybe the local definitely feel the presence of these new younger Chinese people. They're not really immigrants. Yeah. Because very fueled a message decided to stay. I think it's just more of a, I had this idea of it as I have some girlfriends, they're not doing what you, that's traditionally considered, you know, Asians would be interested in like engineering or um, a lot of them are doing art, um, and they're navigating is an environment where there's very few Asians. I thought I thought about it, I was like, why couldn't I do a story of sex and city, but with all just starting these girls living in New York City or. I think it sounded sexier than it actually is and then I don't know what's the whole point of doing all this, just like, because we used to hang out a lot more with um, uh, a lot of. \\nYeah. So especially with females, woman and. Yeah, actually one of the main reason is that the culture back home is so they still expect you to get married, go home, find a job, have a stable life, but they're doing everything that's on the contrary and you know, not getting married and then doing stuff that doesn't really pay well and then. And that's not easy to get visa with all those categories, you know, like. So what are they doing? Why are they here? And then because they have money, they have money. Yes. A lot of that. Yet he can actually tell people background by what, what they study. I think a lot of it, this ideology, probably journalism, I think you have to have a not super rich but at least like a safety net \\nor you can't go back home after graduation \\nor like I wanted to go to film school and that looked up how much it would cost you saying that it's not going to happen, but I have friends who study film not a lot, not as many as people studied computer science, but I think a lot of them are supported by their family. Not to say that they won't pay money back. Like after. \\nWhat do you need? You need the money up front first. Yeah, you might be able to get some scholarship. I feel like the point of it is like it's a story that's less told. \\nI guess like migration and the Yoyo mentioned would say that's probably a lot crazier initiations. Well, I think we're in the middle, right? We're from like a middle class family and uh, we're not doing like computer science or finance were kind of not the mainstream but \\nstill pretty mainstream. Mainstream if I guess if you stay. If I stayed, yes, because I graduated in fall, as my friends will actually stay, vias are day either finance or computer science. That's still only two fields that gave you enough money or get gave you a green card or the visa for you several years later. So if you want to have a family here and you want to get established here, you have to be one visa. Oh you are not in the basic rate. It's almost impossible to get the visa issue sorted out even though. And also if you work in finance and tech you can probably get paid better at home. At least now I have so many friends who left because they have better offers back home and they don't have to deal with these issues and they don't have to, you know, deal with the feeling of not belonging. \\nBut there is trade off too. I think it's a question that I feel like people like us to talk about all the time saying, are you going back? Are you saying, um, and how, how often does it come up? For me, it's quite often I'm in a journalism major. It comes up so it's hard to say. It's so different. Journalism, it's a little different because if you study tech and finance just go home. You don't just. The career prospect is like great, but if you actually worry about a little about the limitation that limited with what you can do with them, maybe it a more so a harder choice. \\nI think the big name companies experience before going back home, especially if you consider a come here to study, there was a wall to get experience before going back home for getting stay America experience going back home and they can get much higher paid as a software engineer in China if they've worked here for a couple of years at Amazon, Google, facebook. Well, but if they stay there's the glass ceiling and it's hard for them to go up to the management but it's easier if they come back. So I see. So they, they probably like go up to the glass ceiling back like yeah, that's fine. I never really thought that I would stay when I was in school because I came here for the whole degree program and it's supposed to be two plus two plus one, so I were when I started the program are supposed to stay here for two years and then I have to go back to China to finish one additional year. \\nThat's the plan of the program. But when I got to the first year or second year here, they decided to change the program and graduated with two degrees in four years. And they were, they said it, this would make the. We were the first group of cohort of students coming here and they thought it would make the program more appealing to finishing for years. And they made a case to let us finish in four years. And then I wasn't mentally prepared to stay. Uh, afterwards I was more thing. I would go back to China to do journals and in China and then we would have his day and I, part of the curriculum is to get an internship. So for me and my friends, we did an internship in the last summer was officer of the second year, so I did an internship and they offered me to full time job afterwards and it's at a data which was a company in DC. \\nSo I thought that works, I was doing an internship with very interesting and the people I work with were super nice and I like to learn more. So I took it and I took it and I did it and I was also thinking I still want you to do journalism. I guess the visualization became pretty big science data journalism become, became pretty big thing in 2013 around the time I was working there. So I thought it would be a very good way for me to get a job in journalism. So in 2014 I stayed there two years. In 2014 I applied for jobs around and because of the skills that I've acquired in the first job I were, it's easy. It was easy for me to find it. I applied to many places and many people, many places actually offered jobs for me and I. So it was easy for me to just, I got super lucky for each step and like I got a job in at the associate press in 2014 and I stayed there. Um, and uh, I continue to stay here so it's just, um, it's not an intentional choice to stay at the beginning, but every time when I had to make a decision, something nice comes up here and it makes me just makes me stay here. So I just followed that. Great. \\nAnd there were opportunities back in China. People ask for me to call back, but I never took it because part of sometimes just because I, I had a project and I had to finish at work. Sometimes it's because I at the same time I got another job offer so I decided to stay here for longer and I've always thought I can always go back, like going back this easy thing and if I don't do it right now I can. I will eventually do it because my families are in China. They would want me to go back so that once you have the full experience here, what is the full experience for experience? Meaning do say instead of my peers are not getting the opportunity to do I guess like in China? Yeah. Or just different experience. \\nAbsolutely. Yeah. Go for it. It's one of the songs, either an uncle. Well he's not an uncle. I think he's. My Dad was a buyer for a, like a fashion buyer for a department store. Even though it's quite strange, you kind of see what he's talking about. It's just a, it's a great place to live. This is everyone's so accepting. I think it's, you know, you know the old cliches, you know, the melting pot and everyone. Everyone kind of has moved here. Um, but it's, I think it's true and everyone is accepting those. Just, you know, like any big city, this is an awful lot to do, but it's the biggest city and there is more to do here than anywhere. It was more of kind of more culture here. There's more kind of food here. It's more variety. It's, it's a great place to live. \\nYeah. I've been wondering whether I, I, I do need to like it's the biggest need it, but it is so why not enjoy it? Yeah. I haven't seen that many cockroaches. No cockroaches than Hong Kong. What's your biggest gripe about New York health care? Um, I mean just all the typical things about America healthcare, a credit rating nonsense. So moving over here trying to find, just being insanely difficult, but I guess maybe noise. I used to live not far from here and it was partly because I didn't have much of a credit rate so it didn't have much choice. I think he's a nice enough apartment but it was kind of, was it the train? It wasn't actually the train but it was a junction coming off the bridge and just all through the night was just cars honking. Just noise. Yeah. Even with the ear plugs, just finding it difficult to sleep. I'm, it's not such a problem that. No, I mean the subway is terrible but if the subway wasn't terrible, you know, New Yorkers complain about it. So I kind of struggled to think of too many negatives. Typical big safety like safety. I mean, it feels very, very safe actually. I'll tell you. Well, people taking dogs into the office...\\nI guess sometimes I feel like I'm used to being here and there. Like last year I spent a lot of time in China because I just asked my boss if I can work from home and do stories from there. Also my personal projects, they're actually did that. Taro reading was like. So I asked a question, why do you think I'm going to be so. And then I drew three cards. The first one is for China and the second one, the first one is for New York, the second one for China, and then the last one somewhere else. So the first one reads, well, what? The person told me all three cards that equally strong. So the possibilities are equally strong as like the first one is a magician. I think there's like New York's is where magic happens. I think it meant it means like Korea or stuff. \\nAnd then um, China is this a water empress or something? So it's like it was water. It's like home feeling. I'm feeling like home. And at the other one is a pregnant empress. It was, I get away. Doesn't mean I get pregnant somewhere else, but I think she said it's just possible that something else is waiting for you some. Where is the data analysis on terror? Read it. It talks about how it will never get anything wrong because there are so many possibilities. It can't be wrong. Yeah. Also the person knows like the majority of the people will fall into certain categories based on your age, your peers. \\nBut that's how it felt. I was like, I don't know if I'm, but I'm a, I live in Jersey City. I've been living there for almost four years now. It does feel like they're not hearing state strategy, but it's very diverse. I don't feel I'm self aware, um, because sometimes I go to other places in the US and I get a little self aware. And then so I like, I like it there. They're also Chinese ladies doing the square dance. Definitely feels like home. Um, but there are some good things that I miss from China. It's so convenient. Everything's so cheap. Like if you're, something's broken in your house, you call a handyman in China, it's like super cheap and they, they're here like in two hours, but in the US, everything, you kind of have to do it like everything Dli. So that's something I think it's hard because it's interesting because you, the cards were New York.\\nSo it's like try to just like, you don't know where you're going in China. Well I lived in Beijing for four years for school and I didn't really like the city, um, because I feel like the urban planning is just horrible there and it's not very livable. New York City is more walkable and livable. Um, I actually liked shall high end homes. Joel, that's close to my hometown a lot. But like the, you know, the, the, the pollution and these are the things that still wearing the. Also if I work in journalism and I just feel like there's more freedom here. And also it feels like you're at the center of the world if you are in New York City. Like there are so many cultural events, independent films that you can see different workshops. Um, but I agree with. You mentioned something you want to do stories about China. \\nI feel the same, like a proportion of the stories I do at work used to be like about China. It's not like I can do stories about the US. Of course I can do, but it's just, it hasn't. I haven't really established such a strong bond that I feel that I'm so passionate about telling the stories here. I think that that would take time maybe after living here for a little longer, I would feel more connected. So courts is not doing local journalism. So you would have, he can establish a stronger bond with an issue \\nthen with the community? Well there are very few local journals. Yeah. Everything is stay at home. I got a job offer at Hong Kong, they, but they wanted me to move there and two weeks I didn't take it but I asked them. I was like, so do I do field reporting? They were like, no. So I think they want me to write about like a Chinese internet, like what's happening there, but I told them I was more interested in doing shared recording. Which company sells tribal impulse. You're still hiring but they know you are a radio journalist or you are you going is offer at all? They thought I was a writer for some reason. I, I wrote something and they read it. They thought I was a right amount. I told him or not. \\nIf they gave me more time would you have considered it? I guess I wasn't ready to leave. I think the perfect scenario maybe for you and for all this is like if we can get a permanent visa and then so I can go back here and do stuff pretty much a year after I moved at some point it just felt that I had more brain space again for work and for building more meaningful relationships and for um, yeah, just my own stuff because I mean I do work in retail and it takes up most of my time. So it's really hard to actually. Because I'm really tired when I get home to really make time to do myself, which is why I came here, but it's like the New York thing, you work to pay rent and you work a shit ton of time to pay a shit ton of friends, so it's kind of difficult. \\nBut yeah, about a year and I just noticed that I thought about how much energy it actually takes to build all that or to just kind of. I mean it's not something that you, it's. I mean I think it's part of your, you build it actively in terms of like you look for places you'd talk to people, you make appointments and stuff, but also as time goes by these things just kind of settle in and yeah, at some point I just realized that everything is kind of automated. Like I know how to grocery shop, I know how to launder works and it's stuff that I don't have to think about anymore at all. It just kind of works. Whereas like the first couple times I had to really figure it out and you have to like watch people how they do stuff and you know, whatever itself or figuring out at some point I knew that um, we have like three grocery stores in our neighborhood and which one has what for a better price or a better quality or what stuff do I need to buy organic, which stuff can I get away with not buying organic stuff like that. \\nAnd then you kind of know your neighborhood for that and then yeah, I just some point I realized okay, I don't have to think about stuff like that really anymore. And I just noticed that I was thinking about my personal creative projects. \\nUm, and I think I read that it takes about a year. I don't know, I've never, I didn't have a plan really. Like when I came here I was like, you know, stuff like that just happened. \\nHelp with you, adapt to something. It wouldn't be fair to say like, since you have more space for like projects and stuff like that, are you shaping your experience of European, your whole? For, I think so, I mean I think you shape it as soon as you decide how you want to spend your time. \\nI tell you about that later. \\nUm, so I think as soon as you actively, um, I mean I think the first year there's a lot of like reaction because you kind of have to figure it out in your. Maybe. I mean you actively have to obviously look for stuff and figure stuff out, but it's also a lot of like just watching how people do things and I'm, I'm in general, like very observant and like try to just learn stuff by looking, you know, and like not asking necessarily, but just kind of like observing people. \\nAnd I think once everything settles your, with like a lot of trades that go into sprint, these basically the queue \\na local, it just splits at somewhat in Manhattan. Q and Row. Oh yeah, yeah. And the end know the end is underground and the art doesn't go to the bridge, but I think it's, what is your kind of settled in. A lot of stuff just automatically works. Or with me having more brain space again, basically I was like more actively looking for projects or for people to collaborate with or for inspiration and I think as soon as your don't just let everything happen, but as soon as you were kind of like acting on your impulses and the things that bring you joy, then yeah, you're shaping it more I think. Um, but I also think in the first year when, like in the settling period, there is a lot of stuff that you have to learn first visual you can work with it in a way. \\nAnd uh, what's good about New York when you start shaping and more or what was. I don't know what's special about it. It just offers a lot. I mean, it just really, I feel like no matter how you want to spend your time, maybe, except if you're like really into hiking and nature, then you're fucked. You can. I mean, I, I have two days that I don't work at the store and that I try to get a lot of work done for my stuff, but I also try to have a couple of hours on one of these two days were just do something that brings me joy to kind of keep me going and remind me why I'm here and like that. I love being here even though it's a lot of work or whatever. Just something that I enjoy doing. So I love to go shoot. \\nI love to go see the exhibits. I not, I haven't really gone out much the last couple months and I sometimes miss it. But then when I get a chance to do it, I mostly choose not to. So I'm just not into it right now. Um, I do love sitting on a stupid night and read or just talk to my roommates or whatever. Um, but I think the nice thing about New York is that if you're into art, there's a shit ton of stuff to do. There's a lot to choose and they're like so many different things that go that are going on if you're into having drinks on a rooftop or if you want to go skinny dipping or whatever. Like I feel like there is, there is enough to do for everyone who wants to be in the city and it's very different experiences. That's also what's so interesting about it is that people you meet, you might have nothing in common, but you do both loved the city and he do both know how you want to spend your time and if you kind of talked to this person, they might also give you input on stuff that he never thought he wanted to try. \\nBut you could, you know. Um, so hasn't lived up to like what you expected. I mean, how has it changed? I don't know. The thing is I really didn't have an expectation really. Like I didn't know what was gonna happen. I knew what I was moving here with and I knew I had one friend and I knew I had to find a job soon and the place, but I was really open to whatever was going to happen. I was also open to. I'm not gonna actually like living here and I'm moving back. I wasn't very open to that, but it was a possibility that I was like, I'm not going to be here and unhappy just because I moved here. But um, yeah, I mean sometimes I still feel isolated. I still miss my friends and my family because also mostly because of the friends that I have in Austria I've had for 15 plus years. \\nSome of them are 30 and here I am still kind of building my roots. So everyone I know I've known for a year and a half or like two people I know I've known since college, but that's, you know, it's still not the same. My. Yeah, I mean I'm still sometimes surprised I'm still here, just that it's possible financially it's to still be here. Um, but yeah, I mean I've noticed that I got really used to the RNC and really fast just that I can go see every exhibit at once at some point and that all the great exhibits are in New York and, or there's just always an old photo exhibit somewhere that I want to see or even if not in a big museum there is gallery to show something and that if you right now, if I had to move back to Australia I'd be very pissed just because it's still not that inspiring for me anymore. I mean I love going back for a week a year or I would go two weeks but afford it. Um, but that's really all I need. Um, so yeah, I think it did live up to, I just kind of expected or I think I thought I was gonna move here and I would feel very inspired and fulfilled and et cetera. \\nNo, \\nno, and that's really funny. I guess, I don't know, when you get, like there's different theories about that, like 10 years you have to be born near whatever. Um, but I mean I've been here now a little over a year and a half and every time someone asks me and like from the moment I got here to now, every time someone asks me and I say, how long have you been at? Everyone says, oh, you're practically new, so it doesn't matter if you've been here for months or a year and a half. People still consider your totally new and I get it because this city is so fucking big and it has such, it offers so much that after year and a half we haven't seen much probably, you know. Um, but no, no, I mean going to see if I, if I ever reached a point where I, even if other people wouldn't do it that way if I feel that way. \\nBut I still feel pretty neat with sometimes. Yeah. Do you want to ever feel that way? Yeah, I mean I do. I'm really open to what happened. So if I at some point feel like I need to move to a different city, then I will consider that. So I don't feel like I'm like nailed to the floor easier, um, but I do like being here and this other, like if I ever moved somewhere else, the CD would have had a lot to offer for, for me to actually make that move. So I do, I could see myself being here longer, but I, \\nbut the one thing that's really hard and that would probably be the reason for me to eventually move is the financial aspect because it's, I mean I worked 45 hours right now and I'm barely make rent which stresses me out every book in months and then I don't have that much time to work on my own stuff or make money with my own stuff. So. And that's Kinda what I came here to do. So that's, that's a little counterproductive and frustrating. But um, so I think if I ever moved, other than I don't know, out of love or because I can't take the winters here anymore or whatever it would probably be because at some point I get really frustrated financially where I just don't want to work that much anymore. But for right now it's great and I can definitely see myself being here. I still feel like I can, there's a lot of potential for my work to grow, uh, just creatively and I definitely want to explore that more. \\nWhat'd you do it again? I mean, it depends. I mean, you've got to move for a reason, but I don't know. I mean you'd be hard pressed to find somewhere that really kind of gave you as much of the kind of things you look for at somewhere like La. But I don't think you can do that. So there's always sacrifices and I guess moving somewhere like somewhere else. Do they, do they give you. I suppose it's the risk that they don't give you those. They don't give you enough to make up for what you lose in New York then you would never have the excitement of finding out. But I really don't know. \\nNot really. I think I'm older than we've ever done has been because of work opportunities to really, you know, that comes up again. Maybe we'll think about it again, but it hasn't happened. So it does, doesn't it? What, uh, how do you think of yourself as someone who lived in different countries, different continents? No, I mean lucky I suppose. I don't think, I mean just the opportunities. I don't think myself particularly adventurous and I don't think. I think I'd go further. I don't think I am. So maybe I wouldn't have made those moves. Maybe wouldn't have gone away, but they kind of did. So I guess the first one is the most difficult because the first time you move you realize how easy it actually is. It's not difficult. You kind of pack all your stuff up, you know, you sell your house and you moved and a month later everything sorted in a young pack yourself in a new client and it's fine. Then you kind of get to know the area and it's really not that difficult, but it's quite, it was quite jump. First Time we did it because it was on dope and then the second time it was so unusual. So I think that a place like New York, a lot of people do, so it doesn't feel unusual. It feels perfectly. \\nI want to know when they show the apartments, you know, shut the train down for an hour. \\nUm, what was I gonna say? \\nYeah. Because also I feel like there's a lot of misconceptions about when you work just because people watch TV shows about people who live in New York or, and I'm not even saying cliches like sex and the city, but just stuff that shows me your work or even everyone I feel like no things, they know how it is just because they've been here at some point. And I mean yeah, I was here, I was here for a year in college, you know, jurors and I spent a lot of time in New York and then I came back every couple of years for a week or two or one time for a month, but I still had no idea how it was going to be to actually fucking move here. And then I moved and then I was like, this is how it is. Okay. That is very different, you know, and it's. \\nSometimes it pisses me off when people are like, well, you need to do more of this or you need to do more at this. And I'm like, you're an officer, you have no fucking idea how crazy this is or how intense time. And hence this is their stuff, you know. So it's like, it's just, I feel like everyone thinks that they know New York, but they really don't and I still sometimes don't, you know, so I'm like, how can you, you've been here one week in your life on a vacation and you've never left monette and how do you know anything about it, you know, so that's when they found it. But do you encourage other people to move here? Um, it depends on who they are and what they want from their lives. I mean, the quality of life in Australia is pretty high and I recently had my sister it and she, I mean, she, she makes a really good living and she lives in a very nice apartment in Indiana and she has a really good career. \\nUh, and she said to me, I would not be able to do what you do, I could not live like this, and she didn't mean it in a bad way, but it was like you work all the fucking time and everything is expensive and there's so much garbage and like all these things. And I mean for me, the, the thing that bugs me the most about New York is the lax behavior and you points on garbage, you know, leg, there's trash everywhere. Just the amount of takeout containers that I'm seeing just now that we've been sitting here for half an hour. Everyone has a plastic container in front of them and they don't care. Or coffee or straws. When I see a store I get really aggressive because if you're older than a year and a half, you don't need a fucking straw for any kind of beverage. It's not, you don't need it, you know. \\nSo that's something. But if someone wants to move that I usually ask for, they're like, you know, like why, what do you see, what do you. And then you can download. It's a romanticized version or if it's not, but when I to judge like I was pretty, I saw a couple of things about like, you know, I'm just going to be out there and like see all the exhibits all the time and stuff. That's not how life is. Like I'm glad if I can make, if I can go every two weeks just because I don't have the time or I'm tired, but usually I feel like if you talk to people I'm like, yeah, I mean it's great. I love living here, but I changed a lot since I moved here just in terms of how much I work and how much I, how much faster paces than it is in Australia. \\nYou know, you have to get used to it and it's sometimes it's really frustrating and it's really like sometimes I questioned it, you know, when I think about making rent or what, I'm not sure if I can make grants a week before it's due and stuff like that. I'm like, why am I doing this to myself? I'm 37. I had everything but the life I had an Australia, even though it was great. I mean I did sit out there every once in a while on my balcony and was like, this is really great and I can understand why people settled for this, but it's this, it's, you know, like for me it wasn't it. So I moved here and I feel like you, you make that decision. Like if you're happy and settling what men said thing for me would be might be the dream of someone else or it might be something that another person would also not be happy with whatever. \\nThey were all different. But if someone tells me that they want to move here, I usually encourage them to tell me what they want to do here or how they imagine their life or I just to give them examples of what I do and like try to be very neutral about it because it's their decision and I don't want to really, you know, say yes or no. I'm not the one to two to decide that, but I do want to give them, okay, yeah, you're gonna be in whatever field of work you are. Like if they tell me what they work and I'm like, okay. I had a friend here who worked in the upper management and Chanel and she was here for six months and you couldn't find a job on the salary that she needed, so she moved to Munich and she's happy that now, but this is New York, not just because you're successful in the country you come from or in the city you live doesn't necessarily mean that you're gonna make it here in the salary. They were picturing, you know, and also rent is fucking crazy. So that's like there's a lot of things to consider if you already, if you're at a certain age, we have a certain expectancy of what your life looks like. I was very open to it because I was just unhappy and I was like, anything is better than that. Whatever it is, you know, and I, I like adventure and \\nlike be true of what my life is supposed to be like. Like I don't have married in two years, children in for kind of thing. I just want to feel like I'm creatively inspired and I want to work and I want to make meaningful connections with people and I just want to be somewhere where I feel really alive and all of that. I have here with a side effect of too many works hours and expensive foods. But yeah, that's. You know what it is, \\nbut then you want to be a person that doesn't have any roots. That's how sometimes effort living here for a lot. I just feel like I don't know, but there were so many people. Like I said, I don't feel. I always felt like I want you to. When I've. When I was seeing school I didn't want to work for American news organization. Is that when you're writing Chinese, I don't want to ride for an English audience about China. I want to put red. Showed the Chinese audience about China to make an impact in China. That's my initial fight, the idea of doing China, China reporting. It's not for a foreign audience, but even very few people are there are doing that. Yeah. Now it's very hard to do in China. They'll do you still want to go back and do journalism? I wanted to do something special. \\nI don't know. What is it though? I, I, I thought there are so many people in China that's doing phone things, so you don't really have to do general wasn't I can still do things, uh, in China. There are lots of opportunities to do things in China and have money in China to support the family. Legacy 10 is I won't to um, if I actually go back, I will explore and see what are out there before I decide. So I went to a different city for high school, six for six years and then different and then Beijing for four years. Um, I guess home is really where my family is. I feel like, but I will, I will, I will have my own like small home and married and kids. And so maybe then I'll feel different, but I don't, I don't have a very rigid idea of home because even when I was younger and my hometown, we moved a lot, like six, seven times. \\nAnd then um, and you know, with so many recent constructions, like my grandma's house being rebuilt, so it's hard to feel attached to a place because they get torn down like seven. So I guess there's memories and then. Yeah, yeah. I think the ruthless is more like China has this, you have this big identity with China, it's more like mentally associated with China. Again, physically associated with one place. Yeah, I think the thing that I would definitely miss if I go back is that I have to wear makeup and do stuff all the time. But I feel like now if you don't do that and if you don't do like those photoshop stuff and you're just like. Because if you look at all the girls on the street or in the, in, in the workplace, it just gets such a present culture that I feel like here I can dress whatever I want. Maybe I'm a little chubbier that and then it's fine, but like back home I feel like at least now there's so much stress on how you should dress. \\nYou think people judge you more by your appearance? I definitely, I'll get more back home. I feel like people, especially in Europe, nobody gives a shit what you do and who you were. But I feel that when I go home, you know when you meet your friends are like, okay, who making how much money and then there is that. Is there a boyfriend hot and is there a kid? Smart. And I feel like maybe just because I'm not in there, maybe people get dressed here too. But because I was away from that, I didn't feel that much. \\nIt had this. Tennis is definitely different. China has closer interpersonal difference or do you, do your friends see you as like different? Do you feel different? \\nUm, I guess anyone who has lived here and then share a similar experience would understand. But I remember I have a friend who said something like, she feels too foreign to be here until four. And I think I definitely share that kind of feeling some time in my life. Yeah. Especially when people are talking about us, China, US and China. You kind of like, I'm in, I'm in the middle and sometimes it's hard to understand why, like I wrote an article and actually a lot of people read that and send me emails. Um, it was, it had a sensational debt headline. It was like the Dystopian, the dystopian vision that the West has for China, so outdated somebody away that. So it's not as the Dystopian as you thought. And so the whole idea is like, I feel like I'm stuck in between, like I don't agree with the public here when the mainstream where they see China as this really dystopian country, but I don't agree with a lot of the nationalists back home or like trying to grade is all. So it's like, it's hard to articulate how I feel about. \\nYeah. I think the story more just like Americans have a very black and white view of China. China is more nuanced. If you write the nails in your reporting, no one cares. They only want to get to the conclusion and if you actually, they thought, oh, the noodles is like you are from China. You're trying to. I like defense China, but it's they don't like they, they, they come, they start was a biased view and they're not going to understand like actually read this fast, read the reporting to understand what your store. I know many people don't do that. It's not just China. I feel like a whole drum was environment here and a little crazy and still there's so much identity politics. I don't know. I guess many people do that. Like my, my cousin does it. Like she, she got her citizenship and she became a US citizen. She, she's not gonna do that. Yeah. Yeah. It doesn't matter. Like you can get an American citizenship and then your kids will be kids will be American citizens to but you can still staying in Chinese. China can still stay in China. You have to pay. Potassium guys \\ntook a lot of people have kids here and they have an American baby and the Chinese and the kid is American. Yeah. Also a lot of Chinese students, if they're here for a long time and they have kids, they bring their American base. You don't have cold or is it fun? You can tell? 18. That's when they have to decide like you need attorneys are American. I feel like citizenship is such a practical thing. It only mattered to some of these. I don't think so. I think citizenship is to most unpractical saying it's people don't want to get a sit in and who they are fine with the green card because citizenship identity, they don't want to lose the identity of China but like you can get the same benefit I'll have with a green card was just a greencard although there are more restrictions but you still feel like you're Chinese. \\nYeah. It's like the last frontier and chase and then you're not stay on a greenhorn and definitely think so 10 years. Then you keep bringing. You never know, but trump can change policy and they were like ban people from certain countries and maybe we become the enemy and you like. Because I thought the travel ban applies to people with green cards, passports, passports, so American passport, if they. If they used the countries passport, Stan, it's banned. So even if they have the American green card, it doesn't work. So they have to have citizenship yet. Right. And even do citizenship. If you used your another countries passport, it will walk. Either they won't allow you. Same thing could have Chinese. Someday he starts to travel ban or someone else and then you have a great bond. It wouldn't be any.\""
      ]
     },
     "execution_count": 6,
     "metadata": {
      "tags": []
     },
     "output_type": "execute_result"
    }
   ],
   "source": [
    "text"
   ]
  },
  {
   "cell_type": "code",
   "execution_count": 0,
   "metadata": {
    "colab": {},
    "colab_type": "code",
    "id": "ldtiiQvviuFa"
   },
   "outputs": [],
   "source": [
    "text = [text]"
   ]
  },
  {
   "cell_type": "code",
   "execution_count": 0,
   "metadata": {
    "colab": {},
    "colab_type": "code",
    "id": "8cctKe5qqVnt"
   },
   "outputs": [],
   "source": [
    "def clean_column(data):\n",
    "    if data is not None:\n",
    "        #exclusions = ['RE:', 'Re:', 're:']\n",
    "        #exclusions = '|'.join(exclusions)\n",
    "        data =  data.lower()\n",
    "        data = re.sub('re:', '', data)\n",
    "        data = re.sub('-', '', data)\n",
    "        data = re.sub('_', '', data)\n",
    "        # Remove data between square brackets\n",
    "        data =re.sub('\\[[^]]*\\]', '', data)\n",
    "        # removes punctuation\n",
    "        data = re.sub(r'[^\\w\\s]','',data)\n",
    "        data = re.sub(r'\\n',' ',data)\n",
    "        data = re.sub(r'[0-9]+','',data)\n",
    "        # strip html \n",
    "        p = re.compile(r'<.*?>')\n",
    "        data = re.sub(r\"\\'ve\", \" have \", data)\n",
    "        data = re.sub(r\"can't\", \"cannot \", data)\n",
    "        data = re.sub(r\"n't\", \" not \", data)\n",
    "        data = re.sub(r\"I'm\", \"I am\", data)\n",
    "        data = re.sub(r\" m \", \" am \", data)\n",
    "        data = re.sub(r\"\\'re\", \" are \", data)\n",
    "        data = re.sub(r\"\\'d\", \" would \", data)\n",
    "        data = re.sub(r\"\\'ll\", \" will \", data)\n",
    "        data = re.sub('forwarded by phillip k allenhouect on    pm', '',data)\n",
    "        data = re.sub(r\"httpitcappscorpenroncomsrrsauthemaillinkaspidpage\", \"\", data)\n",
    "        \n",
    "        data = p.sub('', data)\n",
    "        if 'forwarded by:' in data:\n",
    "            data = data.split('subject')[1]\n",
    "        data = data.strip()\n",
    "        return data\n",
    "    return 'No Subject'"
   ]
  },
  {
   "cell_type": "code",
   "execution_count": 0,
   "metadata": {
    "colab": {},
    "colab_type": "code",
    "id": "qjqIa_g-qYbq"
   },
   "outputs": [],
   "source": [
    "text1 = clean_column(text1)"
   ]
  },
  {
   "cell_type": "code",
   "execution_count": 0,
   "metadata": {
    "colab": {},
    "colab_type": "code",
    "id": "c2CRneOLrWtZ"
   },
   "outputs": [],
   "source": [
    "from nltk.tokenize import word_tokenize\n",
    "toks = word_tokenize (text1)"
   ]
  },
  {
   "cell_type": "code",
   "execution_count": 0,
   "metadata": {
    "colab": {},
    "colab_type": "code",
    "id": "6GFtIYeeyvWv"
   },
   "outputs": [],
   "source": [
    "stop_words = stop_words+['like', 'dont','know','yeah','think','really','also','thats', 'um', 'im', 'new', 'york']"
   ]
  },
  {
   "cell_type": "code",
   "execution_count": 0,
   "metadata": {
    "colab": {},
    "colab_type": "code",
    "id": "BGU82SEFr73L"
   },
   "outputs": [],
   "source": [
    "filtered_words = [word for word in toks if word not in stop_words]"
   ]
  },
  {
   "cell_type": "markdown",
   "metadata": {
    "colab_type": "text",
    "id": "_dUcsY_LsRfZ"
   },
   "source": [
    "Could not lemmatize because unable to install pattern -- seems to be an issue in Python 3"
   ]
  },
  {
   "cell_type": "code",
   "execution_count": 90,
   "metadata": {
    "colab": {
     "base_uri": "https://localhost:8080/",
     "height": 51
    },
    "colab_type": "code",
    "id": "si5r8gpTvBHi",
    "outputId": "bdf04350-0915-4346-d9e9-eb695fe57866"
   },
   "outputs": [
    {
     "name": "stderr",
     "output_type": "stream",
     "text": [
      "2020-02-07 22:45:39,389 : INFO : adding document #0 to Dictionary(0 unique tokens: [])\n",
      "2020-02-07 22:45:39,405 : INFO : built Dictionary(1433 unique tokens: ['able', 'abroad', 'absolutely', 'ac', 'accepting']...) from 1 documents (total 5233 corpus positions)\n"
     ]
    }
   ],
   "source": [
    "dict = corpora.Dictionary([filtered_words])"
   ]
  },
  {
   "cell_type": "code",
   "execution_count": 62,
   "metadata": {
    "colab": {
     "base_uri": "https://localhost:8080/",
     "height": 34
    },
    "colab_type": "code",
    "id": "OpPpcViewLmh",
    "outputId": "efd36321-5de9-45fc-afb7-92126b4c0e35"
   },
   "outputs": [
    {
     "name": "stdout",
     "output_type": "stream",
     "text": [
      "Dictionary(1449 unique tokens: ['able', 'abroad', 'absolutely', 'ac', 'accepting']...)\n"
     ]
    }
   ],
   "source": [
    "print(dict)"
   ]
  },
  {
   "cell_type": "code",
   "execution_count": 0,
   "metadata": {
    "colab": {},
    "colab_type": "code",
    "id": "cCmPoOMtwfDk"
   },
   "outputs": [],
   "source": [
    "corpus = [dict.doc2bow(line) for line in [filtered_words]]"
   ]
  },
  {
   "cell_type": "markdown",
   "metadata": {
    "colab_type": "text",
    "id": "K1lWZg37wpZ9"
   },
   "source": [
    "filtered_words only works here as a nested list"
   ]
  },
  {
   "cell_type": "code",
   "execution_count": 95,
   "metadata": {
    "colab": {
     "base_uri": "https://localhost:8080/",
     "height": 1000
    },
    "colab_type": "code",
    "id": "1-J9JvXEw2ch",
    "outputId": "675b211c-9c8d-4baf-f610-3d92fc889b80"
   },
   "outputs": [
    {
     "name": "stderr",
     "output_type": "stream",
     "text": [
      "2020-02-07 22:55:20,513 : INFO : using asymmetric alpha [0.29250792, 0.20771046, 0.16102861, 0.13147931, 0.1110933, 0.096180424]\n",
      "2020-02-07 22:55:20,522 : INFO : using symmetric eta at 0.16666666666666666\n",
      "2020-02-07 22:55:20,527 : INFO : using serial LDA version on this node\n",
      "2020-02-07 22:55:20,532 : INFO : running online LDA training, 6 topics, 10 passes over the supplied corpus of 1 documents, updating every 500 documents, evaluating every ~0 documents, iterating 100x with a convergence threshold of 0.001000\n",
      "2020-02-07 22:55:20,536 : INFO : training LDA model using 1 processes\n",
      "2020-02-07 22:55:20,548 : INFO : PROGRESS: pass 0, dispatched chunk #0 = documents up to #1/1, outstanding queue size 1\n",
      "2020-02-07 22:55:20,572 : INFO : topic #5 (0.096): 0.002*\"feel\" + 0.002*\"kind\" + 0.001*\"lot\" + 0.001*\"time\" + 0.001*\"stuff\" + 0.001*\"work\" + 0.001*\"get\" + 0.001*\"youre\" + 0.001*\"people\" + 0.001*\"china\"\n",
      "2020-02-07 22:55:20,574 : INFO : topic #4 (0.111): 0.003*\"kind\" + 0.002*\"people\" + 0.002*\"back\" + 0.002*\"feel\" + 0.002*\"mean\" + 0.002*\"go\" + 0.002*\"time\" + 0.002*\"china\" + 0.002*\"get\" + 0.002*\"youre\"\n",
      "2020-02-07 22:55:20,576 : INFO : topic #2 (0.161): 0.002*\"kind\" + 0.002*\"feel\" + 0.002*\"people\" + 0.001*\"mean\" + 0.001*\"lot\" + 0.001*\"years\" + 0.001*\"time\" + 0.001*\"get\" + 0.001*\"go\" + 0.001*\"one\"\n",
      "2020-02-07 22:55:20,578 : INFO : topic #1 (0.208): 0.003*\"people\" + 0.002*\"feel\" + 0.002*\"kind\" + 0.002*\"go\" + 0.002*\"get\" + 0.002*\"mean\" + 0.002*\"stuff\" + 0.002*\"china\" + 0.002*\"time\" + 0.002*\"want\"\n",
      "2020-02-07 22:55:20,580 : INFO : topic #0 (0.293): 0.001*\"credit\" + 0.001*\"card\" + 0.001*\"beverage\" + 0.001*\"organic\" + 0.001*\"theres\" + 0.001*\"car\" + 0.001*\"actually\" + 0.001*\"citizen\" + 0.001*\"chanel\" + 0.001*\"oh\"\n",
      "2020-02-07 22:55:20,582 : INFO : topic diff=0.077447, rho=0.125000\n",
      "2020-02-07 22:55:20,600 : INFO : -8.631 per-word bound, 396.4 perplexity estimate based on a held-out corpus of 1 documents with 5233 words\n",
      "2020-02-07 22:55:20,601 : INFO : PROGRESS: pass 1, dispatched chunk #0 = documents up to #1/1, outstanding queue size 1\n",
      "2020-02-07 22:55:20,620 : INFO : topic #5 (0.096): 0.002*\"feel\" + 0.002*\"kind\" + 0.001*\"lot\" + 0.001*\"time\" + 0.001*\"stuff\" + 0.001*\"work\" + 0.001*\"get\" + 0.001*\"youre\" + 0.001*\"people\" + 0.001*\"china\"\n",
      "2020-02-07 22:55:20,624 : INFO : topic #4 (0.111): 0.006*\"kind\" + 0.005*\"feel\" + 0.005*\"people\" + 0.004*\"back\" + 0.004*\"mean\" + 0.004*\"go\" + 0.003*\"time\" + 0.003*\"get\" + 0.003*\"lot\" + 0.003*\"youre\"\n",
      "2020-02-07 22:55:20,626 : INFO : topic #2 (0.161): 0.002*\"kind\" + 0.002*\"feel\" + 0.002*\"people\" + 0.001*\"mean\" + 0.001*\"lot\" + 0.001*\"years\" + 0.001*\"time\" + 0.001*\"get\" + 0.001*\"go\" + 0.001*\"one\"\n",
      "2020-02-07 22:55:20,629 : INFO : topic #1 (0.208): 0.005*\"people\" + 0.005*\"feel\" + 0.004*\"kind\" + 0.003*\"go\" + 0.003*\"get\" + 0.003*\"stuff\" + 0.003*\"want\" + 0.003*\"mean\" + 0.003*\"time\" + 0.003*\"lot\"\n",
      "2020-02-07 22:55:20,633 : INFO : topic #0 (0.293): 0.001*\"credit\" + 0.001*\"card\" + 0.001*\"beverage\" + 0.001*\"organic\" + 0.001*\"theres\" + 0.001*\"car\" + 0.001*\"actually\" + 0.001*\"citizen\" + 0.001*\"chanel\" + 0.001*\"oh\"\n",
      "2020-02-07 22:55:20,637 : INFO : topic diff=0.099825, rho=0.124033\n",
      "2020-02-07 22:55:20,651 : INFO : -8.249 per-word bound, 304.2 perplexity estimate based on a held-out corpus of 1 documents with 5233 words\n",
      "2020-02-07 22:55:20,655 : INFO : PROGRESS: pass 2, dispatched chunk #0 = documents up to #1/1, outstanding queue size 1\n",
      "2020-02-07 22:55:20,675 : INFO : topic #5 (0.096): 0.002*\"feel\" + 0.002*\"kind\" + 0.001*\"lot\" + 0.001*\"time\" + 0.001*\"stuff\" + 0.001*\"work\" + 0.001*\"get\" + 0.001*\"youre\" + 0.001*\"people\" + 0.001*\"china\"\n",
      "2020-02-07 22:55:20,677 : INFO : topic #4 (0.111): 0.009*\"kind\" + 0.008*\"feel\" + 0.007*\"people\" + 0.006*\"mean\" + 0.006*\"back\" + 0.006*\"go\" + 0.005*\"time\" + 0.005*\"get\" + 0.005*\"lot\" + 0.005*\"china\"\n",
      "2020-02-07 22:55:20,681 : INFO : topic #2 (0.161): 0.002*\"kind\" + 0.002*\"feel\" + 0.002*\"people\" + 0.001*\"mean\" + 0.001*\"lot\" + 0.001*\"years\" + 0.001*\"time\" + 0.001*\"get\" + 0.001*\"go\" + 0.001*\"one\"\n",
      "2020-02-07 22:55:20,687 : INFO : topic #1 (0.208): 0.005*\"people\" + 0.004*\"feel\" + 0.004*\"kind\" + 0.003*\"go\" + 0.003*\"get\" + 0.003*\"stuff\" + 0.003*\"want\" + 0.003*\"mean\" + 0.003*\"time\" + 0.003*\"lot\"\n",
      "2020-02-07 22:55:20,688 : INFO : topic #0 (0.293): 0.001*\"credit\" + 0.001*\"card\" + 0.001*\"beverage\" + 0.001*\"organic\" + 0.001*\"theres\" + 0.001*\"car\" + 0.001*\"actually\" + 0.001*\"citizen\" + 0.001*\"chanel\" + 0.001*\"oh\"\n",
      "2020-02-07 22:55:20,689 : INFO : topic diff=0.089573, rho=0.123090\n",
      "2020-02-07 22:55:20,702 : INFO : -7.977 per-word bound, 252.0 perplexity estimate based on a held-out corpus of 1 documents with 5233 words\n",
      "2020-02-07 22:55:20,704 : INFO : PROGRESS: pass 3, dispatched chunk #0 = documents up to #1/1, outstanding queue size 1\n",
      "2020-02-07 22:55:20,715 : INFO : topic #5 (0.096): 0.002*\"feel\" + 0.002*\"kind\" + 0.001*\"lot\" + 0.001*\"time\" + 0.001*\"stuff\" + 0.001*\"work\" + 0.001*\"get\" + 0.001*\"youre\" + 0.001*\"people\" + 0.001*\"china\"\n",
      "2020-02-07 22:55:20,718 : INFO : topic #4 (0.111): 0.011*\"kind\" + 0.009*\"feel\" + 0.009*\"people\" + 0.007*\"mean\" + 0.007*\"go\" + 0.007*\"back\" + 0.006*\"time\" + 0.006*\"get\" + 0.006*\"lot\" + 0.006*\"want\"\n",
      "2020-02-07 22:55:20,720 : INFO : topic #2 (0.161): 0.002*\"kind\" + 0.002*\"feel\" + 0.001*\"people\" + 0.001*\"mean\" + 0.001*\"lot\" + 0.001*\"years\" + 0.001*\"time\" + 0.001*\"get\" + 0.001*\"go\" + 0.001*\"one\"\n",
      "2020-02-07 22:55:20,723 : INFO : topic #1 (0.208): 0.005*\"people\" + 0.004*\"feel\" + 0.004*\"kind\" + 0.003*\"go\" + 0.003*\"get\" + 0.003*\"stuff\" + 0.003*\"want\" + 0.003*\"mean\" + 0.003*\"time\" + 0.003*\"lot\"\n",
      "2020-02-07 22:55:20,725 : INFO : topic #0 (0.293): 0.001*\"credit\" + 0.001*\"card\" + 0.001*\"beverage\" + 0.001*\"organic\" + 0.001*\"theres\" + 0.001*\"car\" + 0.001*\"actually\" + 0.001*\"citizen\" + 0.001*\"chanel\" + 0.001*\"oh\"\n",
      "2020-02-07 22:55:20,727 : INFO : topic diff=0.085319, rho=0.122168\n",
      "2020-02-07 22:55:20,745 : INFO : -7.824 per-word bound, 226.6 perplexity estimate based on a held-out corpus of 1 documents with 5233 words\n",
      "2020-02-07 22:55:20,746 : INFO : PROGRESS: pass 4, dispatched chunk #0 = documents up to #1/1, outstanding queue size 1\n",
      "2020-02-07 22:55:20,762 : INFO : topic #5 (0.096): 0.002*\"feel\" + 0.002*\"kind\" + 0.001*\"lot\" + 0.001*\"time\" + 0.001*\"stuff\" + 0.001*\"work\" + 0.001*\"get\" + 0.001*\"youre\" + 0.001*\"people\" + 0.001*\"china\"\n",
      "2020-02-07 22:55:20,765 : INFO : topic #4 (0.111): 0.012*\"kind\" + 0.011*\"feel\" + 0.010*\"people\" + 0.008*\"mean\" + 0.007*\"go\" + 0.007*\"back\" + 0.007*\"time\" + 0.007*\"get\" + 0.007*\"lot\" + 0.006*\"want\"\n",
      "2020-02-07 22:55:20,767 : INFO : topic #2 (0.161): 0.002*\"kind\" + 0.002*\"feel\" + 0.001*\"people\" + 0.001*\"mean\" + 0.001*\"lot\" + 0.001*\"years\" + 0.001*\"time\" + 0.001*\"get\" + 0.001*\"go\" + 0.001*\"one\"\n",
      "2020-02-07 22:55:20,769 : INFO : topic #1 (0.208): 0.004*\"people\" + 0.004*\"feel\" + 0.004*\"kind\" + 0.003*\"go\" + 0.003*\"get\" + 0.003*\"stuff\" + 0.003*\"want\" + 0.003*\"mean\" + 0.003*\"time\" + 0.003*\"lot\"\n",
      "2020-02-07 22:55:20,770 : INFO : topic #0 (0.293): 0.001*\"credit\" + 0.001*\"card\" + 0.001*\"beverage\" + 0.001*\"organic\" + 0.001*\"theres\" + 0.001*\"car\" + 0.001*\"actually\" + 0.001*\"citizen\" + 0.001*\"chanel\" + 0.001*\"oh\"\n",
      "2020-02-07 22:55:20,772 : INFO : topic diff=0.086221, rho=0.121266\n",
      "2020-02-07 22:55:20,792 : INFO : -7.712 per-word bound, 209.7 perplexity estimate based on a held-out corpus of 1 documents with 5233 words\n",
      "2020-02-07 22:55:20,794 : INFO : PROGRESS: pass 5, dispatched chunk #0 = documents up to #1/1, outstanding queue size 1\n",
      "2020-02-07 22:55:20,807 : INFO : topic #5 (0.096): 0.002*\"feel\" + 0.002*\"kind\" + 0.001*\"lot\" + 0.001*\"time\" + 0.001*\"stuff\" + 0.001*\"work\" + 0.001*\"get\" + 0.001*\"youre\" + 0.001*\"people\" + 0.001*\"china\"\n",
      "2020-02-07 22:55:20,810 : INFO : topic #4 (0.111): 0.013*\"kind\" + 0.011*\"feel\" + 0.011*\"people\" + 0.008*\"mean\" + 0.008*\"go\" + 0.008*\"back\" + 0.008*\"time\" + 0.007*\"get\" + 0.007*\"lot\" + 0.007*\"want\"\n",
      "2020-02-07 22:55:20,811 : INFO : topic #2 (0.161): 0.002*\"kind\" + 0.002*\"feel\" + 0.001*\"people\" + 0.001*\"mean\" + 0.001*\"lot\" + 0.001*\"years\" + 0.001*\"time\" + 0.001*\"get\" + 0.001*\"go\" + 0.001*\"one\"\n",
      "2020-02-07 22:55:20,813 : INFO : topic #1 (0.208): 0.004*\"people\" + 0.004*\"feel\" + 0.004*\"kind\" + 0.003*\"go\" + 0.003*\"get\" + 0.003*\"stuff\" + 0.003*\"want\" + 0.003*\"mean\" + 0.003*\"time\" + 0.002*\"lot\"\n",
      "2020-02-07 22:55:20,815 : INFO : topic #0 (0.293): 0.001*\"credit\" + 0.001*\"card\" + 0.001*\"beverage\" + 0.001*\"organic\" + 0.001*\"theres\" + 0.001*\"car\" + 0.001*\"actually\" + 0.001*\"citizen\" + 0.001*\"chanel\" + 0.001*\"oh\"\n",
      "2020-02-07 22:55:20,816 : INFO : topic diff=0.089190, rho=0.120384\n",
      "2020-02-07 22:55:20,837 : INFO : -7.620 per-word bound, 196.7 perplexity estimate based on a held-out corpus of 1 documents with 5233 words\n",
      "2020-02-07 22:55:20,838 : INFO : PROGRESS: pass 6, dispatched chunk #0 = documents up to #1/1, outstanding queue size 1\n",
      "2020-02-07 22:55:20,850 : INFO : topic #5 (0.096): 0.002*\"feel\" + 0.002*\"kind\" + 0.001*\"lot\" + 0.001*\"time\" + 0.001*\"stuff\" + 0.001*\"work\" + 0.001*\"get\" + 0.001*\"youre\" + 0.001*\"people\" + 0.001*\"china\"\n",
      "2020-02-07 22:55:20,854 : INFO : topic #4 (0.111): 0.014*\"kind\" + 0.012*\"feel\" + 0.012*\"people\" + 0.009*\"mean\" + 0.008*\"go\" + 0.008*\"back\" + 0.008*\"time\" + 0.008*\"get\" + 0.008*\"lot\" + 0.007*\"want\"\n",
      "2020-02-07 22:55:20,855 : INFO : topic #2 (0.161): 0.002*\"kind\" + 0.002*\"feel\" + 0.001*\"people\" + 0.001*\"mean\" + 0.001*\"lot\" + 0.001*\"years\" + 0.001*\"time\" + 0.001*\"get\" + 0.001*\"go\" + 0.001*\"one\"\n",
      "2020-02-07 22:55:20,857 : INFO : topic #1 (0.208): 0.004*\"people\" + 0.004*\"feel\" + 0.003*\"kind\" + 0.003*\"go\" + 0.003*\"get\" + 0.003*\"stuff\" + 0.003*\"want\" + 0.003*\"mean\" + 0.003*\"time\" + 0.002*\"lot\"\n",
      "2020-02-07 22:55:20,858 : INFO : topic #0 (0.293): 0.001*\"credit\" + 0.001*\"card\" + 0.001*\"beverage\" + 0.001*\"organic\" + 0.001*\"theres\" + 0.001*\"car\" + 0.001*\"actually\" + 0.001*\"citizen\" + 0.001*\"chanel\" + 0.001*\"oh\"\n",
      "2020-02-07 22:55:20,860 : INFO : topic diff=0.093117, rho=0.119521\n",
      "2020-02-07 22:55:20,877 : INFO : -7.540 per-word bound, 186.2 perplexity estimate based on a held-out corpus of 1 documents with 5233 words\n",
      "2020-02-07 22:55:20,879 : INFO : PROGRESS: pass 7, dispatched chunk #0 = documents up to #1/1, outstanding queue size 1\n",
      "2020-02-07 22:55:20,890 : INFO : topic #5 (0.096): 0.002*\"feel\" + 0.002*\"kind\" + 0.001*\"lot\" + 0.001*\"time\" + 0.001*\"stuff\" + 0.001*\"work\" + 0.001*\"get\" + 0.001*\"youre\" + 0.001*\"people\" + 0.001*\"china\"\n",
      "2020-02-07 22:55:20,892 : INFO : topic #4 (0.111): 0.014*\"kind\" + 0.013*\"feel\" + 0.012*\"people\" + 0.009*\"mean\" + 0.009*\"go\" + 0.008*\"time\" + 0.008*\"back\" + 0.008*\"get\" + 0.008*\"lot\" + 0.007*\"want\"\n",
      "2020-02-07 22:55:20,894 : INFO : topic #2 (0.161): 0.002*\"kind\" + 0.002*\"feel\" + 0.001*\"people\" + 0.001*\"mean\" + 0.001*\"lot\" + 0.001*\"years\" + 0.001*\"time\" + 0.001*\"get\" + 0.001*\"go\" + 0.001*\"one\"\n",
      "2020-02-07 22:55:20,895 : INFO : topic #1 (0.208): 0.004*\"people\" + 0.004*\"feel\" + 0.003*\"kind\" + 0.003*\"go\" + 0.003*\"get\" + 0.003*\"stuff\" + 0.003*\"want\" + 0.003*\"mean\" + 0.002*\"time\" + 0.002*\"lot\"\n",
      "2020-02-07 22:55:20,897 : INFO : topic #0 (0.293): 0.001*\"credit\" + 0.001*\"card\" + 0.001*\"beverage\" + 0.001*\"organic\" + 0.001*\"theres\" + 0.001*\"car\" + 0.001*\"actually\" + 0.001*\"citizen\" + 0.001*\"chanel\" + 0.001*\"oh\"\n",
      "2020-02-07 22:55:20,898 : INFO : topic diff=0.097439, rho=0.118676\n",
      "2020-02-07 22:55:20,916 : INFO : -7.469 per-word bound, 177.2 perplexity estimate based on a held-out corpus of 1 documents with 5233 words\n",
      "2020-02-07 22:55:20,924 : INFO : PROGRESS: pass 8, dispatched chunk #0 = documents up to #1/1, outstanding queue size 1\n",
      "2020-02-07 22:55:20,938 : INFO : topic #5 (0.096): 0.002*\"feel\" + 0.002*\"kind\" + 0.001*\"lot\" + 0.001*\"time\" + 0.001*\"stuff\" + 0.001*\"work\" + 0.001*\"get\" + 0.001*\"youre\" + 0.001*\"people\" + 0.001*\"china\"\n",
      "2020-02-07 22:55:20,940 : INFO : topic #4 (0.111): 0.015*\"kind\" + 0.013*\"feel\" + 0.013*\"people\" + 0.009*\"mean\" + 0.009*\"go\" + 0.009*\"time\" + 0.008*\"back\" + 0.008*\"get\" + 0.008*\"lot\" + 0.008*\"want\"\n",
      "2020-02-07 22:55:20,941 : INFO : topic #2 (0.161): 0.002*\"kind\" + 0.002*\"feel\" + 0.001*\"people\" + 0.001*\"mean\" + 0.001*\"lot\" + 0.001*\"years\" + 0.001*\"time\" + 0.001*\"get\" + 0.001*\"go\" + 0.001*\"one\"\n",
      "2020-02-07 22:55:20,943 : INFO : topic #1 (0.208): 0.004*\"people\" + 0.004*\"feel\" + 0.003*\"kind\" + 0.003*\"go\" + 0.003*\"get\" + 0.003*\"stuff\" + 0.003*\"want\" + 0.002*\"mean\" + 0.002*\"time\" + 0.002*\"lot\"\n",
      "2020-02-07 22:55:20,945 : INFO : topic #0 (0.293): 0.001*\"credit\" + 0.001*\"card\" + 0.001*\"beverage\" + 0.001*\"organic\" + 0.001*\"theres\" + 0.001*\"car\" + 0.001*\"actually\" + 0.001*\"citizen\" + 0.001*\"chanel\" + 0.001*\"oh\"\n",
      "2020-02-07 22:55:20,948 : INFO : topic diff=0.101798, rho=0.117849\n",
      "2020-02-07 22:55:20,969 : INFO : -7.405 per-word bound, 169.5 perplexity estimate based on a held-out corpus of 1 documents with 5233 words\n",
      "2020-02-07 22:55:20,970 : INFO : PROGRESS: pass 9, dispatched chunk #0 = documents up to #1/1, outstanding queue size 1\n",
      "2020-02-07 22:55:20,984 : INFO : topic #5 (0.096): 0.002*\"feel\" + 0.002*\"kind\" + 0.001*\"lot\" + 0.001*\"time\" + 0.001*\"stuff\" + 0.001*\"work\" + 0.001*\"get\" + 0.001*\"youre\" + 0.001*\"people\" + 0.001*\"china\"\n",
      "2020-02-07 22:55:20,986 : INFO : topic #4 (0.111): 0.015*\"kind\" + 0.013*\"feel\" + 0.013*\"people\" + 0.009*\"mean\" + 0.009*\"go\" + 0.009*\"time\" + 0.009*\"back\" + 0.009*\"get\" + 0.008*\"lot\" + 0.008*\"want\"\n",
      "2020-02-07 22:55:20,987 : INFO : topic #2 (0.161): 0.002*\"kind\" + 0.002*\"feel\" + 0.001*\"people\" + 0.001*\"mean\" + 0.001*\"lot\" + 0.001*\"years\" + 0.001*\"time\" + 0.001*\"get\" + 0.001*\"go\" + 0.001*\"one\"\n",
      "2020-02-07 22:55:20,989 : INFO : topic #1 (0.208): 0.004*\"people\" + 0.004*\"feel\" + 0.003*\"kind\" + 0.003*\"go\" + 0.003*\"get\" + 0.003*\"stuff\" + 0.002*\"want\" + 0.002*\"mean\" + 0.002*\"time\" + 0.002*\"lot\"\n",
      "2020-02-07 22:55:20,991 : INFO : topic #0 (0.293): 0.001*\"credit\" + 0.001*\"card\" + 0.001*\"beverage\" + 0.001*\"organic\" + 0.001*\"theres\" + 0.001*\"car\" + 0.001*\"actually\" + 0.001*\"citizen\" + 0.001*\"chanel\" + 0.001*\"oh\"\n",
      "2020-02-07 22:55:20,992 : INFO : topic diff=0.105937, rho=0.117040\n",
      "2020-02-07 22:55:21,009 : INFO : -7.347 per-word bound, 162.8 perplexity estimate based on a held-out corpus of 1 documents with 5233 words\n",
      "2020-02-07 22:55:21,059 : INFO : saving LdaState object under lda_model.model.state, separately None\n",
      "/usr/local/lib/python3.6/dist-packages/smart_open/smart_open_lib.py:402: UserWarning: This function is deprecated, use smart_open.open instead. See the migration notes for details: https://github.com/RaRe-Technologies/smart_open/blob/master/README.rst#migrating-to-the-new-open-function\n",
      "  'See the migration notes for details: %s' % _MIGRATION_NOTES_URL\n",
      "2020-02-07 22:55:21,064 : INFO : saved lda_model.model.state\n",
      "2020-02-07 22:55:21,068 : INFO : saving LdaMulticore object under lda_model.model, separately ['expElogbeta', 'sstats']\n",
      "2020-02-07 22:55:21,070 : INFO : storing np array 'expElogbeta' to lda_model.model.expElogbeta.npy\n",
      "2020-02-07 22:55:21,073 : INFO : not storing attribute state\n",
      "2020-02-07 22:55:21,075 : INFO : not storing attribute dispatcher\n",
      "2020-02-07 22:55:21,076 : INFO : not storing attribute id2word\n",
      "2020-02-07 22:55:21,078 : INFO : saved lda_model.model\n",
      "2020-02-07 22:55:21,081 : INFO : topic #0 (0.293): 0.001*\"credit\" + 0.001*\"card\" + 0.001*\"beverage\" + 0.001*\"organic\" + 0.001*\"theres\" + 0.001*\"car\" + 0.001*\"actually\" + 0.001*\"citizen\" + 0.001*\"chanel\" + 0.001*\"oh\"\n",
      "2020-02-07 22:55:21,083 : INFO : topic #1 (0.208): 0.004*\"people\" + 0.004*\"feel\" + 0.003*\"kind\" + 0.003*\"go\" + 0.003*\"get\" + 0.003*\"stuff\" + 0.002*\"want\" + 0.002*\"mean\" + 0.002*\"time\" + 0.002*\"lot\"\n",
      "2020-02-07 22:55:21,085 : INFO : topic #2 (0.161): 0.002*\"kind\" + 0.002*\"feel\" + 0.001*\"people\" + 0.001*\"mean\" + 0.001*\"lot\" + 0.001*\"years\" + 0.001*\"time\" + 0.001*\"get\" + 0.001*\"go\" + 0.001*\"one\"\n",
      "2020-02-07 22:55:21,087 : INFO : topic #3 (0.131): 0.001*\"people\" + 0.001*\"kind\" + 0.001*\"want\" + 0.001*\"go\" + 0.001*\"feel\" + 0.001*\"get\" + 0.001*\"time\" + 0.001*\"still\" + 0.001*\"lot\" + 0.001*\"back\"\n",
      "2020-02-07 22:55:21,088 : INFO : topic #4 (0.111): 0.015*\"kind\" + 0.013*\"feel\" + 0.013*\"people\" + 0.009*\"mean\" + 0.009*\"go\" + 0.009*\"time\" + 0.009*\"back\" + 0.009*\"get\" + 0.008*\"lot\" + 0.008*\"want\"\n",
      "2020-02-07 22:55:21,091 : INFO : topic #5 (0.096): 0.002*\"feel\" + 0.002*\"kind\" + 0.001*\"lot\" + 0.001*\"time\" + 0.001*\"stuff\" + 0.001*\"work\" + 0.001*\"get\" + 0.001*\"youre\" + 0.001*\"people\" + 0.001*\"china\"\n"
     ]
    },
    {
     "data": {
      "text/plain": [
       "[(0,\n",
       "  '0.001*\"credit\" + 0.001*\"card\" + 0.001*\"beverage\" + 0.001*\"organic\" + 0.001*\"theres\" + 0.001*\"car\" + 0.001*\"actually\" + 0.001*\"citizen\" + 0.001*\"chanel\" + 0.001*\"oh\"'),\n",
       " (1,\n",
       "  '0.004*\"people\" + 0.004*\"feel\" + 0.003*\"kind\" + 0.003*\"go\" + 0.003*\"get\" + 0.003*\"stuff\" + 0.002*\"want\" + 0.002*\"mean\" + 0.002*\"time\" + 0.002*\"lot\"'),\n",
       " (2,\n",
       "  '0.002*\"kind\" + 0.002*\"feel\" + 0.001*\"people\" + 0.001*\"mean\" + 0.001*\"lot\" + 0.001*\"years\" + 0.001*\"time\" + 0.001*\"get\" + 0.001*\"go\" + 0.001*\"one\"'),\n",
       " (3,\n",
       "  '0.001*\"people\" + 0.001*\"kind\" + 0.001*\"want\" + 0.001*\"go\" + 0.001*\"feel\" + 0.001*\"get\" + 0.001*\"time\" + 0.001*\"still\" + 0.001*\"lot\" + 0.001*\"back\"'),\n",
       " (4,\n",
       "  '0.015*\"kind\" + 0.013*\"feel\" + 0.013*\"people\" + 0.009*\"mean\" + 0.009*\"go\" + 0.009*\"time\" + 0.009*\"back\" + 0.009*\"get\" + 0.008*\"lot\" + 0.008*\"want\"'),\n",
       " (5,\n",
       "  '0.002*\"feel\" + 0.002*\"kind\" + 0.001*\"lot\" + 0.001*\"time\" + 0.001*\"stuff\" + 0.001*\"work\" + 0.001*\"get\" + 0.001*\"youre\" + 0.001*\"people\" + 0.001*\"china\"')]"
      ]
     },
     "execution_count": 95,
     "metadata": {
      "tags": []
     },
     "output_type": "execute_result"
    }
   ],
   "source": [
    "# Step 4: Train the LDA model\n",
    "lda_model = LdaMulticore(corpus=corpus,\n",
    "                         id2word=dict,\n",
    "                         random_state=100,\n",
    "                         num_topics=6,\n",
    "                         passes=10,\n",
    "                         chunksize=500,\n",
    "                         batch=False,\n",
    "                         alpha='asymmetric',\n",
    "                         decay=0.5,\n",
    "                         offset=64,\n",
    "                         eta=None,\n",
    "                         eval_every=0,\n",
    "                         iterations=100,\n",
    "                         gamma_threshold=0.001,\n",
    "                         per_word_topics=True)\n",
    "\n",
    "# save the model\n",
    "lda_model.save('lda_model.model')\n",
    "\n",
    "# See the topics\n",
    "lda_model.print_topics(-1)"
   ]
  },
  {
   "cell_type": "markdown",
   "metadata": {
    "colab_type": "text",
    "id": "udQA_FjiyEqw"
   },
   "source": [
    "Obvs need more stopwords -- 'like', 'dont','know','yeah','think','really','also','thats','im','um' etc. add in before line removing stop words\n",
    "\n"
   ]
  },
  {
   "cell_type": "markdown",
   "metadata": {
    "colab_type": "text",
    "id": "ABiK2sAV2nlQ"
   },
   "source": [
    "Topic 1 : Something about daily living in the city, using credit cards, getting around, food and drink etc \n",
    "Topic 2: people feel kind \n",
    "Topic 3 and 4 have very little distinction (looking at the numbers ???)\n",
    "Time is a thing they talka bout a lot \n",
    "possibly topic 4/ 6 are about returning 'home' \n"
   ]
  },
  {
   "cell_type": "code",
   "execution_count": 76,
   "metadata": {
    "colab": {
     "base_uri": "https://localhost:8080/",
     "height": 238
    },
    "colab_type": "code",
    "id": "NW5qV_ANxVJv",
    "outputId": "cccb7ff7-4c78-4b1c-98a9-3f67fa0d4657"
   },
   "outputs": [
    {
     "name": "stderr",
     "output_type": "stream",
     "text": [
      "2020-02-07 22:40:23,693 : INFO : using serial LSI version on this node\n",
      "2020-02-07 22:40:23,696 : INFO : updating model with new documents\n",
      "2020-02-07 22:40:23,698 : INFO : preparing a new chunk of documents\n",
      "2020-02-07 22:40:23,701 : INFO : using 100 extra samples and 2 power iterations\n",
      "2020-02-07 22:40:23,706 : INFO : 1st phase: constructing (1437, 107) action matrix\n",
      "2020-02-07 22:40:23,710 : INFO : orthonormalizing (1437, 107) action matrix\n",
      "2020-02-07 22:40:23,770 : INFO : 2nd phase: running dense svd on (107, 1) matrix\n",
      "2020-02-07 22:40:23,779 : INFO : computing the final decomposition\n",
      "2020-02-07 22:40:23,786 : INFO : keeping 1 factors (discarding 0.000% of energy spectrum)\n",
      "2020-02-07 22:40:23,792 : INFO : processed documents up to #1\n",
      "2020-02-07 22:40:23,798 : INFO : topic #0(331.959): 0.274*\"kind\" + 0.244*\"feel\" + 0.238*\"people\" + 0.229*\"im\" + 0.193*\"um\" + 0.169*\"go\" + 0.169*\"new\" + 0.169*\"mean\" + 0.160*\"time\" + 0.157*\"back\"\n",
      "2020-02-07 22:40:23,800 : INFO : topic #0(331.959): 0.274*\"kind\" + 0.244*\"feel\" + 0.238*\"people\" + 0.229*\"im\" + 0.193*\"um\" + 0.169*\"go\" + 0.169*\"new\" + 0.169*\"mean\" + 0.160*\"time\" + 0.157*\"back\"\n"
     ]
    },
    {
     "name": "stdout",
     "output_type": "stream",
     "text": [
      "[(0, '0.274*\"kind\" + 0.244*\"feel\" + 0.238*\"people\" + 0.229*\"im\" + 0.193*\"um\" + 0.169*\"go\" + 0.169*\"new\" + 0.169*\"mean\" + 0.160*\"time\" + 0.157*\"back\"')]\n"
     ]
    }
   ],
   "source": [
    "# Try LSI Model\n",
    "from gensim.models import LsiModel\n",
    "\n",
    "# Build the LSI Model\n",
    "lsi_model = LsiModel(corpus=corpus, id2word=dict, num_topics=7, decay=0.5)\n",
    "\n",
    "# View Topics\n",
    "print(lsi_model.print_topics())"
   ]
  },
  {
   "cell_type": "markdown",
   "metadata": {
    "colab_type": "text",
    "id": "V8UXbN1r0GS_"
   },
   "source": [
    "LSI (also known as Latent Semantic Analysis, LSA) learns latent topics by performing a matrix decomposition (SVD) on the term-document matrix. LDA is a generative probabilistic model, that assumes a Dirichlet prior over the latent topics. In practice, LSI is much faster to train than LDA, but has lower accuracy."
   ]
  },
  {
   "cell_type": "markdown",
   "metadata": {
    "colab_type": "text",
    "id": "jQ5B-yU82duF"
   },
   "source": [
    "Try to incorporate bigram / trigram to give it a bit more context "
   ]
  },
  {
   "cell_type": "code",
   "execution_count": 98,
   "metadata": {
    "colab": {
     "base_uri": "https://localhost:8080/",
     "height": 255
    },
    "colab_type": "code",
    "id": "SvIEAHwJ2cu9",
    "outputId": "a0af2d74-1eaa-4ce3-c750-fc1fdae25246"
   },
   "outputs": [
    {
     "name": "stderr",
     "output_type": "stream",
     "text": [
      "2020-02-07 23:11:09,808 : INFO : collecting all words and their counts\n",
      "2020-02-07 23:11:09,811 : INFO : PROGRESS: at sentence #0, processed 0 words and 0 word types\n",
      "2020-02-07 23:11:09,910 : INFO : collected 450 word types from a corpus of 68235 words (unigram + bigrams) and 1 sentences\n",
      "2020-02-07 23:11:09,912 : INFO : using 450 counts as vocab in Phrases<0 vocab, min_count=5, threshold=100, max_vocab_size=40000000>\n",
      "/usr/local/lib/python3.6/dist-packages/gensim/models/phrases.py:598: UserWarning: For a faster implementation, use the gensim.models.phrases.Phraser class\n",
      "  warnings.warn(\"For a faster implementation, use the gensim.models.phrases.Phraser class\")\n",
      "2020-02-07 23:11:09,915 : INFO : collecting all words and their counts\n",
      "2020-02-07 23:11:09,917 : INFO : PROGRESS: at sentence #0, processed 0 words and 0 word types\n",
      "2020-02-07 23:11:10,010 : INFO : collected 450 word types from a corpus of 68235 words (unigram + bigrams) and 1 sentences\n",
      "2020-02-07 23:11:10,011 : INFO : using 450 counts as vocab in Phrases<0 vocab, min_count=5, threshold=100, max_vocab_size=40000000>\n",
      "2020-02-07 23:11:10,014 : INFO : source_vocab length 450\n",
      "2020-02-07 23:11:10,025 : INFO : Phraser built with 0 phrasegrams\n",
      "2020-02-07 23:11:10,028 : INFO : source_vocab length 450\n",
      "2020-02-07 23:11:10,036 : INFO : Phraser built with 0 phrasegrams\n"
     ]
    }
   ],
   "source": [
    "import gensim, spacy, logging, warnings\n",
    "from gensim.models import CoherenceModel\n",
    "bigram = gensim.models.Phrases([text1], min_count = 5, threshold = 100) # higher threshold fewer phrases.\n",
    "trigram = gensim.models.Phrases(bigram[[text1]], threshold=100)  \n",
    "bigram_mod = gensim.models.phrases.Phraser(bigram)\n",
    "trigram_mod = gensim.models.phrases.Phraser(trigram)"
   ]
  },
  {
   "cell_type": "markdown",
   "metadata": {
    "colab_type": "text",
    "id": "mExmEwyD7NMU"
   },
   "source": [
    "Ran the above on text 1 as it has more context (not yet tokenzied and removed stopwords) \n",
    "\n",
    "Next to apply bi and tri gram models to filtered_words. \n",
    "\n",
    "If in one step application of models occurs in same step as stopword removal"
   ]
  },
  {
   "cell_type": "code",
   "execution_count": 0,
   "metadata": {
    "colab": {},
    "colab_type": "code",
    "id": "lV78tN8_60U_"
   },
   "outputs": [],
   "source": [
    "new_text = [bigram_mod[filtered_words]]\n",
    "new_text = [trigram_mod[bigram_mod[filtered_words]]]"
   ]
  },
  {
   "cell_type": "code",
   "execution_count": 116,
   "metadata": {
    "colab": {
     "base_uri": "https://localhost:8080/",
     "height": 1000
    },
    "colab_type": "code",
    "id": "lwQus-br8xqa",
    "outputId": "2cc10dba-c121-4b9e-f11b-fe067bee20e6"
   },
   "outputs": [
    {
     "name": "stderr",
     "output_type": "stream",
     "text": [
      "2020-02-07 23:39:45,437 : INFO : adding document #0 to Dictionary(0 unique tokens: [])\n",
      "2020-02-07 23:39:45,459 : INFO : built Dictionary(1433 unique tokens: ['able', 'abroad', 'absolutely', 'ac', 'accepting']...) from 1 documents (total 5233 corpus positions)\n",
      "2020-02-07 23:39:45,467 : INFO : using asymmetric alpha [0.29250792, 0.20771046, 0.16102861, 0.13147931, 0.1110933, 0.096180424]\n",
      "2020-02-07 23:39:45,469 : INFO : using symmetric eta at 0.16666666666666666\n",
      "2020-02-07 23:39:45,472 : INFO : using serial LDA version on this node\n",
      "2020-02-07 23:39:45,477 : INFO : running online LDA training, 6 topics, 10 passes over the supplied corpus of 1 documents, updating every 500 documents, evaluating every ~0 documents, iterating 100x with a convergence threshold of 0.001000\n",
      "2020-02-07 23:39:45,481 : INFO : training LDA model using 1 processes\n",
      "2020-02-07 23:39:45,494 : INFO : PROGRESS: pass 0, dispatched chunk #0 = documents up to #1/1, outstanding queue size 1\n",
      "2020-02-07 23:39:45,525 : INFO : topic #5 (0.096): 0.002*\"feel\" + 0.002*\"kind\" + 0.001*\"lot\" + 0.001*\"time\" + 0.001*\"stuff\" + 0.001*\"work\" + 0.001*\"get\" + 0.001*\"youre\" + 0.001*\"people\" + 0.001*\"china\"\n",
      "2020-02-07 23:39:45,526 : INFO : topic #4 (0.111): 0.003*\"kind\" + 0.002*\"people\" + 0.002*\"back\" + 0.002*\"feel\" + 0.002*\"mean\" + 0.002*\"go\" + 0.002*\"time\" + 0.002*\"china\" + 0.002*\"get\" + 0.002*\"youre\"\n",
      "2020-02-07 23:39:45,528 : INFO : topic #2 (0.161): 0.002*\"kind\" + 0.002*\"feel\" + 0.002*\"people\" + 0.001*\"mean\" + 0.001*\"lot\" + 0.001*\"years\" + 0.001*\"time\" + 0.001*\"get\" + 0.001*\"go\" + 0.001*\"one\"\n",
      "2020-02-07 23:39:45,530 : INFO : topic #1 (0.208): 0.003*\"people\" + 0.002*\"feel\" + 0.002*\"kind\" + 0.002*\"go\" + 0.002*\"get\" + 0.002*\"mean\" + 0.002*\"stuff\" + 0.002*\"china\" + 0.002*\"time\" + 0.002*\"want\"\n",
      "2020-02-07 23:39:45,531 : INFO : topic #0 (0.293): 0.001*\"credit\" + 0.001*\"card\" + 0.001*\"beverage\" + 0.001*\"organic\" + 0.001*\"theres\" + 0.001*\"car\" + 0.001*\"actually\" + 0.001*\"citizen\" + 0.001*\"chanel\" + 0.001*\"oh\"\n",
      "2020-02-07 23:39:45,533 : INFO : topic diff=0.077447, rho=0.125000\n",
      "2020-02-07 23:39:45,553 : INFO : -8.631 per-word bound, 396.4 perplexity estimate based on a held-out corpus of 1 documents with 5233 words\n",
      "2020-02-07 23:39:45,554 : INFO : PROGRESS: pass 1, dispatched chunk #0 = documents up to #1/1, outstanding queue size 1\n",
      "2020-02-07 23:39:45,574 : INFO : topic #5 (0.096): 0.002*\"feel\" + 0.002*\"kind\" + 0.001*\"lot\" + 0.001*\"time\" + 0.001*\"stuff\" + 0.001*\"work\" + 0.001*\"get\" + 0.001*\"youre\" + 0.001*\"people\" + 0.001*\"china\"\n",
      "2020-02-07 23:39:45,575 : INFO : topic #4 (0.111): 0.006*\"kind\" + 0.005*\"feel\" + 0.005*\"people\" + 0.004*\"back\" + 0.004*\"mean\" + 0.004*\"go\" + 0.003*\"time\" + 0.003*\"get\" + 0.003*\"lot\" + 0.003*\"youre\"\n",
      "2020-02-07 23:39:45,576 : INFO : topic #2 (0.161): 0.002*\"kind\" + 0.002*\"feel\" + 0.002*\"people\" + 0.001*\"mean\" + 0.001*\"lot\" + 0.001*\"years\" + 0.001*\"time\" + 0.001*\"get\" + 0.001*\"go\" + 0.001*\"one\"\n",
      "2020-02-07 23:39:45,578 : INFO : topic #1 (0.208): 0.005*\"people\" + 0.005*\"feel\" + 0.004*\"kind\" + 0.003*\"go\" + 0.003*\"get\" + 0.003*\"stuff\" + 0.003*\"want\" + 0.003*\"mean\" + 0.003*\"time\" + 0.003*\"lot\"\n",
      "2020-02-07 23:39:45,579 : INFO : topic #0 (0.293): 0.001*\"credit\" + 0.001*\"card\" + 0.001*\"beverage\" + 0.001*\"organic\" + 0.001*\"theres\" + 0.001*\"car\" + 0.001*\"actually\" + 0.001*\"citizen\" + 0.001*\"chanel\" + 0.001*\"oh\"\n",
      "2020-02-07 23:39:45,581 : INFO : topic diff=0.099825, rho=0.124033\n",
      "2020-02-07 23:39:45,601 : INFO : -8.249 per-word bound, 304.2 perplexity estimate based on a held-out corpus of 1 documents with 5233 words\n",
      "2020-02-07 23:39:45,603 : INFO : PROGRESS: pass 2, dispatched chunk #0 = documents up to #1/1, outstanding queue size 1\n",
      "2020-02-07 23:39:45,621 : INFO : topic #5 (0.096): 0.002*\"feel\" + 0.002*\"kind\" + 0.001*\"lot\" + 0.001*\"time\" + 0.001*\"stuff\" + 0.001*\"work\" + 0.001*\"get\" + 0.001*\"youre\" + 0.001*\"people\" + 0.001*\"china\"\n",
      "2020-02-07 23:39:45,624 : INFO : topic #4 (0.111): 0.009*\"kind\" + 0.008*\"feel\" + 0.007*\"people\" + 0.006*\"mean\" + 0.006*\"back\" + 0.006*\"go\" + 0.005*\"time\" + 0.005*\"get\" + 0.005*\"lot\" + 0.005*\"china\"\n",
      "2020-02-07 23:39:45,626 : INFO : topic #2 (0.161): 0.002*\"kind\" + 0.002*\"feel\" + 0.002*\"people\" + 0.001*\"mean\" + 0.001*\"lot\" + 0.001*\"years\" + 0.001*\"time\" + 0.001*\"get\" + 0.001*\"go\" + 0.001*\"one\"\n",
      "2020-02-07 23:39:45,627 : INFO : topic #1 (0.208): 0.005*\"people\" + 0.004*\"feel\" + 0.004*\"kind\" + 0.003*\"go\" + 0.003*\"get\" + 0.003*\"stuff\" + 0.003*\"want\" + 0.003*\"mean\" + 0.003*\"time\" + 0.003*\"lot\"\n",
      "2020-02-07 23:39:45,630 : INFO : topic #0 (0.293): 0.001*\"credit\" + 0.001*\"card\" + 0.001*\"beverage\" + 0.001*\"organic\" + 0.001*\"theres\" + 0.001*\"car\" + 0.001*\"actually\" + 0.001*\"citizen\" + 0.001*\"chanel\" + 0.001*\"oh\"\n",
      "2020-02-07 23:39:45,632 : INFO : topic diff=0.089573, rho=0.123090\n",
      "2020-02-07 23:39:45,648 : INFO : -7.977 per-word bound, 252.0 perplexity estimate based on a held-out corpus of 1 documents with 5233 words\n",
      "2020-02-07 23:39:45,650 : INFO : PROGRESS: pass 3, dispatched chunk #0 = documents up to #1/1, outstanding queue size 1\n",
      "2020-02-07 23:39:45,664 : INFO : topic #5 (0.096): 0.002*\"feel\" + 0.002*\"kind\" + 0.001*\"lot\" + 0.001*\"time\" + 0.001*\"stuff\" + 0.001*\"work\" + 0.001*\"get\" + 0.001*\"youre\" + 0.001*\"people\" + 0.001*\"china\"\n",
      "2020-02-07 23:39:45,666 : INFO : topic #4 (0.111): 0.011*\"kind\" + 0.009*\"feel\" + 0.009*\"people\" + 0.007*\"mean\" + 0.007*\"go\" + 0.007*\"back\" + 0.006*\"time\" + 0.006*\"get\" + 0.006*\"lot\" + 0.006*\"want\"\n",
      "2020-02-07 23:39:45,667 : INFO : topic #2 (0.161): 0.002*\"kind\" + 0.002*\"feel\" + 0.001*\"people\" + 0.001*\"mean\" + 0.001*\"lot\" + 0.001*\"years\" + 0.001*\"time\" + 0.001*\"get\" + 0.001*\"go\" + 0.001*\"one\"\n",
      "2020-02-07 23:39:45,670 : INFO : topic #1 (0.208): 0.005*\"people\" + 0.004*\"feel\" + 0.004*\"kind\" + 0.003*\"go\" + 0.003*\"get\" + 0.003*\"stuff\" + 0.003*\"want\" + 0.003*\"mean\" + 0.003*\"time\" + 0.003*\"lot\"\n",
      "2020-02-07 23:39:45,671 : INFO : topic #0 (0.293): 0.001*\"credit\" + 0.001*\"card\" + 0.001*\"beverage\" + 0.001*\"organic\" + 0.001*\"theres\" + 0.001*\"car\" + 0.001*\"actually\" + 0.001*\"citizen\" + 0.001*\"chanel\" + 0.001*\"oh\"\n",
      "2020-02-07 23:39:45,673 : INFO : topic diff=0.085319, rho=0.122168\n",
      "2020-02-07 23:39:45,693 : INFO : -7.824 per-word bound, 226.6 perplexity estimate based on a held-out corpus of 1 documents with 5233 words\n",
      "2020-02-07 23:39:45,694 : INFO : PROGRESS: pass 4, dispatched chunk #0 = documents up to #1/1, outstanding queue size 1\n",
      "2020-02-07 23:39:45,717 : INFO : topic #5 (0.096): 0.002*\"feel\" + 0.002*\"kind\" + 0.001*\"lot\" + 0.001*\"time\" + 0.001*\"stuff\" + 0.001*\"work\" + 0.001*\"get\" + 0.001*\"youre\" + 0.001*\"people\" + 0.001*\"china\"\n",
      "2020-02-07 23:39:45,719 : INFO : topic #4 (0.111): 0.012*\"kind\" + 0.011*\"feel\" + 0.010*\"people\" + 0.008*\"mean\" + 0.007*\"go\" + 0.007*\"back\" + 0.007*\"time\" + 0.007*\"get\" + 0.007*\"lot\" + 0.006*\"want\"\n",
      "2020-02-07 23:39:45,721 : INFO : topic #2 (0.161): 0.002*\"kind\" + 0.002*\"feel\" + 0.001*\"people\" + 0.001*\"mean\" + 0.001*\"lot\" + 0.001*\"years\" + 0.001*\"time\" + 0.001*\"get\" + 0.001*\"go\" + 0.001*\"one\"\n",
      "2020-02-07 23:39:45,725 : INFO : topic #1 (0.208): 0.004*\"people\" + 0.004*\"feel\" + 0.004*\"kind\" + 0.003*\"go\" + 0.003*\"get\" + 0.003*\"stuff\" + 0.003*\"want\" + 0.003*\"mean\" + 0.003*\"time\" + 0.003*\"lot\"\n",
      "2020-02-07 23:39:45,727 : INFO : topic #0 (0.293): 0.001*\"credit\" + 0.001*\"card\" + 0.001*\"beverage\" + 0.001*\"organic\" + 0.001*\"theres\" + 0.001*\"car\" + 0.001*\"actually\" + 0.001*\"citizen\" + 0.001*\"chanel\" + 0.001*\"oh\"\n",
      "2020-02-07 23:39:45,729 : INFO : topic diff=0.086221, rho=0.121266\n",
      "2020-02-07 23:39:45,747 : INFO : -7.712 per-word bound, 209.7 perplexity estimate based on a held-out corpus of 1 documents with 5233 words\n",
      "2020-02-07 23:39:45,748 : INFO : PROGRESS: pass 5, dispatched chunk #0 = documents up to #1/1, outstanding queue size 1\n",
      "2020-02-07 23:39:45,763 : INFO : topic #5 (0.096): 0.002*\"feel\" + 0.002*\"kind\" + 0.001*\"lot\" + 0.001*\"time\" + 0.001*\"stuff\" + 0.001*\"work\" + 0.001*\"get\" + 0.001*\"youre\" + 0.001*\"people\" + 0.001*\"china\"\n",
      "2020-02-07 23:39:45,765 : INFO : topic #4 (0.111): 0.013*\"kind\" + 0.011*\"feel\" + 0.011*\"people\" + 0.008*\"mean\" + 0.008*\"go\" + 0.008*\"back\" + 0.008*\"time\" + 0.007*\"get\" + 0.007*\"lot\" + 0.007*\"want\"\n",
      "2020-02-07 23:39:45,767 : INFO : topic #2 (0.161): 0.002*\"kind\" + 0.002*\"feel\" + 0.001*\"people\" + 0.001*\"mean\" + 0.001*\"lot\" + 0.001*\"years\" + 0.001*\"time\" + 0.001*\"get\" + 0.001*\"go\" + 0.001*\"one\"\n",
      "2020-02-07 23:39:45,769 : INFO : topic #1 (0.208): 0.004*\"people\" + 0.004*\"feel\" + 0.004*\"kind\" + 0.003*\"go\" + 0.003*\"get\" + 0.003*\"stuff\" + 0.003*\"want\" + 0.003*\"mean\" + 0.003*\"time\" + 0.002*\"lot\"\n",
      "2020-02-07 23:39:45,771 : INFO : topic #0 (0.293): 0.001*\"credit\" + 0.001*\"card\" + 0.001*\"beverage\" + 0.001*\"organic\" + 0.001*\"theres\" + 0.001*\"car\" + 0.001*\"actually\" + 0.001*\"citizen\" + 0.001*\"chanel\" + 0.001*\"oh\"\n",
      "2020-02-07 23:39:45,773 : INFO : topic diff=0.089190, rho=0.120384\n",
      "2020-02-07 23:39:45,791 : INFO : -7.620 per-word bound, 196.7 perplexity estimate based on a held-out corpus of 1 documents with 5233 words\n",
      "2020-02-07 23:39:45,792 : INFO : PROGRESS: pass 6, dispatched chunk #0 = documents up to #1/1, outstanding queue size 1\n",
      "2020-02-07 23:39:45,799 : INFO : PROGRESS: pass 7, dispatched chunk #0 = documents up to #1/1, outstanding queue size 1\n",
      "2020-02-07 23:39:45,812 : INFO : topic #5 (0.096): 0.002*\"feel\" + 0.002*\"kind\" + 0.001*\"lot\" + 0.001*\"time\" + 0.001*\"stuff\" + 0.001*\"work\" + 0.001*\"get\" + 0.001*\"youre\" + 0.001*\"people\" + 0.001*\"china\"\n",
      "2020-02-07 23:39:45,813 : INFO : topic #4 (0.111): 0.014*\"kind\" + 0.012*\"feel\" + 0.012*\"people\" + 0.009*\"mean\" + 0.008*\"go\" + 0.008*\"back\" + 0.008*\"time\" + 0.008*\"get\" + 0.008*\"lot\" + 0.007*\"want\"\n",
      "2020-02-07 23:39:45,815 : INFO : topic #2 (0.161): 0.002*\"kind\" + 0.002*\"feel\" + 0.001*\"people\" + 0.001*\"mean\" + 0.001*\"lot\" + 0.001*\"years\" + 0.001*\"time\" + 0.001*\"get\" + 0.001*\"go\" + 0.001*\"one\"\n",
      "2020-02-07 23:39:45,816 : INFO : topic #1 (0.208): 0.004*\"people\" + 0.004*\"feel\" + 0.003*\"kind\" + 0.003*\"go\" + 0.003*\"get\" + 0.003*\"stuff\" + 0.003*\"want\" + 0.003*\"mean\" + 0.003*\"time\" + 0.002*\"lot\"\n",
      "2020-02-07 23:39:45,818 : INFO : topic #0 (0.293): 0.001*\"credit\" + 0.001*\"card\" + 0.001*\"beverage\" + 0.001*\"organic\" + 0.001*\"theres\" + 0.001*\"car\" + 0.001*\"actually\" + 0.001*\"citizen\" + 0.001*\"chanel\" + 0.001*\"oh\"\n",
      "2020-02-07 23:39:45,819 : INFO : topic diff=0.092397, rho=0.118676\n",
      "2020-02-07 23:39:45,835 : INFO : -7.541 per-word bound, 186.2 perplexity estimate based on a held-out corpus of 1 documents with 5233 words\n",
      "2020-02-07 23:39:45,836 : INFO : PROGRESS: pass 8, dispatched chunk #0 = documents up to #1/1, outstanding queue size 1\n",
      "2020-02-07 23:39:45,848 : INFO : topic #5 (0.096): 0.002*\"feel\" + 0.002*\"kind\" + 0.001*\"lot\" + 0.001*\"time\" + 0.001*\"stuff\" + 0.001*\"work\" + 0.001*\"get\" + 0.001*\"youre\" + 0.001*\"people\" + 0.001*\"china\"\n",
      "2020-02-07 23:39:45,850 : INFO : topic #4 (0.111): 0.014*\"kind\" + 0.012*\"feel\" + 0.012*\"people\" + 0.009*\"mean\" + 0.009*\"go\" + 0.008*\"time\" + 0.008*\"back\" + 0.008*\"get\" + 0.008*\"lot\" + 0.007*\"want\"\n",
      "2020-02-07 23:39:45,851 : INFO : topic #2 (0.161): 0.002*\"kind\" + 0.002*\"feel\" + 0.001*\"people\" + 0.001*\"mean\" + 0.001*\"lot\" + 0.001*\"years\" + 0.001*\"time\" + 0.001*\"get\" + 0.001*\"go\" + 0.001*\"one\"\n",
      "2020-02-07 23:39:45,853 : INFO : topic #1 (0.208): 0.004*\"people\" + 0.004*\"feel\" + 0.003*\"kind\" + 0.003*\"go\" + 0.003*\"get\" + 0.003*\"stuff\" + 0.003*\"want\" + 0.003*\"mean\" + 0.002*\"time\" + 0.002*\"lot\"\n",
      "2020-02-07 23:39:45,854 : INFO : topic #0 (0.293): 0.001*\"credit\" + 0.001*\"card\" + 0.001*\"beverage\" + 0.001*\"organic\" + 0.001*\"theres\" + 0.001*\"car\" + 0.001*\"actually\" + 0.001*\"citizen\" + 0.001*\"chanel\" + 0.001*\"oh\"\n",
      "2020-02-07 23:39:45,856 : INFO : topic diff=0.096658, rho=0.117849\n",
      "2020-02-07 23:39:45,872 : INFO : -7.470 per-word bound, 177.3 perplexity estimate based on a held-out corpus of 1 documents with 5233 words\n",
      "2020-02-07 23:39:45,873 : INFO : PROGRESS: pass 9, dispatched chunk #0 = documents up to #1/1, outstanding queue size 1\n",
      "2020-02-07 23:39:45,884 : INFO : topic #5 (0.096): 0.002*\"feel\" + 0.002*\"kind\" + 0.001*\"lot\" + 0.001*\"time\" + 0.001*\"stuff\" + 0.001*\"work\" + 0.001*\"get\" + 0.001*\"youre\" + 0.001*\"people\" + 0.001*\"china\"\n",
      "2020-02-07 23:39:45,886 : INFO : topic #4 (0.111): 0.015*\"kind\" + 0.013*\"feel\" + 0.013*\"people\" + 0.009*\"mean\" + 0.009*\"go\" + 0.009*\"time\" + 0.008*\"back\" + 0.008*\"get\" + 0.008*\"lot\" + 0.008*\"want\"\n",
      "2020-02-07 23:39:45,888 : INFO : topic #2 (0.161): 0.002*\"kind\" + 0.002*\"feel\" + 0.001*\"people\" + 0.001*\"mean\" + 0.001*\"lot\" + 0.001*\"years\" + 0.001*\"time\" + 0.001*\"get\" + 0.001*\"go\" + 0.001*\"one\"\n",
      "2020-02-07 23:39:45,889 : INFO : topic #1 (0.208): 0.004*\"people\" + 0.004*\"feel\" + 0.003*\"kind\" + 0.003*\"go\" + 0.003*\"get\" + 0.003*\"stuff\" + 0.003*\"want\" + 0.002*\"mean\" + 0.002*\"time\" + 0.002*\"lot\"\n",
      "2020-02-07 23:39:45,891 : INFO : topic #0 (0.293): 0.001*\"credit\" + 0.001*\"card\" + 0.001*\"beverage\" + 0.001*\"organic\" + 0.001*\"theres\" + 0.001*\"car\" + 0.001*\"actually\" + 0.001*\"citizen\" + 0.001*\"chanel\" + 0.001*\"oh\"\n",
      "2020-02-07 23:39:45,893 : INFO : topic diff=0.100959, rho=0.117040\n",
      "2020-02-07 23:39:45,911 : INFO : -7.406 per-word bound, 169.6 perplexity estimate based on a held-out corpus of 1 documents with 5233 words\n",
      "2020-02-07 23:39:46,007 : INFO : saving LdaState object under lda_model.model.state, separately None\n",
      "/usr/local/lib/python3.6/dist-packages/smart_open/smart_open_lib.py:402: UserWarning: This function is deprecated, use smart_open.open instead. See the migration notes for details: https://github.com/RaRe-Technologies/smart_open/blob/master/README.rst#migrating-to-the-new-open-function\n",
      "  'See the migration notes for details: %s' % _MIGRATION_NOTES_URL\n",
      "2020-02-07 23:39:46,012 : INFO : saved lda_model.model.state\n",
      "2020-02-07 23:39:46,015 : INFO : saving LdaMulticore object under lda_model.model, separately ['expElogbeta', 'sstats']\n",
      "2020-02-07 23:39:46,017 : INFO : storing np array 'expElogbeta' to lda_model.model.expElogbeta.npy\n",
      "2020-02-07 23:39:46,021 : INFO : not storing attribute state\n",
      "2020-02-07 23:39:46,022 : INFO : not storing attribute dispatcher\n",
      "2020-02-07 23:39:46,025 : INFO : not storing attribute id2word\n",
      "2020-02-07 23:39:46,027 : INFO : saved lda_model.model\n",
      "2020-02-07 23:39:46,029 : INFO : topic #0 (0.293): 0.001*\"credit\" + 0.001*\"card\" + 0.001*\"beverage\" + 0.001*\"organic\" + 0.001*\"theres\" + 0.001*\"car\" + 0.001*\"actually\" + 0.001*\"citizen\" + 0.001*\"chanel\" + 0.001*\"oh\"\n",
      "2020-02-07 23:39:46,031 : INFO : topic #1 (0.208): 0.004*\"people\" + 0.004*\"feel\" + 0.003*\"kind\" + 0.003*\"go\" + 0.003*\"get\" + 0.003*\"stuff\" + 0.003*\"want\" + 0.002*\"mean\" + 0.002*\"time\" + 0.002*\"lot\"\n",
      "2020-02-07 23:39:46,032 : INFO : topic #2 (0.161): 0.002*\"kind\" + 0.002*\"feel\" + 0.001*\"people\" + 0.001*\"mean\" + 0.001*\"lot\" + 0.001*\"years\" + 0.001*\"time\" + 0.001*\"get\" + 0.001*\"go\" + 0.001*\"one\"\n",
      "2020-02-07 23:39:46,033 : INFO : topic #3 (0.131): 0.001*\"people\" + 0.001*\"kind\" + 0.001*\"want\" + 0.001*\"go\" + 0.001*\"feel\" + 0.001*\"get\" + 0.001*\"time\" + 0.001*\"still\" + 0.001*\"lot\" + 0.001*\"back\"\n",
      "2020-02-07 23:39:46,034 : INFO : topic #4 (0.111): 0.015*\"kind\" + 0.013*\"feel\" + 0.013*\"people\" + 0.009*\"mean\" + 0.009*\"go\" + 0.009*\"time\" + 0.008*\"back\" + 0.008*\"get\" + 0.008*\"lot\" + 0.008*\"want\"\n",
      "2020-02-07 23:39:46,036 : INFO : topic #5 (0.096): 0.002*\"feel\" + 0.002*\"kind\" + 0.001*\"lot\" + 0.001*\"time\" + 0.001*\"stuff\" + 0.001*\"work\" + 0.001*\"get\" + 0.001*\"youre\" + 0.001*\"people\" + 0.001*\"china\"\n"
     ]
    },
    {
     "data": {
      "text/plain": [
       "[(0,\n",
       "  '0.001*\"credit\" + 0.001*\"card\" + 0.001*\"beverage\" + 0.001*\"organic\" + 0.001*\"theres\" + 0.001*\"car\" + 0.001*\"actually\" + 0.001*\"citizen\" + 0.001*\"chanel\" + 0.001*\"oh\"'),\n",
       " (1,\n",
       "  '0.004*\"people\" + 0.004*\"feel\" + 0.003*\"kind\" + 0.003*\"go\" + 0.003*\"get\" + 0.003*\"stuff\" + 0.003*\"want\" + 0.002*\"mean\" + 0.002*\"time\" + 0.002*\"lot\"'),\n",
       " (2,\n",
       "  '0.002*\"kind\" + 0.002*\"feel\" + 0.001*\"people\" + 0.001*\"mean\" + 0.001*\"lot\" + 0.001*\"years\" + 0.001*\"time\" + 0.001*\"get\" + 0.001*\"go\" + 0.001*\"one\"'),\n",
       " (3,\n",
       "  '0.001*\"people\" + 0.001*\"kind\" + 0.001*\"want\" + 0.001*\"go\" + 0.001*\"feel\" + 0.001*\"get\" + 0.001*\"time\" + 0.001*\"still\" + 0.001*\"lot\" + 0.001*\"back\"'),\n",
       " (4,\n",
       "  '0.015*\"kind\" + 0.013*\"feel\" + 0.013*\"people\" + 0.009*\"mean\" + 0.009*\"go\" + 0.009*\"time\" + 0.008*\"back\" + 0.008*\"get\" + 0.008*\"lot\" + 0.008*\"want\"'),\n",
       " (5,\n",
       "  '0.002*\"feel\" + 0.002*\"kind\" + 0.001*\"lot\" + 0.001*\"time\" + 0.001*\"stuff\" + 0.001*\"work\" + 0.001*\"get\" + 0.001*\"youre\" + 0.001*\"people\" + 0.001*\"china\"')]"
      ]
     },
     "execution_count": 116,
     "metadata": {
      "tags": []
     },
     "output_type": "execute_result"
    }
   ],
   "source": [
    "\n",
    "dict = corpora.Dictionary(new_text)\n",
    "corpus = [dict.doc2bow(line) for line in new_text]\n",
    "lda_model = LdaMulticore(corpus=corpus,\n",
    "                          id2word=dict,\n",
    "                          random_state=100,\n",
    "                          num_topics=6,\n",
    "                          passes=10,\n",
    "                          chunksize=500,\n",
    "                          batch=False,\n",
    "                          alpha='asymmetric',\n",
    "                          decay=0.5,\n",
    "                          offset=64,\n",
    "                          eta=None,\n",
    "                          eval_every=0,\n",
    "                          iterations=100,\n",
    "                          gamma_threshold=0.001,\n",
    "                          per_word_topics=True)\n",
    "\n",
    "  # save the model\n",
    "lda_model.save('lda_model.model')\n",
    "\n",
    "  # See the topics\n",
    "lda_model.print_topics(-1)"
   ]
  },
  {
   "cell_type": "markdown",
   "metadata": {
    "colab_type": "text",
    "id": "v5ZzQmfoBMhc"
   },
   "source": [
    "Results seem exactly the same. not sure what bigram/ trigram mod is doing... \n"
   ]
  },
  {
   "cell_type": "code",
   "execution_count": 124,
   "metadata": {
    "colab": {
     "base_uri": "https://localhost:8080/",
     "height": 612
    },
    "colab_type": "code",
    "id": "4adiOa_yDjwy",
    "outputId": "ae453575-1f30-4948-c04b-bde9a17aad02"
   },
   "outputs": [
    {
     "name": "stdout",
     "output_type": "stream",
     "text": [
      "Collecting pyLDAvis\n",
      "\u001b[?25l  Downloading https://files.pythonhosted.org/packages/a5/3a/af82e070a8a96e13217c8f362f9a73e82d61ac8fff3a2561946a97f96266/pyLDAvis-2.1.2.tar.gz (1.6MB)\n",
      "\u001b[K     |████████████████████████████████| 1.6MB 2.8MB/s \n",
      "\u001b[?25hRequirement already satisfied: wheel>=0.23.0 in /usr/local/lib/python3.6/dist-packages (from pyLDAvis) (0.34.2)\n",
      "Requirement already satisfied: numpy>=1.9.2 in /usr/local/lib/python3.6/dist-packages (from pyLDAvis) (1.17.5)\n",
      "Requirement already satisfied: scipy>=0.18.0 in /usr/local/lib/python3.6/dist-packages (from pyLDAvis) (1.4.1)\n",
      "Requirement already satisfied: pandas>=0.17.0 in /usr/local/lib/python3.6/dist-packages (from pyLDAvis) (0.25.3)\n",
      "Requirement already satisfied: joblib>=0.8.4 in /usr/local/lib/python3.6/dist-packages (from pyLDAvis) (0.14.1)\n",
      "Requirement already satisfied: jinja2>=2.7.2 in /usr/local/lib/python3.6/dist-packages (from pyLDAvis) (2.11.1)\n",
      "Requirement already satisfied: numexpr in /usr/local/lib/python3.6/dist-packages (from pyLDAvis) (2.7.1)\n",
      "Requirement already satisfied: pytest in /usr/local/lib/python3.6/dist-packages (from pyLDAvis) (3.6.4)\n",
      "Requirement already satisfied: future in /usr/local/lib/python3.6/dist-packages (from pyLDAvis) (0.16.0)\n",
      "Collecting funcy\n",
      "\u001b[?25l  Downloading https://files.pythonhosted.org/packages/ce/4b/6ffa76544e46614123de31574ad95758c421aae391a1764921b8a81e1eae/funcy-1.14.tar.gz (548kB)\n",
      "\u001b[K     |████████████████████████████████| 552kB 44.9MB/s \n",
      "\u001b[?25hRequirement already satisfied: pytz>=2017.2 in /usr/local/lib/python3.6/dist-packages (from pandas>=0.17.0->pyLDAvis) (2018.9)\n",
      "Requirement already satisfied: python-dateutil>=2.6.1 in /usr/local/lib/python3.6/dist-packages (from pandas>=0.17.0->pyLDAvis) (2.6.1)\n",
      "Requirement already satisfied: MarkupSafe>=0.23 in /usr/local/lib/python3.6/dist-packages (from jinja2>=2.7.2->pyLDAvis) (1.1.1)\n",
      "Requirement already satisfied: six>=1.10.0 in /usr/local/lib/python3.6/dist-packages (from pytest->pyLDAvis) (1.12.0)\n",
      "Requirement already satisfied: atomicwrites>=1.0 in /usr/local/lib/python3.6/dist-packages (from pytest->pyLDAvis) (1.3.0)\n",
      "Requirement already satisfied: py>=1.5.0 in /usr/local/lib/python3.6/dist-packages (from pytest->pyLDAvis) (1.8.1)\n",
      "Requirement already satisfied: attrs>=17.4.0 in /usr/local/lib/python3.6/dist-packages (from pytest->pyLDAvis) (19.3.0)\n",
      "Requirement already satisfied: setuptools in /usr/local/lib/python3.6/dist-packages (from pytest->pyLDAvis) (45.1.0)\n",
      "Requirement already satisfied: pluggy<0.8,>=0.5 in /usr/local/lib/python3.6/dist-packages (from pytest->pyLDAvis) (0.7.1)\n",
      "Requirement already satisfied: more-itertools>=4.0.0 in /usr/local/lib/python3.6/dist-packages (from pytest->pyLDAvis) (8.2.0)\n",
      "Building wheels for collected packages: pyLDAvis, funcy\n",
      "  Building wheel for pyLDAvis (setup.py) ... \u001b[?25l\u001b[?25hdone\n",
      "  Created wheel for pyLDAvis: filename=pyLDAvis-2.1.2-py2.py3-none-any.whl size=97711 sha256=050ed11bffef292dce1f7cdf24406a31f0e92c166a84a0334bb48789d5c5cdae\n",
      "  Stored in directory: /root/.cache/pip/wheels/98/71/24/513a99e58bb6b8465bae4d2d5e9dba8f0bef8179e3051ac414\n",
      "  Building wheel for funcy (setup.py) ... \u001b[?25l\u001b[?25hdone\n",
      "  Created wheel for funcy: filename=funcy-1.14-py2.py3-none-any.whl size=32042 sha256=914c96dfbda5784ac5371ce764f4769dfd4dd4edc4bd1d76376bc862cc9edad4\n",
      "  Stored in directory: /root/.cache/pip/wheels/20/5a/d8/1d875df03deae6f178dfdf70238cca33f948ef8a6f5209f2eb\n",
      "Successfully built pyLDAvis funcy\n",
      "Installing collected packages: funcy, pyLDAvis\n",
      "Successfully installed funcy-1.14 pyLDAvis-2.1.2\n"
     ]
    }
   ],
   "source": [
    "!pip install pyLDAvis"
   ]
  },
  {
   "cell_type": "code",
   "execution_count": 125,
   "metadata": {
    "colab": {
     "base_uri": "https://localhost:8080/",
     "height": 51
    },
    "colab_type": "code",
    "id": "bU2s5_KzBLop",
    "outputId": "52580a4e-8d74-4349-b254-e13f3e787a40"
   },
   "outputs": [
    {
     "name": "stderr",
     "output_type": "stream",
     "text": [
      "2020-02-08 00:02:01,936 : INFO : Generating grammar tables from /usr/lib/python3.6/lib2to3/Grammar.txt\n",
      "2020-02-08 00:02:01,966 : INFO : Generating grammar tables from /usr/lib/python3.6/lib2to3/PatternGrammar.txt\n"
     ]
    }
   ],
   "source": [
    "# Plotting tools\n",
    "import pyLDAvis\n",
    "import pyLDAvis.gensim  # don't skip this\n",
    "import matplotlib.pyplot as plt\n",
    "%matplotlib inline"
   ]
  },
  {
   "cell_type": "code",
   "execution_count": 127,
   "metadata": {
    "colab": {
     "base_uri": "https://localhost:8080/",
     "height": 1000
    },
    "colab_type": "code",
    "id": "tbmYMvIFGxvS",
    "outputId": "deb527f2-e252-48a2-df7e-50e9657f3e73"
   },
   "outputs": [
    {
     "name": "stderr",
     "output_type": "stream",
     "text": [
      "2020-02-08 00:04:14,399 : INFO : NumExpr defaulting to 2 threads.\n",
      "/usr/local/lib/python3.6/dist-packages/pyLDAvis/_prepare.py:257: FutureWarning: Sorting because non-concatenation axis is not aligned. A future version\n",
      "of pandas will change to not sort by default.\n",
      "\n",
      "To accept the future behavior, pass 'sort=False'.\n",
      "\n",
      "To retain the current behavior and silence the warning, pass 'sort=True'.\n",
      "\n",
      "  return pd.concat([default_term_info] + list(topic_dfs))\n"
     ]
    },
    {
     "data": {
      "text/html": [
       "\n",
       "<link rel=\"stylesheet\" type=\"text/css\" href=\"https://cdn.rawgit.com/bmabey/pyLDAvis/files/ldavis.v1.0.0.css\">\n",
       "\n",
       "\n",
       "<div id=\"ldavis_el1221403922233790321063908808\"></div>\n",
       "<script type=\"text/javascript\">\n",
       "\n",
       "var ldavis_el1221403922233790321063908808_data = {\"mdsDat\": {\"x\": [-0.0793216657374525, 0.03268305051963752, -0.008919918796403753, 0.015630843626944634, 0.02350858311140826, 0.01641910727586584], \"y\": [-8.92581878440294e-07, -0.00029068000990246825, 4.48657393122877e-05, -0.0004949935589388093, 0.0007601147868113741, -1.8414375402752734e-05], \"topics\": [1, 2, 3, 4, 5, 6], \"cluster\": [1, 1, 1, 1, 1, 1], \"Freq\": [99.9827651977539, 0.005774915684014559, 0.004024227149784565, 0.0030862237326800823, 0.002514181425794959, 0.001837739022448659]}, \"tinfo\": {\"Category\": [\"Default\", \"Default\", \"Default\", \"Default\", \"Default\", \"Default\", \"Default\", \"Default\", \"Default\", \"Default\", \"Default\", \"Default\", \"Default\", \"Default\", \"Default\", \"Default\", \"Default\", \"Default\", \"Default\", \"Default\", \"Default\", \"Default\", \"Default\", \"Default\", \"Default\", \"Default\", \"Default\", \"Default\", \"Default\", \"Default\", \"Topic1\", \"Topic1\", \"Topic1\", \"Topic1\", \"Topic1\", \"Topic1\", \"Topic1\", \"Topic1\", \"Topic1\", \"Topic1\", \"Topic1\", \"Topic1\", \"Topic1\", \"Topic1\", \"Topic1\", \"Topic1\", \"Topic1\", \"Topic1\", \"Topic1\", \"Topic1\", \"Topic1\", \"Topic1\", \"Topic1\", \"Topic1\", \"Topic1\", \"Topic1\", \"Topic1\", \"Topic1\", \"Topic1\", \"Topic1\", \"Topic2\", \"Topic2\", \"Topic2\", \"Topic2\", \"Topic2\", \"Topic2\", \"Topic2\", \"Topic2\", \"Topic2\", \"Topic2\", \"Topic2\", \"Topic2\", \"Topic2\", \"Topic2\", \"Topic2\", \"Topic2\", \"Topic2\", \"Topic2\", \"Topic2\", \"Topic2\", \"Topic2\", \"Topic2\", \"Topic2\", \"Topic2\", \"Topic2\", \"Topic2\", \"Topic2\", \"Topic2\", \"Topic2\", \"Topic2\", \"Topic2\", \"Topic2\", \"Topic2\", \"Topic2\", \"Topic2\", \"Topic2\", \"Topic2\", \"Topic2\", \"Topic2\", \"Topic2\", \"Topic2\", \"Topic2\", \"Topic2\", \"Topic2\", \"Topic2\", \"Topic2\", \"Topic2\", \"Topic2\", \"Topic2\", \"Topic2\", \"Topic2\", \"Topic2\", \"Topic2\", \"Topic2\", \"Topic2\", \"Topic2\", \"Topic2\", \"Topic3\", \"Topic3\", \"Topic3\", \"Topic3\", \"Topic3\", \"Topic3\", \"Topic3\", \"Topic3\", \"Topic3\", \"Topic3\", \"Topic3\", \"Topic3\", \"Topic3\", \"Topic3\", \"Topic3\", \"Topic3\", \"Topic3\", \"Topic3\", \"Topic3\", \"Topic3\", \"Topic3\", \"Topic3\", \"Topic3\", \"Topic3\", \"Topic3\", \"Topic3\", \"Topic3\", \"Topic3\", \"Topic3\", \"Topic3\", \"Topic3\", \"Topic3\", \"Topic3\", \"Topic3\", \"Topic3\", \"Topic3\", \"Topic3\", \"Topic3\", \"Topic3\", \"Topic3\", \"Topic3\", \"Topic3\", \"Topic3\", \"Topic3\", \"Topic3\", \"Topic3\", \"Topic3\", \"Topic3\", \"Topic3\", \"Topic3\", \"Topic3\", \"Topic3\", \"Topic3\", \"Topic3\", \"Topic3\", \"Topic3\", \"Topic3\", \"Topic3\", \"Topic3\", \"Topic3\", \"Topic3\", \"Topic3\", \"Topic3\", \"Topic3\", \"Topic3\", \"Topic3\", \"Topic3\", \"Topic3\", \"Topic3\", \"Topic3\", \"Topic3\", \"Topic4\", \"Topic4\", \"Topic4\", \"Topic4\", \"Topic4\", \"Topic4\", \"Topic4\", \"Topic4\", \"Topic4\", \"Topic4\", \"Topic4\", \"Topic4\", \"Topic4\", \"Topic4\", \"Topic4\", \"Topic4\", \"Topic4\", \"Topic4\", \"Topic4\", \"Topic4\", \"Topic4\", \"Topic4\", \"Topic4\", \"Topic4\", \"Topic4\", \"Topic4\", \"Topic4\", \"Topic4\", \"Topic4\", \"Topic4\", \"Topic4\", \"Topic4\", \"Topic4\", \"Topic4\", \"Topic4\", \"Topic4\", \"Topic4\", \"Topic4\", \"Topic4\", \"Topic4\", \"Topic4\", \"Topic4\", \"Topic4\", \"Topic4\", \"Topic4\", \"Topic4\", \"Topic4\", \"Topic4\", \"Topic4\", \"Topic4\", \"Topic4\", \"Topic4\", \"Topic4\", \"Topic4\", \"Topic4\", \"Topic4\", \"Topic4\", \"Topic4\", \"Topic4\", \"Topic4\", \"Topic4\", \"Topic4\", \"Topic4\", \"Topic4\", \"Topic4\", \"Topic4\", \"Topic4\", \"Topic4\", \"Topic4\", \"Topic4\", \"Topic4\", \"Topic5\", \"Topic5\", \"Topic5\", \"Topic5\", \"Topic5\", \"Topic5\", \"Topic5\", \"Topic5\", \"Topic5\", \"Topic5\", \"Topic5\", \"Topic5\", \"Topic5\", \"Topic5\", \"Topic5\", \"Topic5\", \"Topic5\", \"Topic5\", \"Topic5\", \"Topic5\", \"Topic5\", \"Topic5\", \"Topic5\", \"Topic5\", \"Topic5\", \"Topic5\", \"Topic5\", \"Topic5\", \"Topic5\", \"Topic5\", \"Topic5\", \"Topic5\", \"Topic5\", \"Topic5\", \"Topic5\", \"Topic5\", \"Topic5\", \"Topic5\", \"Topic5\", \"Topic5\", \"Topic5\", \"Topic5\", \"Topic5\", \"Topic5\", \"Topic5\", \"Topic5\", \"Topic5\", \"Topic5\", \"Topic5\", \"Topic5\", \"Topic5\", \"Topic5\", \"Topic5\", \"Topic5\", \"Topic5\", \"Topic5\", \"Topic5\", \"Topic5\", \"Topic5\", \"Topic5\", \"Topic5\", \"Topic5\", \"Topic5\", \"Topic5\", \"Topic5\", \"Topic5\", \"Topic5\", \"Topic5\", \"Topic5\", \"Topic5\", \"Topic5\", \"Topic5\", \"Topic5\", \"Topic6\", \"Topic6\", \"Topic6\", \"Topic6\", \"Topic6\", \"Topic6\", \"Topic6\", \"Topic6\", \"Topic6\", \"Topic6\", \"Topic6\", \"Topic6\", \"Topic6\", \"Topic6\", \"Topic6\", \"Topic6\", \"Topic6\", \"Topic6\", \"Topic6\", \"Topic6\", \"Topic6\", \"Topic6\", \"Topic6\", \"Topic6\", \"Topic6\", \"Topic6\", \"Topic6\", \"Topic6\", \"Topic6\", \"Topic6\", \"Topic6\", \"Topic6\", \"Topic6\", \"Topic6\", \"Topic6\", \"Topic6\", \"Topic6\", \"Topic6\", \"Topic6\", \"Topic6\", \"Topic6\", \"Topic6\", \"Topic6\", \"Topic6\", \"Topic6\", \"Topic6\", \"Topic6\", \"Topic6\", \"Topic6\", \"Topic6\", \"Topic6\", \"Topic6\", \"Topic6\", \"Topic6\", \"Topic6\", \"Topic6\", \"Topic6\", \"Topic6\", \"Topic6\", \"Topic6\", \"Topic6\", \"Topic6\", \"Topic6\", \"Topic6\", \"Topic6\", \"Topic6\", \"Topic6\", \"Topic6\", \"Topic6\", \"Topic6\", \"Topic6\", \"Topic6\"], \"Freq\": [67.0, 76.0, 65.0, 46.0, 43.0, 47.0, 44.0, 41.0, 39.0, 44.0, 36.0, 37.0, 35.0, 34.0, 35.0, 32.0, 28.0, 28.0, 28.0, 28.0, 28.0, 29.0, 29.0, 28.0, 28.0, 27.0, 26.0, 25.0, 23.0, 22.0, 76.8475112915039, 67.34292602539062, 65.78437805175781, 47.34839630126953, 44.35029602050781, 46.96213912963867, 44.54217529296875, 35.664981842041016, 41.9422492980957, 43.518836975097656, 37.93503952026367, 34.64387512207031, 35.315738677978516, 39.91056442260742, 36.50960922241211, 29.79545021057129, 32.01488494873047, 28.106050491333008, 28.8563232421875, 29.589553833007812, 28.745746612548828, 28.711299896240234, 27.078779220581055, 28.50835418701172, 28.53485679626465, 26.305089950561523, 28.583879470825195, 25.282455444335938, 23.092315673828125, 22.181791305541992, 0.0002501380513422191, 0.00024342210963368416, 0.00024779935483820736, 0.00026257577701471746, 0.00024782837135717273, 0.0002505209413357079, 0.00023479704395867884, 0.00024345524434465915, 0.00022814715339336544, 0.00024759737425483763, 0.0002448909799568355, 0.0002310496784048155, 0.00023231444356497377, 0.00023740057076793164, 0.00023127689200919122, 0.00022706783784087747, 0.00023893022444099188, 0.000238625259953551, 0.00023487446014769375, 0.0002338777994737029, 0.00023505676654167473, 0.00023739764583297074, 0.00022753982921130955, 0.00023491555475629866, 0.00023791355488356203, 0.00023153319489210844, 0.00024324671539943665, 0.00022804860782343894, 0.0002393895119894296, 0.00023384996165987104, 0.0002434385532978922, 0.00024244831001851708, 0.0002369881112826988, 0.0002347571135032922, 0.0002384655672358349, 0.00023457471979781985, 0.00025883372290991247, 0.00025819233269430697, 0.00023894463083706796, 0.00027176301227882504, 0.0002630642266012728, 0.000247303833020851, 0.00023994449293240905, 0.00024489813949912786, 0.0002583072055131197, 0.00024602471967227757, 0.00025342937442474067, 0.00024195131845772266, 0.0002492121420800686, 0.00024297898926306516, 0.00024294907052535564, 0.0002460853720549494, 0.00024328181461896747, 0.0002461622061673552, 0.0002459449751768261, 0.0002447053848300129, 0.00024242358631454408, 0.00015834119403734803, 0.0001517425844212994, 0.00014998074038885534, 0.00014384332462213933, 0.0001525855768704787, 0.00014808359264861792, 0.00015062285820022225, 0.00014835805632174015, 0.00014782878861296922, 0.0001449176634196192, 0.0001410359691362828, 0.00014392996672540903, 0.00014360759814735502, 0.00013834997662343085, 0.0001423407520633191, 0.0001406138326274231, 0.00015110510867089033, 0.00013804789341520518, 0.00014043290866538882, 0.00013778945140074939, 0.0001406861119903624, 0.00014025205746293068, 0.00014393258607015014, 0.00014625304902438074, 0.0001398452732246369, 0.00013567513087764382, 0.0001412268029525876, 0.000141412194352597, 0.00014807007391937077, 0.00014039930829312652, 0.00015156112203840166, 0.0001459021877963096, 0.00014321529306471348, 0.00014443906547967345, 0.0001424616202712059, 0.0001477322803111747, 0.00014317846216727048, 0.00014482227561529726, 0.0008469135500490665, 0.0008233567932620645, 0.0006181564531289041, 0.0005477629601955414, 0.0005558912525884807, 0.0005355822504498065, 0.0006912219687364995, 0.00045064830919727683, 0.0004439917393028736, 0.000490692735183984, 0.0004381393955554813, 0.0005238543963059783, 0.0005121627473272383, 0.000492921331897378, 0.00043889894732274115, 0.00044428935507312417, 0.00039958901470527053, 0.00037910210085101426, 0.0003890382358804345, 0.00041270372457802296, 0.00044612708734348416, 0.00038843820220790803, 0.0003740349202416837, 0.00035224368912167847, 0.00029531586915254593, 0.0003578108735382557, 0.0003201295039616525, 0.00026954253553412855, 0.0003667070413939655, 0.00031235074857249856, 0.0003056156565435231, 0.0003283971454948187, 0.00032526804716326296, 0.00012848700862377882, 0.00012388704635668546, 0.00013205046707298607, 0.00012007778423139825, 0.00012126068759243935, 0.00012603815412148833, 0.00012284192780498415, 0.00012468501518014818, 0.00012724917905870825, 0.00012628419790416956, 0.00011910525790881366, 0.00012629461707547307, 0.00012004130257992074, 0.00012454198440536857, 0.00011715135769918561, 0.00012209841224830598, 0.00012336841609794647, 0.00011927970626857132, 0.00012373802019283175, 0.00011377434566384181, 0.00012070361117366701, 0.0001253985392395407, 0.00011984271986875683, 0.0001205563748953864, 0.0001216932141687721, 0.00011886852007592097, 0.00012382955173961818, 0.00011985134915448725, 0.00011825159162981436, 0.00011569670459721237, 0.00012919791333843023, 0.0001240464043803513, 0.00012214544403832406, 0.00012280653754714876, 0.00012155011791037396, 0.00012238889758009464, 0.00012160575715824962, 0.00012166753731435165, 0.00012125387002015486, 0.00025972884031943977, 0.0001220977574121207, 0.0002484758151695132, 0.000205202930374071, 0.00020890860469080508, 0.00021138350712135434, 0.00022136428742669523, 0.00020482399850152433, 0.00018939787696581334, 0.00018987306975759566, 0.00017889359151013196, 0.00018171756528317928, 0.0001911693107103929, 0.0001857173047028482, 0.00019353798415977508, 0.00018290773732587695, 0.0001852690038504079, 0.0001914326858241111, 0.00017928982560988516, 0.0001871057611424476, 0.00018389493925496936, 0.00017580887652002275, 0.00017878611106425524, 0.0001759021688485518, 0.0001771565730450675, 0.00016819467418827116, 0.00017630902584642172, 0.0001699811837170273, 0.00016330095240846276, 0.00016277277609333396, 0.00015922758029773831, 0.0001618852256797254, 0.00011306992382742465, 0.00010574293264653534, 0.00010326702613383532, 0.00010675215889932588, 0.0001120343804359436, 0.00010484802623977885, 0.00010005429794546217, 0.00010600619862088934, 9.855423559201881e-05, 0.00010662600107025355, 0.00010058714542537928, 0.00010266465687891468, 0.0001004023797577247, 0.00010555957851465791, 0.00010290701902704313, 0.00010152321920031682, 0.00010546830162638798, 0.000102193997008726, 0.00010074532474391162, 9.84709186013788e-05, 0.00010167009895667434, 0.00010673364158719778, 0.00010046278475783765, 0.00010141106031369418, 9.709552250569686e-05, 9.6932053565979e-05, 0.00010403338092146441, 0.0001016086243907921, 9.72393827396445e-05, 9.504857735009864e-05, 0.00010160039528273046, 0.00010224388825008646, 0.00010178732190979645, 0.00010005307558458298, 0.0001018528564600274, 0.00010216138616669923, 0.00010292098886566237, 0.00010143277904717252, 0.00010127444693353027, 0.00017732128617353737, 0.0001071231163223274, 0.0001552019384689629, 0.00016723347653169185, 0.00015062198508530855, 0.0001496843178756535, 0.00013803313777316362, 0.00013725375174544752, 0.0001298424176638946, 0.00010567379649728537, 0.00012634912854991853, 0.00012981696636416018, 0.0001230534544447437, 0.00010776004637591541, 0.0001292539236601442, 0.00011768027616199106, 0.00012527707440312952, 0.000121345765364822, 0.0001167505033663474, 0.00010749354987638071, 0.0001208403700729832, 0.00012093179248040542, 0.00011935385555261746, 0.00011965968587901443, 0.00011807320697698742, 0.0001160924366558902, 0.00011068199819419533, 0.00011282390187261626, 0.00011486563744256273, 0.00011314732546452433, 0.00011314671428408474, 0.00011116040695924312, 0.00011244789493503049, 0.00011330503912176937, 7.813359843567014e-05, 7.814566924935207e-05, 8.061646076384932e-05, 7.498280319850892e-05, 7.826784712960944e-05, 6.93882757332176e-05, 7.292456575669348e-05, 7.198711682576686e-05, 6.924362241989002e-05, 7.439316686941311e-05, 7.656197703909129e-05, 7.443344657076523e-05, 7.529109279857948e-05, 7.087773701641709e-05, 7.596571958856657e-05, 7.597535295644775e-05, 7.295783871086314e-05, 7.261164137162268e-05, 7.018051837803796e-05, 6.96649294695817e-05, 7.273207302205265e-05, 7.317245763260871e-05, 7.139535591704771e-05, 7.44731369195506e-05, 7.549268775619566e-05, 7.375832501566038e-05, 6.978713645366952e-05, 7.166526484070346e-05, 7.289717177627608e-05, 7.030570122878999e-05, 7.198521052487195e-05, 7.413692947011441e-05, 7.544899563072249e-05, 7.48840466258116e-05, 7.464620284736156e-05, 7.323717727558687e-05, 7.567732245661318e-05, 7.45478828321211e-05, 7.23759294487536e-05, 7.374829147011042e-05, 0.00016653770580887794, 7.865954103181139e-05, 0.0001533732720417902, 0.0001240265992237255, 0.00010543279495323077, 0.00011700987670337781, 0.00011090513726230711, 0.00011527316382853314, 0.00011715797882061452, 0.00011319073382765055, 0.00011461241956567392, 0.00011207463830942288, 0.00010383488552179188, 9.110817336477339e-05, 0.00011297379387542605, 0.0001086276097339578, 0.00010519963689148426, 0.00010385538917034864, 9.86411832855083e-05, 0.00010173994087381288, 0.00010622777335811406, 9.500205487711355e-05, 0.00010041495988843963, 9.782135020941496e-05, 9.715808118926361e-05, 9.621599747333676e-05, 9.826173481997102e-05, 9.784456779016182e-05, 9.956622670870274e-05, 0.00010069230484077707, 9.707688877824694e-05, 9.628566476749256e-05], \"Term\": [\"feel\", \"kind\", \"people\", \"go\", \"get\", \"mean\", \"time\", \"lot\", \"want\", \"back\", \"stuff\", \"china\", \"work\", \"one\", \"youre\", \"going\", \"things\", \"uh\", \"city\", \"much\", \"home\", \"actually\", \"still\", \"different\", \"years\", \"see\", \"thing\", \"something\", \"year\", \"theres\", \"kind\", \"feel\", \"people\", \"mean\", \"back\", \"go\", \"time\", \"youre\", \"lot\", \"get\", \"china\", \"one\", \"work\", \"want\", \"stuff\", \"still\", \"going\", \"years\", \"city\", \"actually\", \"different\", \"home\", \"see\", \"much\", \"uh\", \"thing\", \"things\", \"something\", \"year\", \"theres\", \"chanel\", \"navigating\", \"romanticized\", \"beverage\", \"except\", \"citizen\", \"munich\", \"bread\", \"worth\", \"practicing\", \"dressed\", \"grow\", \"articulate\", \"undergrad\", \"brown\", \"grades\", \"bumping\", \"hates\", \"workplace\", \"running\", \"isnt\", \"showed\", \"bringing\", \"standing\", \"visual\", \"adapt\", \"fact\", \"impossible\", \"wave\", \"indiana\", \"quarter\", \"looked\", \"industry\", \"leather\", \"bagel\", \"writing\", \"organic\", \"car\", \"journalists\", \"credit\", \"card\", \"days\", \"asians\", \"finish\", \"theres\", \"austria\", \"actually\", \"may\", \"oh\", \"story\", \"youd\", \"guess\", \"understand\", \"back\", \"mean\", \"got\", \"get\", \"mine\", \"bringing\", \"gold\", \"biased\", \"overpriced\", \"honking\", \"jurors\", \"drinks\", \"tray\", \"underground\", \"cultural\", \"adapt\", \"females\", \"situation\", \"isolating\", \"photographer\", \"queue\", \"chanel\", \"english\", \"grades\", \"complicated\", \"huge\", \"based\", \"trade\", \"somethings\", \"intention\", \"tells\", \"n\", \"cousin\", \"neighborhoods\", \"impulse\", \"land\", \"visual\", \"observant\", \"anyway\", \"afford\", \"enemy\", \"acquired\", \"people\", \"feel\", \"go\", \"stuff\", \"get\", \"want\", \"kind\", \"things\", \"much\", \"china\", \"uh\", \"mean\", \"time\", \"lot\", \"going\", \"work\", \"city\", \"thing\", \"different\", \"one\", \"back\", \"actually\", \"home\", \"something\", \"didnt\", \"still\", \"move\", \"else\", \"youre\", \"ive\", \"thought\", \"years\", \"see\", \"scotlands\", \"sexier\", \"trade\", \"main\", \"leg\", \"growing\", \"incidents\", \"undergrad\", \"vias\", \"launder\", \"playstation\", \"negatives\", \"aspects\", \"jersey\", \"munich\", \"dunno\", \"sells\", \"ac\", \"lectures\", \"neutral\", \"followed\", \"straw\", \"rigid\", \"isnt\", \"client\", \"adapt\", \"meaning\", \"dli\", \"analysis\", \"energy\", \"news\", \"date\", \"variety\", \"ms\", \"overpriced\", \"seemed\", \"benefit\", \"comfortable\", \"shipping\", \"kind\", \"language\", \"feel\", \"years\", \"lot\", \"mean\", \"people\", \"time\", \"see\", \"home\", \"many\", \"year\", \"one\", \"things\", \"get\", \"city\", \"youre\", \"go\", \"actually\", \"back\", \"want\", \"different\", \"work\", \"going\", \"stuff\", \"theres\", \"china\", \"uh\", \"make\", \"even\", \"two\", \"thing\", \"visualization\", \"die\", \"gentrified\", \"summer\", \"internationally\", \"cd\", \"cultural\", \"gosh\", \"major\", \"ancestral\", \"entrance\", \"mine\", \"ancestors\", \"number\", \"experiences\", \"redo\", \"perfect\", \"distance\", \"input\", \"gotten\", \"acting\", \"planes\", \"isnt\", \"showed\", \"scottish\", \"chapter\", \"winning\", \"writer\", \"embraced\", \"extend\", \"father\", \"risk\", \"bar\", \"ass\", \"saw\", \"deepen\", \"looks\", \"staying\", \"regular\", \"people\", \"pedestrian\", \"want\", \"kind\", \"go\", \"feel\", \"get\", \"time\", \"still\", \"hear\", \"years\", \"lot\", \"everything\", \"hasnt\", \"back\", \"little\", \"going\", \"thought\", \"probably\", \"workload\", \"youre\", \"china\", \"different\", \"one\", \"home\", \"see\", \"week\", \"said\", \"much\", \"life\", \"first\", \"havent\", \"got\", \"mean\", \"situation\", \"satisfaction\", \"greencard\", \"photographer\", \"hints\", \"culturally\", \"huge\", \"films\", \"neutral\", \"documentary\", \"sprint\", \"physically\", \"surprised\", \"bringing\", \"prospect\", \"adventure\", \"cars\", \"impulses\", \"presence\", \"fort\", \"celsius\", \"aspect\", \"likes\", \"protest\", \"quarter\", \"shoes\", \"chucking\", \"hence\", \"towns\", \"cohort\", \"drinks\", \"alarms\", \"u\", \"vision\", \"tribal\", \"scotland\", \"jeffs\", \"migration\", \"visual\", \"limitation\", \"feel\", \"foreign\", \"kind\", \"lot\", \"moved\", \"stuff\", \"something\", \"work\", \"time\", \"youre\", \"get\", \"china\", \"city\", \"couple\", \"people\", \"mean\", \"one\", \"going\", \"got\", \"see\", \"back\", \"somewhere\", \"thing\", \"even\", \"theres\", \"two\", \"home\", \"still\", \"want\", \"go\", \"uh\", \"much\"], \"Total\": [67.0, 76.0, 65.0, 46.0, 43.0, 47.0, 44.0, 41.0, 39.0, 44.0, 36.0, 37.0, 35.0, 34.0, 35.0, 32.0, 28.0, 28.0, 28.0, 28.0, 28.0, 29.0, 29.0, 28.0, 28.0, 27.0, 26.0, 25.0, 23.0, 22.0, 76.84899139404297, 67.34453582763672, 65.78596496582031, 47.34959411621094, 44.35141372680664, 46.963409423828125, 44.54338836669922, 35.66597366333008, 41.94343566894531, 43.520084381103516, 37.9361572265625, 34.64490509033203, 35.31679916381836, 39.91176986694336, 36.51077651977539, 29.796409606933594, 32.01593780517578, 28.10700798034668, 28.85730743408203, 29.590566635131836, 28.746736526489258, 28.712303161621094, 27.07974624633789, 28.509380340576172, 28.5358829498291, 26.306041717529297, 28.584943771362305, 25.283409118652344, 23.093198776245117, 22.18269920349121, 1.3688305616378784, 1.364728569984436, 1.4082019329071045, 1.4953511953353882, 1.4129313230514526, 1.439342975616455, 1.360471248626709, 1.4160019159317017, 1.3316277265548706, 1.447232723236084, 1.460066318511963, 1.3851804733276367, 1.395882248878479, 1.4283894300460815, 1.3955018520355225, 1.372756004333496, 1.4444812536239624, 1.4442685842514038, 1.4233461618423462, 1.4176573753356934, 1.4248266220092773, 1.439124584197998, 1.3797158002853394, 1.4269211292266846, 1.4467347860336304, 1.4082655906677246, 1.4821115732192993, 1.3903727531433105, 1.4615505933761597, 1.4285670518875122, 1.4934955835342407, 1.4895871877670288, 1.4658265113830566, 1.451741099357605, 1.5281336307525635, 1.4613604545593262, 2.247753858566284, 2.302166700363159, 1.6300967931747437, 3.9474716186523438, 4.625110149383545, 4.741883754730225, 2.264677047729492, 3.941835641860962, 22.18269920349121, 4.724553108215332, 29.590566635131836, 3.151353597640991, 13.951462745666504, 3.9653398990631104, 3.9570863246917725, 15.520444869995117, 6.395359516143799, 44.35141372680664, 47.34959411621094, 19.74811363220215, 43.520084381103516, 1.4251294136047363, 1.3797158002853394, 1.3684182167053223, 1.3734381198883057, 1.4592081308364868, 1.4182852506637573, 1.4489916563034058, 1.4366154670715332, 1.4354559183120728, 1.4095078706741333, 1.3733974695205688, 1.4082655906677246, 1.4081073999404907, 1.3575807809829712, 1.407238483428955, 1.3902199268341064, 1.4963308572769165, 1.3688305616378784, 1.3970003128051758, 1.372756004333496, 1.4062514305114746, 1.4020888805389404, 1.4389028549194336, 1.4637008905410767, 1.4001818895339966, 1.359190583229065, 1.4153246879577637, 1.4181991815567017, 1.4862494468688965, 1.414262056350708, 1.5345439910888672, 1.4768496751785278, 1.4467347860336304, 1.478369951248169, 1.4470975399017334, 1.546825647354126, 1.4607723951339722, 1.4955915212631226, 65.78596496582031, 67.34453582763672, 46.963409423828125, 36.51077651977539, 43.520084381103516, 39.91176986694336, 76.84899139404297, 28.584943771362305, 28.509380340576172, 37.9361572265625, 28.5358829498291, 47.34959411621094, 44.54338836669922, 41.94343566894531, 32.01593780517578, 35.31679916381836, 28.85730743408203, 26.306041717529297, 28.746736526489258, 34.64490509033203, 44.35141372680664, 29.590566635131836, 28.712303161621094, 25.283409118652344, 14.400711059570312, 29.796409606933594, 20.432952880859375, 11.243867874145508, 35.66597366333008, 19.770034790039062, 18.87047576904297, 28.10700798034668, 27.07974624633789, 1.3990715742111206, 1.3586771488189697, 1.4637008905410767, 1.3478045463562012, 1.3764761686325073, 1.4341914653778076, 1.400954008102417, 1.4283894300460815, 1.4621608257293701, 1.4522874355316162, 1.3735718727111816, 1.4592310190200806, 1.387181282043457, 1.4412221908569336, 1.360471248626709, 1.4234851598739624, 1.4384002685546875, 1.3910576105117798, 1.446489691734314, 1.3377838134765625, 1.4216182231903076, 1.4778389930725098, 1.4161142110824585, 1.4248266220092773, 1.440584659576416, 1.4082655906677246, 1.4688535928726196, 1.422133445739746, 1.4036221504211426, 1.3740205764770508, 1.5386239290237427, 1.4820458889007568, 1.4602367877960205, 1.4816535711288452, 1.4592081308364868, 1.4865237474441528, 1.4760876893997192, 1.4807475805282593, 1.4672647714614868, 76.84899139404297, 1.5203949213027954, 67.34453582763672, 28.10700798034668, 41.94343566894531, 47.34959411621094, 65.78596496582031, 44.54338836669922, 27.07974624633789, 28.712303161621094, 19.899885177612305, 23.093198776245117, 34.64490509033203, 28.584943771362305, 43.520084381103516, 28.85730743408203, 35.66597366333008, 46.963409423828125, 29.590566635131836, 44.35141372680664, 39.91176986694336, 28.746736526489258, 35.31679916381836, 32.01593780517578, 36.51077651977539, 22.18269920349121, 37.9361572265625, 28.5358829498291, 19.065637588500977, 20.439861297607422, 20.55303955078125, 26.306041717529297, 1.3814765214920044, 1.4215160608291626, 1.3963897228240967, 1.4509989023208618, 1.5266202688217163, 1.4308125972747803, 1.3733974695205688, 1.4589154720306396, 1.359175443649292, 1.4718401432037354, 1.38969087600708, 1.4251294136047363, 1.3938186168670654, 1.4671770334243774, 1.439197063446045, 1.4214308261871338, 1.4768472909927368, 1.4333438873291016, 1.4140570163726807, 1.3836182355880737, 1.4314653873443604, 1.512202501296997, 1.4248266220092773, 1.439124584197998, 1.3789197206497192, 1.3780285120010376, 1.4792397022247314, 1.4489952325820923, 1.3870697021484375, 1.3573668003082275, 1.4522682428359985, 1.4616907835006714, 1.4611046314239502, 1.4312584400177002, 1.4708466529846191, 1.4893622398376465, 1.547653079032898, 1.491379976272583, 1.4838916063308716, 65.78596496582031, 2.2263026237487793, 39.91176986694336, 76.84899139404297, 46.963409423828125, 67.34453582763672, 43.520084381103516, 44.54338836669922, 29.796409606933594, 2.2920475006103516, 28.10700798034668, 41.94343566894531, 19.614151000976562, 3.0058608055114746, 44.35141372680664, 11.271946907043457, 32.01593780517578, 18.87047576904297, 14.620652198791504, 3.110733985900879, 35.66597366333008, 37.9361572265625, 28.746736526489258, 34.64490509033203, 28.712303161621094, 27.07974624633789, 6.421840190887451, 12.169818878173828, 28.509380340576172, 15.450180053710938, 18.158029556274414, 8.99971866607666, 19.74811363220215, 47.34959411621094, 1.3575807809829712, 1.4184246063232422, 1.488671898841858, 1.3902199268341064, 1.4570167064666748, 1.3328213691711426, 1.4020888805389404, 1.3890961408615112, 1.3377838134765625, 1.4392504692077637, 1.4827123880386353, 1.4429926872253418, 1.464061975479126, 1.3797158002853394, 1.4828486442565918, 1.4844679832458496, 1.426773190498352, 1.42081880569458, 1.3794642686843872, 1.370057225227356, 1.431606411933899, 1.4406319856643677, 1.4073586463928223, 1.469054102897644, 1.4934955835342407, 1.4597641229629517, 1.3828364610671997, 1.420684814453125, 1.4458657503128052, 1.4006714820861816, 1.4366154670715332, 1.4859095811843872, 1.517163634300232, 1.50924813747406, 1.510980248451233, 1.4727674722671509, 1.5598597526550293, 1.523787021636963, 1.4467347860336304, 1.5179568529129028, 67.34453582763672, 2.212677240371704, 76.84899139404297, 41.94343566894531, 14.664173126220703, 36.51077651977539, 25.283409118652344, 35.31679916381836, 44.54338836669922, 35.66597366333008, 43.520084381103516, 37.9361572265625, 28.85730743408203, 8.990068435668945, 65.78596496582031, 47.34959411621094, 34.64490509033203, 32.01593780517578, 19.74811363220215, 27.07974624633789, 44.35141372680664, 14.586941719055176, 26.306041717529297, 20.439861297607422, 22.18269920349121, 20.55303955078125, 28.712303161621094, 29.796409606933594, 39.91176986694336, 46.963409423828125, 28.5358829498291, 28.509380340576172], \"loglift\": [30.0, 29.0, 28.0, 27.0, 26.0, 25.0, 24.0, 23.0, 22.0, 21.0, 20.0, 19.0, 18.0, 17.0, 16.0, 15.0, 14.0, 13.0, 12.0, 11.0, 10.0, 9.0, 8.0, 7.0, 6.0, 5.0, 4.0, 3.0, 2.0, 1.0, 0.00019999999494757503, 9.999999747378752e-05, 9.999999747378752e-05, 9.999999747378752e-05, 9.999999747378752e-05, 9.999999747378752e-05, 9.999999747378752e-05, 9.999999747378752e-05, 9.999999747378752e-05, 9.999999747378752e-05, 9.999999747378752e-05, 9.999999747378752e-05, 9.999999747378752e-05, 9.999999747378752e-05, 9.999999747378752e-05, 9.999999747378752e-05, 9.999999747378752e-05, 9.999999747378752e-05, 9.999999747378752e-05, 9.999999747378752e-05, 9.999999747378752e-05, 9.999999747378752e-05, 9.999999747378752e-05, 9.999999747378752e-05, 9.999999747378752e-05, 9.999999747378752e-05, 9.999999747378752e-05, 9.999999747378752e-05, 9.999999747378752e-05, 9.999999747378752e-05, 1.151900053024292, 1.1276999711990356, 1.1141999959945679, 1.1121000051498413, 1.1109999418258667, 1.1031999588012695, 1.0947999954223633, 1.090999960899353, 1.087499976158142, 1.0859999656677246, 1.0662000179290771, 1.0607000589370728, 1.058500051498413, 1.0571000576019287, 1.0542999505996704, 1.052299976348877, 1.052299976348877, 1.051200032234192, 1.0499000549316406, 1.0497000217437744, 1.0497000217437744, 1.0496000051498413, 1.049299955368042, 1.0476000308990479, 1.0464999675750732, 1.0463000535964966, 1.0444999933242798, 1.0439000129699707, 1.0425000190734863, 1.0419000387191772, 1.037600040435791, 1.0362000465393066, 1.0295000076293945, 1.0297000408172607, 0.9940999746322632, 1.0223000049591064, 0.6901000142097473, 0.6636999845504761, 0.9315000176429749, 0.17569999396800995, -0.015200000256299973, -0.10189999639987946, 0.6068999767303467, 0.0731000006198883, -1.6013000011444092, -0.10339999943971634, -1.9084999561309814, 0.2847999930381775, -1.1734000444412231, 0.059300001710653305, 0.06120000034570694, -1.2926000356674194, -0.41749998927116394, -2.3422999382019043, -2.408600091934204, -1.5391000509262085, -2.338599920272827, 1.0155999660491943, 1.0053999423980713, 1.0018999576568604, 0.9564999938011169, 0.9549000263214111, 0.9534000158309937, 0.9490000009536743, 0.9423999786376953, 0.9397000074386597, 0.9380000233650208, 0.9368000030517578, 0.9319999814033508, 0.9298999905586243, 0.9291999936103821, 0.9217000007629395, 0.9215999841690063, 0.9200000166893005, 0.9186999797821045, 0.9154999852180481, 0.9139999747276306, 0.9107000231742859, 0.9106000065803528, 0.9104999899864197, 0.909500002861023, 0.9089999794960022, 0.9085000157356262, 0.9081000089645386, 0.9074000120162964, 0.906499981880188, 0.902999997138977, 0.8978000283241272, 0.8981000185012817, 0.9000999927520752, 0.8870000243186951, 0.894599974155426, 0.864300012588501, 0.8902000188827515, 0.8780999779701233, -1.1397000551223755, -1.1914000511169434, -1.1174999475479126, -0.9866999983787537, -1.1476000547409058, -1.0981999635696411, -1.4982999563217163, -0.9370999932289124, -0.9492999911308289, -1.1349999904632568, -0.9635000228881836, -1.2913000583648682, -1.2526999711990356, -1.2309000492095947, -1.0769000053405762, -1.1627999544143677, -1.0667999982833862, -1.026900053024292, -1.0898000001907349, -1.2173000574111938, -1.3865000009536743, -1.1202000379562378, -1.1279000043869019, -1.0607000589370728, -0.6740999817848206, -1.2093000411987305, -0.9433000087738037, -0.5180000066757202, -1.3645999431610107, -0.9350000023841858, -0.9101999998092651, -1.2367000579833984, -1.2091000080108643, 1.090499997138977, 1.083299994468689, 1.072700023651123, 1.0600999593734741, 1.0489000082015991, 1.0464999675750732, 1.0441999435424805, 1.0397000312805176, 1.0367000102996826, 1.0358999967575073, 1.0331000089645386, 1.0312000513076782, 1.031000018119812, 1.0296000242233276, 1.0261000394821167, 1.0221999883651733, 1.0220999717712402, 1.0219000577926636, 1.0195000171661377, 1.013700008392334, 1.0119999647140503, 1.0113999843597412, 1.0087000131607056, 1.0084999799728394, 1.0068999528884888, 1.006100058555603, 1.0048999786376953, 1.0046000480651855, 1.0041999816894531, 1.0037000179290771, 1.0009000301361084, 0.9976999759674072, 0.9970999956130981, 0.9879000186920166, 0.992900013923645, 0.9811999797821045, 0.9818999767303467, 0.979200005531311, 0.9850000143051147, -2.211699962615967, 0.9563000202178955, -2.124000072479248, -1.44159996509552, -1.8240000009536743, -1.93340003490448, -2.216099977493286, -1.9038000106811523, -1.4845000505447388, -1.5405000448226929, -1.2335000038146973, -1.3666000366210938, -1.721500039100647, -1.5582000017166138, -1.9372999668121338, -1.582900047302246, -1.7819000482559204, -2.024399995803833, -1.628000020980835, -1.9900000095367432, -1.9018000364303589, -1.6187000274658203, -1.8077000379562378, -1.7258000373840332, -1.850100040435791, -1.4036999940872192, -1.8932000398635864, -1.6449999809265137, -1.2818000316619873, -1.354699969291687, -1.382200002670288, -1.6124000549316406, 1.180299997329712, 1.0848000049591064, 1.0788999795913696, 1.073699951171875, 1.0712000131607056, 1.069700002670288, 1.0638999938964844, 1.0613000392913818, 1.0592000484466553, 1.0583000183105469, 1.0573999881744385, 1.0527000427246094, 1.0526000261306763, 1.0513999462127686, 1.045199990272522, 1.044100046157837, 1.0440000295639038, 1.0422999858856201, 1.041599988937378, 1.0405000448226929, 1.0384999513626099, 1.0321999788284302, 1.0312000513076782, 1.0305999517440796, 1.0298999547958374, 1.0288000106811523, 1.0286999940872192, 1.0256999731063843, 1.0255000591278076, 1.0242999792099, 1.0233999490737915, 1.0232000350952148, 1.0191999673843384, 1.0226000547409058, 1.013200044631958, 1.0037000179290771, 0.9726999998092651, 0.995199978351593, 0.9986000061035156, -2.2330000400543213, 0.6491000056266785, -1.8665000200271606, -2.447000026702881, -2.0590999126434326, -2.425800085067749, -2.0703001022338867, -2.0992000102996826, -1.7525999546051025, 0.6064000129699707, -1.721500039100647, -2.0947000980377197, -1.388200044631958, 0.3547999858856201, -2.154900074005127, -0.8788999915122986, -1.860200047492981, -1.3634999990463257, -1.1469000577926636, 0.3179999887943268, -2.004300117492676, -2.065200090408325, -1.8009999990463257, -1.9850000143051147, -1.8106000423431396, -1.7689000368118286, -0.3776000142097473, -0.9976999759674072, -1.8309999704360962, -1.2335000038146973, -1.3949999809265137, -0.7107999920845032, -1.4851000308990479, -2.3519999980926514, 1.1416000127792358, 1.0979000329971313, 1.0807000398635864, 1.07669997215271, 1.07260000705719, 1.0413000583648682, 1.0403000116348267, 1.0367000102996826, 1.0355000495910645, 1.03410005569458, 1.0331000089645386, 1.032099962234497, 1.0290000438690186, 1.027999997138977, 1.0252000093460083, 1.0241999626159668, 1.023300051689148, 1.0227999687194824, 1.0183000564575195, 1.017699956893921, 1.0168999433517456, 1.0166000127792358, 1.0154000520706177, 1.0147000551223755, 1.0118000507354736, 1.0113999843597412, 1.010200023651123, 1.0096999406814575, 1.0091999769210815, 1.0047999620437622, 1.003000020980835, 0.9987999796867371, 0.9955000281333923, 0.9932000041007996, 0.9889000058174133, 0.9954000115394592, 0.97079998254776, 0.9790999889373779, 1.0013999938964844, 0.9721999764442444, -2.00570011138916, 0.6597999930381775, -2.220099925994873, -1.8269000053405762, -0.9384999871253967, -1.746500015258789, -1.4326000213623047, -1.7281999588012695, -1.944100022315979, -1.7561999559402466, -1.9428000450134277, -1.8279000520706177, -1.6306999921798706, -0.5952000021934509, -2.3703999519348145, -2.0808000564575195, -1.8004000186920166, -1.7344000339508057, -1.3027000427246094, -1.587499976158142, -2.0376999378204346, -1.0372999906539917, -1.5715999603271484, -1.3454999923706055, -1.4341000318527222, -1.3674999475479126, -1.680799961090088, -1.722100019454956, -1.996999979019165, -2.148400068283081, -1.6868000030517578, -1.694000005722046], \"logprob\": [30.0, 29.0, 28.0, 27.0, 26.0, 25.0, 24.0, 23.0, 22.0, 21.0, 20.0, 19.0, 18.0, 17.0, 16.0, 15.0, 14.0, 13.0, 12.0, 11.0, 10.0, 9.0, 8.0, 7.0, 6.0, 5.0, 4.0, 3.0, 2.0, 1.0, -4.220699787139893, -4.352799892425537, -4.376200199127197, -4.704999923706055, -4.770400047302246, -4.713200092315674, -4.76609992980957, -4.988399982452393, -4.826300144195557, -4.789400100708008, -4.926700115203857, -5.017399787902832, -4.998199939727783, -4.875899791717529, -4.965000152587891, -5.1682000160217285, -5.096399784088135, -5.226600170135498, -5.200200080871582, -5.175099849700928, -5.204100131988525, -5.2052998542785645, -5.263800144195557, -5.212399959564209, -5.211400032043457, -5.292799949645996, -5.209700107574463, -5.332499980926514, -5.423099994659424, -5.4633002281188965, -7.096799850463867, -7.124100208282471, -7.106200218200684, -7.048299789428711, -7.106100082397461, -7.095300197601318, -7.160099983215332, -7.123899936676025, -7.188899993896484, -7.10699987411499, -7.118000030517578, -7.176199913024902, -7.17080020904541, -7.149099826812744, -7.17519998550415, -7.193600177764893, -7.1427001953125, -7.144000053405762, -7.159800052642822, -7.164000034332275, -7.158999919891357, -7.149099826812744, -7.191500186920166, -7.159599781036377, -7.146900177001953, -7.174099922180176, -7.124800205230713, -7.189300060272217, -7.1407999992370605, -7.1641998291015625, -7.124000072479248, -7.1280999183654785, -7.1508002281188965, -7.160299777984619, -7.144599914550781, -7.161099910736084, -7.062699794769287, -7.065100193023682, -7.142600059509277, -7.013899803161621, -7.046500205993652, -7.1082000732421875, -7.138400077819824, -7.118000030517578, -7.064700126647949, -7.113399982452393, -7.083799839019775, -7.130099773406982, -7.100500106811523, -7.125899791717529, -7.125999927520752, -7.1132001876831055, -7.124599933624268, -7.1128997802734375, -7.113699913024902, -7.118800163269043, -7.128200054168701, -7.19290018081665, -7.235499858856201, -7.247200012207031, -7.288899898529053, -7.229899883270264, -7.259900093078613, -7.2428998947143555, -7.257999897003174, -7.261600017547607, -7.281499862670898, -7.308599948883057, -7.288300037384033, -7.290599822998047, -7.327899932861328, -7.2993998527526855, -7.311600208282471, -7.239699840545654, -7.330100059509277, -7.312900066375732, -7.331900119781494, -7.311100006103516, -7.314199924468994, -7.288300037384033, -7.272299766540527, -7.3171000480651855, -7.347400188446045, -7.307300090789795, -7.306000232696533, -7.260000228881836, -7.313199996948242, -7.236700057983398, -7.274700164794922, -7.293300151824951, -7.284800052642822, -7.298600196838379, -7.26230001449585, -7.293600082397461, -7.282199859619141, -5.51609992980957, -5.544300079345703, -5.830900192260742, -5.9517998695373535, -5.937099933624268, -5.974299907684326, -5.719200134277344, -6.146999835968018, -6.161900043487549, -6.061800003051758, -6.175099849700928, -5.996399879455566, -6.019000053405762, -6.057300090789795, -6.173399925231934, -6.161200046539307, -6.267199993133545, -6.319900035858154, -6.294000148773193, -6.234899997711182, -6.157100200653076, -6.295499801635742, -6.3333001136779785, -6.3933000564575195, -6.5696001052856445, -6.377699851989746, -6.488900184631348, -6.660900115966797, -6.353099822998047, -6.513500213623047, -6.535299777984619, -6.463399887084961, -6.4730000495910645, -7.13640022277832, -7.172900199890137, -7.109099864959717, -7.204100131988525, -7.194300174713135, -7.155700206756592, -7.181399822235107, -7.166500091552734, -7.146100044250488, -7.15369987487793, -7.212299823760986, -7.15369987487793, -7.204400062561035, -7.167600154876709, -7.228799819946289, -7.187399864196777, -7.17710018157959, -7.2108001708984375, -7.174099922180176, -7.2581000328063965, -7.19890022277832, -7.160799980163574, -7.206099987030029, -7.200200080871582, -7.190800189971924, -7.214300155639648, -7.173399925231934, -7.205999851226807, -7.2195000648498535, -7.241300106048584, -7.130899906158447, -7.171599864959717, -7.187099933624268, -7.181700229644775, -7.19189977645874, -7.185100078582764, -7.191500186920166, -7.190999984741211, -7.194399833679199, -6.432600021362305, -7.1875, -6.476900100708008, -6.668300151824951, -6.650400161743164, -6.638599872589111, -6.59250020980835, -6.670100212097168, -6.7484002113342285, -6.7459001541137695, -6.805500030517578, -6.78980016708374, -6.739099979400635, -6.76800012588501, -6.726799964904785, -6.783299922943115, -6.770500183105469, -6.73769998550415, -6.803299903869629, -6.7606000900268555, -6.777900218963623, -6.82289981842041, -6.806099891662598, -6.822299957275391, -6.815199851989746, -6.867199897766113, -6.820000171661377, -6.856599807739258, -6.896699905395508, -6.899899959564209, -6.921899795532227, -6.905399799346924, -7.059299945831299, -7.126299858093262, -7.150000095367432, -7.116799831390381, -7.06850004196167, -7.134799957275391, -7.181600093841553, -7.123799800872803, -7.196700096130371, -7.1178998947143555, -7.176199913024902, -7.155799865722656, -7.178100109100342, -7.127999782562256, -7.15339994430542, -7.166999816894531, -7.128900051116943, -7.160399913787842, -7.174699783325195, -7.197500228881836, -7.165500164031982, -7.1168999671936035, -7.177499771118164, -7.168099880218506, -7.211599826812744, -7.2133002281188965, -7.142600059509277, -7.166100025177002, -7.210100173950195, -7.232900142669678, -7.166200160980225, -7.159900188446045, -7.164400100708008, -7.181600093841553, -7.163700103759766, -7.160699844360352, -7.153299808502197, -7.167900085449219, -7.169400215148926, -6.609300136566162, -7.11329984664917, -6.742499828338623, -6.667900085449219, -6.772500038146973, -6.77869987487793, -6.859799861907959, -6.8653998374938965, -6.921000003814697, -7.1269001960754395, -6.948200225830078, -6.92110013961792, -6.974699974060059, -7.107399940490723, -6.92549991607666, -7.0192999839782715, -6.956699848175049, -6.98859977722168, -7.027200222015381, -7.109799861907959, -6.992800235748291, -6.992000102996826, -7.005199909210205, -7.002600193023682, -7.015999794006348, -7.032899856567383, -7.080599784851074, -7.061399936676025, -7.043499946594238, -7.058599948883057, -7.058599948883057, -7.076300144195557, -7.064799785614014, -7.057199954986572, -7.1153998374938965, -7.115300178527832, -7.084199905395508, -7.156599998474121, -7.113699913024902, -7.234099864959717, -7.1844000816345215, -7.197400093078613, -7.236199855804443, -7.1645002365112305, -7.135799884796143, -7.164000034332275, -7.152500152587891, -7.212900161743164, -7.143599987030029, -7.143499851226807, -7.184000015258789, -7.188700199127197, -7.222799777984619, -7.230199813842773, -7.187099933624268, -7.181000232696533, -7.205599784851074, -7.163400173187256, -7.149799823760986, -7.173099994659424, -7.228400230407715, -7.201900005340576, -7.184800148010254, -7.2210001945495605, -7.197400093078613, -7.167900085449219, -7.150400161743164, -7.157899856567383, -7.161099910736084, -7.180200099945068, -7.14739990234375, -7.162399768829346, -7.191999912261963, -7.1732001304626465, -6.35860013961792, -7.108699798583984, -6.440999984741211, -6.65339994430542, -6.815800189971924, -6.711599826812744, -6.765200138092041, -6.726600170135498, -6.710299968719482, -6.744800090789795, -6.7322998046875, -6.754700183868408, -6.831099987030029, -6.9618000984191895, -6.746699810028076, -6.785900115966797, -6.817999839782715, -6.830900192260742, -6.882400035858154, -6.851399898529053, -6.808300018310547, -6.920000076293945, -6.86460018157959, -6.890699863433838, -6.897500038146973, -6.907299995422363, -6.886199951171875, -6.890500068664551, -6.873000144958496, -6.861800193786621, -6.898399829864502, -6.906499862670898]}, \"token.table\": {\"Topic\": [1, 1, 1, 1, 1, 1, 1, 1, 1, 1, 1, 1, 1, 1, 1, 1, 1, 1, 1, 1, 1, 1, 1, 1, 1, 1, 1, 1, 1, 1, 1, 1, 1, 1, 1, 1, 1, 1, 1, 1, 1, 1, 1, 1, 1, 1, 1, 1, 1, 1, 1, 1, 1, 1, 1, 1, 1, 1, 1, 1, 1, 1, 1, 1, 1, 1, 1, 1, 1, 1, 1, 1, 1, 1, 1, 1, 1, 1, 1, 1, 1, 1, 1, 1, 1, 1, 1, 1, 1, 1, 1, 1, 1, 1, 1, 1, 1, 1, 1, 1, 1, 1, 1, 1, 1, 1, 1, 1, 1, 1, 1, 1, 1, 1, 1, 1, 1, 1, 1, 1, 1, 1, 1, 1, 1, 1, 1, 1, 1, 1, 1, 1, 1, 1, 1, 1, 1, 1, 1, 1, 1, 1, 1, 1, 1, 1, 1, 1, 1, 1, 1, 1, 1, 1, 1, 1, 1, 1, 1, 1, 1, 1, 1, 1, 1, 1, 1, 1, 1, 1, 1, 1, 1, 1, 1, 1, 1, 1, 1, 1, 1, 1, 1, 1, 1, 1, 1, 1, 1, 1, 1, 1, 1, 1, 1, 1, 1, 1, 1, 1, 1, 1, 1, 1, 1, 1, 1, 1, 1, 1, 1, 1, 1, 1, 1, 1, 1, 1, 1, 1, 1, 1, 1, 1, 1, 1, 1, 1, 1, 1, 1, 1, 1, 1, 1, 1, 1, 1, 1, 1, 1], \"Freq\": [0.7188774943351746, 0.6686317920684814, 0.6985848546028137, 1.0138366222381592, 0.7100933194160461, 0.6736420392990112, 1.2929705381393433, 0.6729884743690491, 0.7124424576759338, 0.7174534797668457, 0.679421603679657, 0.6910384297370911, 0.7163928151130676, 0.8831281065940857, 0.6941397786140442, 0.7208862900733948, 0.6986858248710632, 1.0583012104034424, 0.9920766353607178, 1.3087860345840454, 0.6844136714935303, 0.6949739456176758, 0.6774665117263794, 0.6687391996383667, 0.7280997633934021, 0.7062137126922607, 0.7247869372367859, 0.7165880799293518, 0.6922900676727295, 0.868746817111969, 1.0810552835464478, 0.7008822560310364, 0.6989035606384277, 0.6985160112380981, 0.7305505871772766, 0.7256743907928467, 1.0016828775405884, 0.7231513261795044, 0.6947614550590515, 1.0049448013305664, 0.6941626071929932, 0.7139433026313782, 0.6753345727920532, 0.7111104130744934, 1.001104712486267, 0.672834575176239, 1.0133068561553955, 0.7281213402748108, 0.7502880692481995, 0.6747429370880127, 1.0544332265853882, 0.6714283227920532, 0.9721742272377014, 0.7034742832183838, 1.0088101625442505, 0.697669267654419, 0.7031688690185547, 0.6948060989379883, 0.6849004030227661, 0.6960805058479309, 0.7025011777877808, 0.9783110618591309, 0.7209442853927612, 0.6845693588256836, 0.7277911305427551, 0.7158194780349731, 0.7195844650268555, 0.9784802198410034, 1.01967191696167, 0.7077484726905823, 0.694831907749176, 0.7367205619812012, 0.6747130155563354, 0.6885780096054077, 0.9948839545249939, 0.7101731300354004, 0.7198925614356995, 1.0147556066513062, 0.9912970066070557, 0.7034237384796143, 0.9038823843002319, 0.7298965454101562, 0.7161324620246887, 1.011027455329895, 1.000779151916504, 0.9995021820068359, 0.7307707667350769, 0.6854406595230103, 1.0127549171447754, 0.7227427363395691, 0.7284615635871887, 0.6717396974563599, 0.7219275832176208, 0.6972569823265076, 1.0308983325958252, 0.9980502128601074, 0.6923919916152954, 1.0000312328338623, 0.8725822567939758, 0.7038859128952026, 0.686333954334259, 1.0100200176239014, 0.7050767540931702, 0.713221549987793, 0.7192316055297852, 1.303318738937378, 0.7038195133209229, 0.7137992978096008, 0.700002133846283, 0.6822089552879333, 0.7071850895881653, 0.7357320189476013, 1.3100835084915161, 0.701839804649353, 0.7106115818023682, 1.011631965637207, 1.282166600227356, 0.6938555240631104, 1.2269209623336792, 0.69013512134552, 1.001965045928955, 0.6771169900894165, 1.3154476881027222, 0.6885689496994019, 0.6888280510902405, 0.6913288235664368, 0.7264927625656128, 0.9708624482154846, 0.7105509042739868, 1.3175605535507202, 0.9758740067481995, 0.6713269352912903, 1.2922792434692383, 1.001348614692688, 0.7419473528862, 0.7357401847839355, 0.9965572953224182, 1.005030870437622, 0.9519718885421753, 0.9926167726516724, 0.6808030605316162, 1.3125194311141968, 0.701690673828125, 0.9788110256195068, 1.022901177406311, 0.6749215722084045, 1.0172090530395508, 0.7350394129753113, 0.7051195502281189, 0.732746422290802, 0.6852924227714539, 0.7070825099945068, 0.7475049495697021, 1.2998627424240112, 0.6815810203552246, 0.6764206886291504, 1.00347900390625, 1.0102496147155762, 0.8897771239280701, 0.6853032112121582, 0.8983504772186279, 1.00325345993042, 0.6771180629730225, 0.7193106412887573, 0.6930041909217834, 1.3225741386413574, 0.7280288934707642, 0.6909738779067993, 0.7249190807342529, 1.025946021080017, 0.6743776798248291, 0.6807101368904114, 0.6695700883865356, 0.6683014035224915, 0.7035164833068848, 0.6739036440849304, 0.7061577439308167, 0.6841392517089844, 0.7101254463195801, 0.7053890824317932, 0.9860458970069885, 0.7050074934959412, 0.6798804998397827, 0.678993821144104, 0.7147597074508667, 0.7252053618431091, 0.9970551133155823, 0.6727104187011719, 0.6952167749404907, 0.7360100150108337, 0.6815402507781982, 0.6850422024726868, 0.6948668956756592, 0.7366043925285339, 0.9887906908988953, 0.7141929268836975, 1.0283169746398926, 0.6744396090507507, 0.7008095979690552, 0.6705199480056763, 1.0068327188491821, 1.008740782737732, 0.6766636967658997, 1.0133994817733765, 0.6891803741455078, 0.6830312013626099, 0.7065516710281372, 0.9917638897895813, 0.9883661270141602, 1.0145200490951538, 1.0068638324737549, 1.0102509260177612, 0.6916271448135376, 0.6831997036933899, 0.6966427564620972, 1.3236440420150757, 1.0217466354370117, 1.3182493448257446, 1.0162643194198608, 0.7000892162322998, 0.7094674706459045, 0.9381802678108215, 0.6848204135894775, 0.6839193105697632, 1.3251631259918213, 0.6912117004394531, 0.7238631844520569, 1.0022106170654297, 0.6842048764228821, 0.9343116283416748, 0.6760229468345642, 0.9910297989845276, 0.9644026160240173, 0.7025697827339172, 0.750960648059845, 0.6901333928108215, 0.6842938661575317, 0.9959642291069031, 0.9961928129196167, 1.0108447074890137, 1.009365439414978], \"Term\": [\"ac\", \"acquired\", \"acting\", \"actually\", \"adapt\", \"adventure\", \"afford\", \"alarms\", \"analysis\", \"ancestors\", \"ancestral\", \"anyway\", \"articulate\", \"asians\", \"aspect\", \"aspects\", \"ass\", \"austria\", \"back\", \"bagel\", \"bar\", \"based\", \"benefit\", \"beverage\", \"biased\", \"bread\", \"bringing\", \"brown\", \"bumping\", \"car\", \"card\", \"cars\", \"cd\", \"celsius\", \"chanel\", \"chapter\", \"china\", \"chucking\", \"citizen\", \"city\", \"client\", \"cohort\", \"comfortable\", \"complicated\", \"couple\", \"cousin\", \"credit\", \"cultural\", \"culturally\", \"date\", \"days\", \"deepen\", \"didnt\", \"die\", \"different\", \"distance\", \"dli\", \"documentary\", \"dressed\", \"drinks\", \"dunno\", \"else\", \"embraced\", \"enemy\", \"energy\", \"english\", \"entrance\", \"even\", \"everything\", \"except\", \"experiences\", \"extend\", \"fact\", \"father\", \"feel\", \"females\", \"films\", \"finish\", \"first\", \"followed\", \"foreign\", \"fort\", \"gentrified\", \"get\", \"go\", \"going\", \"gold\", \"gosh\", \"got\", \"gotten\", \"grades\", \"greencard\", \"grow\", \"growing\", \"guess\", \"hasnt\", \"hates\", \"havent\", \"hear\", \"hence\", \"hints\", \"home\", \"honking\", \"huge\", \"impossible\", \"impulse\", \"impulses\", \"incidents\", \"indiana\", \"industry\", \"input\", \"intention\", \"internationally\", \"isnt\", \"isolating\", \"ive\", \"jeffs\", \"jersey\", \"journalists\", \"jurors\", \"kind\", \"land\", \"language\", \"launder\", \"leather\", \"lectures\", \"leg\", \"life\", \"likes\", \"limitation\", \"little\", \"looked\", \"looks\", \"lot\", \"main\", \"major\", \"make\", \"many\", \"may\", \"mean\", \"meaning\", \"migration\", \"mine\", \"move\", \"moved\", \"ms\", \"much\", \"munich\", \"n\", \"navigating\", \"negatives\", \"neighborhoods\", \"neutral\", \"news\", \"number\", \"observant\", \"oh\", \"one\", \"organic\", \"overpriced\", \"pedestrian\", \"people\", \"perfect\", \"photographer\", \"physically\", \"planes\", \"playstation\", \"practicing\", \"presence\", \"probably\", \"prospect\", \"protest\", \"quarter\", \"queue\", \"redo\", \"regular\", \"rigid\", \"risk\", \"romanticized\", \"running\", \"said\", \"satisfaction\", \"saw\", \"scotland\", \"scotlands\", \"scottish\", \"see\", \"seemed\", \"sells\", \"sexier\", \"shipping\", \"shoes\", \"showed\", \"situation\", \"something\", \"somethings\", \"somewhere\", \"sprint\", \"standing\", \"staying\", \"still\", \"story\", \"straw\", \"stuff\", \"summer\", \"surprised\", \"tells\", \"theres\", \"thing\", \"things\", \"thought\", \"time\", \"towns\", \"trade\", \"tray\", \"tribal\", \"two\", \"u\", \"uh\", \"undergrad\", \"underground\", \"understand\", \"variety\", \"vias\", \"vision\", \"visual\", \"visualization\", \"want\", \"wave\", \"week\", \"winning\", \"work\", \"workload\", \"workplace\", \"worth\", \"writer\", \"writing\", \"year\", \"years\", \"youd\", \"youre\"]}, \"R\": 30, \"lambda.step\": 0.01, \"plot.opts\": {\"xlab\": \"PC1\", \"ylab\": \"PC2\"}, \"topic.order\": [5, 1, 2, 3, 4, 6]};\n",
       "\n",
       "function LDAvis_load_lib(url, callback){\n",
       "  var s = document.createElement('script');\n",
       "  s.src = url;\n",
       "  s.async = true;\n",
       "  s.onreadystatechange = s.onload = callback;\n",
       "  s.onerror = function(){console.warn(\"failed to load library \" + url);};\n",
       "  document.getElementsByTagName(\"head\")[0].appendChild(s);\n",
       "}\n",
       "\n",
       "if(typeof(LDAvis) !== \"undefined\"){\n",
       "   // already loaded: just create the visualization\n",
       "   !function(LDAvis){\n",
       "       new LDAvis(\"#\" + \"ldavis_el1221403922233790321063908808\", ldavis_el1221403922233790321063908808_data);\n",
       "   }(LDAvis);\n",
       "}else if(typeof define === \"function\" && define.amd){\n",
       "   // require.js is available: use it to load d3/LDAvis\n",
       "   require.config({paths: {d3: \"https://cdnjs.cloudflare.com/ajax/libs/d3/3.5.5/d3.min\"}});\n",
       "   require([\"d3\"], function(d3){\n",
       "      window.d3 = d3;\n",
       "      LDAvis_load_lib(\"https://cdn.rawgit.com/bmabey/pyLDAvis/files/ldavis.v1.0.0.js\", function(){\n",
       "        new LDAvis(\"#\" + \"ldavis_el1221403922233790321063908808\", ldavis_el1221403922233790321063908808_data);\n",
       "      });\n",
       "    });\n",
       "}else{\n",
       "    // require.js not available: dynamically load d3 & LDAvis\n",
       "    LDAvis_load_lib(\"https://cdnjs.cloudflare.com/ajax/libs/d3/3.5.5/d3.min.js\", function(){\n",
       "         LDAvis_load_lib(\"https://cdn.rawgit.com/bmabey/pyLDAvis/files/ldavis.v1.0.0.js\", function(){\n",
       "                 new LDAvis(\"#\" + \"ldavis_el1221403922233790321063908808\", ldavis_el1221403922233790321063908808_data);\n",
       "            })\n",
       "         });\n",
       "}\n",
       "</script>"
      ],
      "text/plain": [
       "PreparedData(topic_coordinates=              x             y  topics  cluster       Freq\n",
       "topic                                                    \n",
       "4     -0.079322 -8.925819e-07       1        1  99.982765\n",
       "0      0.032683 -2.906800e-04       2        1   0.005775\n",
       "1     -0.008920  4.486574e-05       3        1   0.004024\n",
       "2      0.015631 -4.949936e-04       4        1   0.003086\n",
       "3      0.023509  7.601148e-04       5        1   0.002514\n",
       "5      0.016419 -1.841438e-05       6        1   0.001838, topic_info=     Category       Freq    Term      Total  loglift  logprob\n",
       "439   Default  67.000000    feel  67.000000  30.0000  30.0000\n",
       "685   Default  76.000000    kind  76.000000  29.0000  29.0000\n",
       "914   Default  65.000000  people  65.000000  28.0000  28.0000\n",
       "516   Default  46.000000      go  46.000000  27.0000  27.0000\n",
       "504   Default  43.000000     get  43.000000  26.0000  26.0000\n",
       "...       ...        ...     ...        ...      ...      ...\n",
       "1203   Topic6   0.000098   still  29.796410  -1.7221  -6.8905\n",
       "1359   Topic6   0.000100    want  39.911770  -1.9970  -6.8730\n",
       "516    Topic6   0.000101      go  46.963409  -2.1484  -6.8618\n",
       "1319   Topic6   0.000097      uh  28.535883  -1.6868  -6.8984\n",
       "817    Topic6   0.000096    much  28.509380  -1.6940  -6.9065\n",
       "\n",
       "[404 rows x 6 columns], token_table=      Topic      Freq      Term\n",
       "term                           \n",
       "3         1  0.718877        ac\n",
       "7         1  0.668632  acquired\n",
       "9         1  0.698585    acting\n",
       "12        1  1.013837  actually\n",
       "13        1  0.710093     adapt\n",
       "...     ...       ...       ...\n",
       "1415      1  0.684294   writing\n",
       "1418      1  0.995964      year\n",
       "1419      1  0.996193     years\n",
       "1425      1  1.010845      youd\n",
       "1429      1  1.009365     youre\n",
       "\n",
       "[241 rows x 3 columns], R=30, lambda_step=0.01, plot_opts={'xlab': 'PC1', 'ylab': 'PC2'}, topic_order=[5, 1, 2, 3, 4, 6])"
      ]
     },
     "execution_count": 127,
     "metadata": {
      "tags": []
     },
     "output_type": "execute_result"
    }
   ],
   "source": [
    "pyLDAvis.enable_notebook()\n",
    "vis = pyLDAvis.gensim.prepare(lda_model, corpus, dict)\n",
    "vis"
   ]
  }
 ],
 "metadata": {
  "colab": {
   "collapsed_sections": [],
   "name": "Untitled0.ipynb",
   "provenance": []
  },
  "kernelspec": {
   "display_name": "Python 3",
   "language": "python",
   "name": "python3"
  },
  "language_info": {
   "codemirror_mode": {
    "name": "ipython",
    "version": 3
   },
   "file_extension": ".py",
   "mimetype": "text/x-python",
   "name": "python",
   "nbconvert_exporter": "python",
   "pygments_lexer": "ipython3",
   "version": "3.5.6"
  }
 },
 "nbformat": 4,
 "nbformat_minor": 1
}
